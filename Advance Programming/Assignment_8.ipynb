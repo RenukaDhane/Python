{
 "cells": [
  {
   "cell_type": "markdown",
   "id": "e1d6733a",
   "metadata": {},
   "source": [
    "1.Given a sentence as txt, return True if any two adjacent words have this property: One word ends with a vowel, while the word immediately after begins with a vowel (a e i o u).\n",
    "\n",
    "Examples\n",
    "\n",
    "vowel_links(\"a very large appliance\") ➞ True\n",
    "\n",
    "vowel_links(\"go to edabit\") ➞ True\n",
    "\n",
    "vowel_links(\"an open fire\") ➞ False\n",
    "\n",
    "vowel_links(\"a sudden applause\") ➞ False\n"
   ]
  },
  {
   "cell_type": "code",
   "execution_count": 8,
   "id": "6930fa3e",
   "metadata": {},
   "outputs": [
    {
     "name": "stdout",
     "output_type": "stream",
     "text": [
      "True\n",
      "True\n",
      "False\n",
      "False\n"
     ]
    }
   ],
   "source": [
    "def vowel_links(txt):\n",
    "    vowels=['a','e','i','o','u']\n",
    "    txt_labels=txt.split(' ')\n",
    "    \n",
    "    for index,word in enumerate(txt_labels):\n",
    "        if index< len(txt_labels)-1:\n",
    "            if word[-1] in vowels and txt_labels[index+1][0] in vowels:\n",
    "                return True\n",
    "    return False\n",
    "    \n",
    "\n",
    "\n",
    "print(vowel_links(\"a very large appliance\"))\n",
    "print(vowel_links(\"go to edabit\"))\n",
    "print(vowel_links(\"an open fire\"))\n",
    "print(vowel_links(\"a sudden applause\") )"
   ]
  },
  {
   "cell_type": "markdown",
   "id": "5a104b18",
   "metadata": {},
   "source": [
    "2.You are given three inputs: a string, one letter, and a second letter.\n",
    "\n",
    "Write a function that returns True if every instance of the first letter occurs before every instance of the second letter.\n",
    "\n",
    "Examples\n",
    "\n",
    "first_before_second(\"a rabbit jumps joyfully\", \"a\", \"j\") ➞ True\n",
    "\n",
    "#Every instance of \"a\" occurs before every instance of \"j\".\n",
    "\n",
    "first_before_second(\"knaves knew about waterfalls\", \"k\", \"w\") ➞  True\n",
    "\n",
    "\n",
    "first_before_second(\"happy birthday\", \"a\", \"y\") ➞ False\n",
    "\n",
    "#The \"a\" in \"birthday\" occurs after the \"y\" in \"happy\".\n",
    "\n",
    "first_before_second(\"precarious kangaroos\", \"k\", \"a\") ➞ False\n"
   ]
  },
  {
   "cell_type": "code",
   "execution_count": 15,
   "id": "e50c8548",
   "metadata": {},
   "outputs": [
    {
     "name": "stdout",
     "output_type": "stream",
     "text": [
      "True\n",
      "True\n",
      "False\n",
      "False\n"
     ]
    }
   ],
   "source": [
    "def first_before_second(text,l1,l2):\n",
    "    letters=[l1,l2]\n",
    "    letter_seq=[]\n",
    "    for x in text:\n",
    "        if x==l1:\n",
    "            letter_seq.append(1)\n",
    "        elif x==l2:\n",
    "            letter_seq.append(2)\n",
    "    \n",
    "    \n",
    "    for i,n in enumerate(letter_seq):\n",
    "        if i < len(letter_seq)-1:\n",
    "            if n>letter_seq[i+1]:\n",
    "                return False\n",
    "        \n",
    "    return True\n",
    "        \n",
    "\n",
    "print(first_before_second(\"a rabbit jumps joyfully\", \"a\", \"j\"))\n",
    "print(first_before_second(\"knaves knew about waterfalls\", \"k\", \"w\"))\n",
    "print(first_before_second(\"happy birthday\", \"a\", \"y\"))\n",
    "print(first_before_second(\"precarious kangaroos\", \"k\", \"a\"))"
   ]
  },
  {
   "cell_type": "markdown",
   "id": "6dd13257",
   "metadata": {},
   "source": [
    "3.Create a function that returns the characters from a list or string r on odd or even positions, \n",
    "depending on the specifier s. The specifier will be \"odd\" for items on odd positions (1, 3, 5, ...)\n",
    "and \"even\" for items on even positions (2, 4, 6, ...).\n",
    "\n",
    "Examples\n",
    "\n",
    "char_at_pos([2, 4, 6, 8, 10], \"even\") ➞ [4, 8]\n",
    "#4 & 8 occupy the 2nd & 4th positions\n",
    "\n",
    "char_at_pos(\"EDABIT\", \"odd\") ➞ \"EAI\"\n",
    "#\"E\", \"A\" and \"I\" occupy the 1st, 3rd and 5th positions\n",
    "\n",
    "char_at_pos([\"A\", \"R\", \"B\", \"I\", \"T\", \"R\", \"A\", \"R\", \"I\", \"L\", \"Y\"], \"odd\") ➞ [\"A\", \"B\", \"T\", \"A\", \"I\", \"Y\"]\n"
   ]
  },
  {
   "cell_type": "code",
   "execution_count": 17,
   "id": "f0bf760b",
   "metadata": {},
   "outputs": [
    {
     "name": "stdout",
     "output_type": "stream",
     "text": [
      "[4, 8]\n",
      "EAI\n",
      "['A', 'B', 'T', 'A', 'I', 'Y']\n"
     ]
    }
   ],
   "source": [
    "def char_at_pos(list_items,position_type):\n",
    "    result=[]\n",
    "    if position_type==\"even\":\n",
    "        for i,val in enumerate(list_items,start=1):\n",
    "            if i%2==0:\n",
    "                result.append(val)\n",
    "                \n",
    "    elif position_type==\"odd\":\n",
    "        for i,val in enumerate(list_items,start=1):\n",
    "            if i%2!=0:\n",
    "                result.append(val)\n",
    "                \n",
    "    if type(list_items)==str:\n",
    "        return ''.join(result)\n",
    "    else:\n",
    "        return result\n",
    "\n",
    "print(char_at_pos([2, 4, 6, 8, 10], \"even\"))\n",
    "print(char_at_pos(\"EDABIT\", \"odd\"))\n",
    "print(char_at_pos([\"A\", \"R\", \"B\", \"I\", \"T\", \"R\", \"A\", \"R\", \"I\", \"L\", \"Y\"], \"odd\"))"
   ]
  },
  {
   "cell_type": "markdown",
   "id": "6d7617b9",
   "metadata": {},
   "source": [
    "4.Write a function that returns the greatest common divisor of all list elements. If the greatest common divisor is 1, return 1.\n",
    "\n",
    "Examples\n",
    "\n",
    "GCD([10, 20, 40]) ➞ 10\n",
    "\n",
    "GCD([1, 2, 3, 100]) ➞ 1\n",
    "\n",
    "GCD([1024, 192, 2048, 512]) ➞ 64\n"
   ]
  },
  {
   "cell_type": "code",
   "execution_count": 24,
   "id": "90d4a4b8",
   "metadata": {},
   "outputs": [
    {
     "name": "stdout",
     "output_type": "stream",
     "text": [
      "10\n",
      "1\n",
      "64\n"
     ]
    }
   ],
   "source": [
    "from functools import reduce\n",
    "\n",
    "def getFactors(num):\n",
    "    factors=set()\n",
    "    for x in range(1,num+1):\n",
    "        if num%x==0:\n",
    "            factors.add(x)\n",
    "    return factors\n",
    "    \n",
    "def GCD(num_list):\n",
    "    list_factors=[]\n",
    "    for n in num_list:\n",
    "        list_factors.append(getFactors(n))\n",
    "    common_fact_list=reduce(lambda x,y:x&y,list_factors)\n",
    "    return max(common_fact_list)\n",
    "    \n",
    "\n",
    "print(GCD([10, 20, 40]))\n",
    "print(GCD([1, 2, 3, 100]))\n",
    "print(GCD([1024, 192, 2048, 512]))"
   ]
  },
  {
   "cell_type": "markdown",
   "id": "4c51fcdb",
   "metadata": {},
   "source": [
    "5.A number/string is a palindrome if the digits/characters are the same when read both forward and backward. Examples include \"racecar\" and 12321. Given a positive number n, check if n or the binary representation of n is palindromic. Return the following:\n",
    "\n",
    "- \"Decimal only.\" if only n is a palindrome.\n",
    "- \"Binary only.\" if only the binary representation of n is a palindrome.\n",
    "- \"Decimal and binary.\" if both are palindromes.\n",
    "- \"Neither!\" if neither are palindromes.\n",
    "\n",
    "Examples\n",
    "\n",
    "palindrome_type(1306031) ➞ \"Decimal only.\"\n",
    "#decimal = 1306031\n",
    "#binary  = \"100111110110110101111\"\n",
    "\n",
    "palindrome_type(427787) ➞ \"Binary only.\"\n",
    "#decimal = 427787\n",
    "#binary  = \"1101000011100001011\"\n",
    "\n",
    "palindrome_type(313) ➞ \"Decimal and binary.\"\n",
    "#decimal = 313\n",
    "#binary  = 100111001\n",
    "\n",
    "palindrome_type(934) ➞ \"Neither!\"\n",
    "#decimal = 934\n",
    "#binary  = \"1110100110\"\n"
   ]
  },
  {
   "cell_type": "code",
   "execution_count": 27,
   "id": "a13b94dd",
   "metadata": {},
   "outputs": [
    {
     "name": "stdout",
     "output_type": "stream",
     "text": [
      "Decimal only.\n",
      "Binary only.\n",
      "Decimal and binary.\n",
      "Neither!\n"
     ]
    }
   ],
   "source": [
    "def palindrome_type(num):\n",
    "    num_str=str(num)\n",
    "    rev_num_str=num_str[::-1]\n",
    "    \n",
    "    binary_num=bin(num).replace('0b','')\n",
    "    rev_binary_num=binary_num[::-1]\n",
    "    \n",
    "    decimal_flag=False\n",
    "    binary_flag=False\n",
    "    \n",
    "    if num_str==rev_num_str:\n",
    "        decimal_flag=True\n",
    "        \n",
    "    if binary_num==rev_binary_num:\n",
    "        binary_flag=True\n",
    "        \n",
    "    if decimal_flag & binary_flag:\n",
    "        return \"Decimal and binary.\"\n",
    "    \n",
    "    elif decimal_flag:\n",
    "        return \"Decimal only.\"\n",
    "    \n",
    "    elif binary_flag:\n",
    "        return \"Binary only.\"\n",
    "    \n",
    "    else:\n",
    "        return \"Neither!\"\n",
    "    \n",
    "    \n",
    "print(palindrome_type(1306031) )\n",
    "print(palindrome_type(427787))\n",
    "print(palindrome_type(313))\n",
    "print(palindrome_type(934))"
   ]
  },
  {
   "cell_type": "code",
   "execution_count": null,
   "id": "371f88f1",
   "metadata": {},
   "outputs": [],
   "source": []
  }
 ],
 "metadata": {
  "kernelspec": {
   "display_name": "Python 3 (ipykernel)",
   "language": "python",
   "name": "python3"
  },
  "language_info": {
   "codemirror_mode": {
    "name": "ipython",
    "version": 3
   },
   "file_extension": ".py",
   "mimetype": "text/x-python",
   "name": "python",
   "nbconvert_exporter": "python",
   "pygments_lexer": "ipython3",
   "version": "3.9.12"
  }
 },
 "nbformat": 4,
 "nbformat_minor": 5
}
