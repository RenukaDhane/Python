{
 "cells": [
  {
   "cell_type": "markdown",
   "id": "7069b8cc",
   "metadata": {},
   "source": [
    "1.YouTube offers different playback speed options for users. This allows users to increase or decrease the speed of the video content. Given the actual duration and playback speed of the video, calculate the playback duration of the video.\n",
    "\n",
    "Examples\n",
    "\n",
    "playback_duration(\"00:30:00\", 2) ➞ \"00:15:00\"\n",
    "\n",
    "playback_duration(\"01:20:00\", 1.5) ➞ \"00:53:20\"\n",
    "\n",
    "playback_duration(\"51:20:09\", 0.5) ➞ \"102:40:18\"\n"
   ]
  },
  {
   "cell_type": "code",
   "execution_count": 12,
   "id": "9a4c2d02",
   "metadata": {},
   "outputs": [
    {
     "name": "stdout",
     "output_type": "stream",
     "text": [
      "00:15:00\n",
      "00:53:20\n",
      "102:40:18\n"
     ]
    }
   ],
   "source": [
    "def playback_duration(video_duration,speed):\n",
    "    \n",
    "    duration_list=video_duration.split(':')\n",
    "    time_seconds=int(duration_list[0])*60*60+int(duration_list[1])*60+int(duration_list[2])\n",
    "    speed_duration=time_seconds/speed\n",
    "    \n",
    "    hr=int(speed_duration//3600)\n",
    "    min=int((speed_duration%3600)//60)\n",
    "    sec=int((speed_duration%3600)%60)\n",
    "    \n",
    "    output_str=\"\"\n",
    "    if(hr <10):\n",
    "        output_str+=\"0\"+str(hr)+\":\"\n",
    "        \n",
    "    else:\n",
    "        output_str+=str(hr)+\":\"\n",
    "        \n",
    "    if(min<10):\n",
    "        output_str+=\"0\"+str(min)+\":\"\n",
    "    else:\n",
    "        output_str+=str(min)+\":\"\n",
    "        \n",
    "    if(sec<10):\n",
    "        output_str+=\"0\"+str(sec)\n",
    "    else:\n",
    "        output_str+=str(sec)\n",
    "    \n",
    "    return output_str\n",
    "\n",
    "\n",
    "print(playback_duration(\"00:30:00\", 2))\n",
    "print(playback_duration(\"01:20:00\", 1.5))\n",
    "print(playback_duration(\"51:20:09\", 0.5) )\n"
   ]
  },
  {
   "cell_type": "markdown",
   "id": "31ecfbc1",
   "metadata": {},
   "source": [
    "2.We needs your help to construct a building which will be a pile of n cubes. The cube at the bottom will have a volume of n^3, the cube above will have volume of (n-1)^3 and so on until the top which will have a volume of 1^3.\n",
    "\n",
    "Given the total volume m of the building, can you find the number of cubes n required for the building?\n",
    "\n",
    "In other words, you have to return an integer n such that:\n",
    "\n",
    "n^3 + (n-1)^3 + ... + 1^3 == m\n",
    "\n",
    "Return None if there is no such number.\n",
    "\n",
    "Examples\n",
    "\n",
    "pile_of_cubes(1071225) ➞ 45\n",
    "\n",
    "pile_of_cubes(4183059834009) ➞ 2022\n",
    "\n",
    "pile_of_cubes(16) ➞ None\n"
   ]
  },
  {
   "cell_type": "code",
   "execution_count": 14,
   "id": "f02f9278",
   "metadata": {},
   "outputs": [
    {
     "name": "stdout",
     "output_type": "stream",
     "text": [
      "45\n",
      "2022\n",
      "None\n"
     ]
    }
   ],
   "source": [
    "def pile_of_cubes(total_vol):\n",
    "    n=0\n",
    "    while total_vol>0:\n",
    "        n+=1\n",
    "        total_vol=total_vol-(n**3)\n",
    "        \n",
    "    \n",
    "    if total_vol==0:\n",
    "        return n\n",
    "    else:\n",
    "        return None\n",
    "    \n",
    "    \n",
    "print(pile_of_cubes(1071225) )\n",
    "print(pile_of_cubes(4183059834009))\n",
    "print(pile_of_cubes(16))"
   ]
  },
  {
   "cell_type": "markdown",
   "id": "bef39489",
   "metadata": {},
   "source": [
    "3.A fulcrum of a list is an integer such that all elements to the left of it and all elements to the right of it sum to the same value. Write a function that finds the fulcrum of a list.\n",
    "\n",
    "To illustrate:\n",
    "\n",
    "find_fulcrum([3, 1, 5, 2, 4, 6, -1]) ➞ 2\n",
    "// Since [3, 1, 5] and [4, 6, -1] both sum to 9\n",
    "\n",
    "Examples\n",
    "\n",
    "find_fulcrum([1, 2, 4, 9, 10, -10, -9, 3]) ➞ 4\n",
    "\n",
    "find_fulcrum([9, 1, 9]) ➞ 1\n",
    "\n",
    "find_fulcrum([7, -1, 0, -1, 1, 1, 2, 3]) ➞ 0\n",
    "\n",
    "find_fulcrum([8, 8, 8, 8]) ➞ -1\n"
   ]
  },
  {
   "cell_type": "code",
   "execution_count": 20,
   "id": "1e718db4",
   "metadata": {},
   "outputs": [
    {
     "name": "stdout",
     "output_type": "stream",
     "text": [
      "2\n",
      "4\n",
      "1\n",
      "0\n",
      "-1\n"
     ]
    }
   ],
   "source": [
    "def find_fulcrum(num_list):\n",
    "    for i,val in enumerate(num_list):\n",
    "        if i==0:\n",
    "            continue\n",
    "        \n",
    "        if sum(num_list[:i])==sum(num_list[i+1:]):\n",
    "            return val\n",
    "        \n",
    "    return -1  \n",
    "\n",
    "\n",
    "print(find_fulcrum([3, 1, 5, 2, 4, 6, -1]))\n",
    "print(find_fulcrum([1, 2, 4, 9, 10, -10, -9, 3]))\n",
    "print(find_fulcrum([9, 1, 9]))\n",
    "print(find_fulcrum([7, -1, 0, -1, 1, 1, 2, 3]))\n",
    "print(find_fulcrum([8, 8, 8, 8]))"
   ]
  },
  {
   "cell_type": "markdown",
   "id": "b0af15b5",
   "metadata": {},
   "source": [
    "4.Given a list of integers representing the color of each sock, determine how many pairs of socks with matching colors there are. For example, there are 7 socks with colors [1, 2, 1, 2, 1, 3, 2]. There is one pair of color 1 and one of color 2. There are three odd socks left, one of each color. The number of pairs is 2.\n",
    "\n",
    "Create a function that returns an integer representing the number of matching pairs of socks that are available.\n",
    "\n",
    "Examples\n",
    "\n",
    "sock_merchant([10, 20, 20, 10, 10, 30, 50, 10, 20]) ➞ 3\n",
    "\n",
    "sock_merchant([50, 20, 30, 90, 30, 20, 50, 20, 90]) ➞ 4\n",
    "\n",
    "sock_merchant([]) ➞ 0\n"
   ]
  },
  {
   "cell_type": "code",
   "execution_count": 22,
   "id": "6738e57f",
   "metadata": {},
   "outputs": [
    {
     "name": "stdout",
     "output_type": "stream",
     "text": [
      "3\n",
      "4\n",
      "0\n"
     ]
    }
   ],
   "source": [
    "def sock_merchant(num_list):\n",
    "    num_set=set(num_list)\n",
    "    pairs=0\n",
    "    for num in num_set:\n",
    "        num_count=num_list.count(num)\n",
    "        pairs+=num_count//2\n",
    "        \n",
    "    return pairs\n",
    "\n",
    "\n",
    "print(sock_merchant([10, 20, 20, 10, 10, 30, 50, 10, 20]))\n",
    "print(sock_merchant([50, 20, 30, 90, 30, 20, 50, 20, 90]))\n",
    "print(sock_merchant([]))"
   ]
  },
  {
   "cell_type": "markdown",
   "id": "a72dc2d1",
   "metadata": {},
   "source": [
    "5.Create a function that takes a string containing integers as well as other characters and return the sum of the negative integers only.\n",
    "\n",
    "Examples\n",
    "\n",
    "negative_sum(\"-12 13%14&-11\") ➞ -23\n",
    "\n",
    "#-12 + -11 = -23\n",
    "\n",
    "negative_sum(\"22 13%14&-11-22 13 12\") ➞ -33\n",
    "\n",
    "#-11 + -22 = -33\n"
   ]
  },
  {
   "cell_type": "code",
   "execution_count": 33,
   "id": "ffe8be50",
   "metadata": {},
   "outputs": [
    {
     "name": "stdout",
     "output_type": "stream",
     "text": [
      "-23\n",
      "-33\n"
     ]
    }
   ],
   "source": [
    "import re\n",
    "def negative_sum(text):\n",
    "    negatives=re.findall(r'-\\d+',text)\n",
    "    sum=0\n",
    "    for n in negatives:\n",
    "        sum+=int(n)\n",
    "    \n",
    "    return sum\n",
    "    \n",
    "print(negative_sum(\"-12 13%14&-11\"))\n",
    "print(negative_sum(\"22 13%14&-11-22 13 12\"))"
   ]
  },
  {
   "cell_type": "code",
   "execution_count": null,
   "id": "7d9ceca5",
   "metadata": {},
   "outputs": [],
   "source": []
  }
 ],
 "metadata": {
  "kernelspec": {
   "display_name": "Python 3 (ipykernel)",
   "language": "python",
   "name": "python3"
  },
  "language_info": {
   "codemirror_mode": {
    "name": "ipython",
    "version": 3
   },
   "file_extension": ".py",
   "mimetype": "text/x-python",
   "name": "python",
   "nbconvert_exporter": "python",
   "pygments_lexer": "ipython3",
   "version": "3.9.12"
  }
 },
 "nbformat": 4,
 "nbformat_minor": 5
}
