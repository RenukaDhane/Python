{
 "cells": [
  {
   "cell_type": "markdown",
   "id": "fd9d6e50",
   "metadata": {},
   "source": [
    "1.Create a function that takes a number n (integer greater than zero) as an argument, and returns 2 if n is odd and 8 if n is even.\n",
    "\n",
    "You can only use the following arithmetic operators: addition of numbers +, subtraction of numbers -, multiplication of number *, division of number /, and exponentiation **.\n",
    "\n",
    "You are not allowed to use any other methods in this challenge (i.e. no if statements, comparison operators, etc).\n",
    "\n",
    "Examples\n",
    "\n",
    "f(1) ➞ 2\n",
    "\n",
    "f(2) ➞ 8\n",
    "\n",
    "f(3) ➞ 2\n"
   ]
  },
  {
   "cell_type": "code",
   "execution_count": 22,
   "id": "dc390e97",
   "metadata": {},
   "outputs": [
    {
     "name": "stdout",
     "output_type": "stream",
     "text": [
      "2\n",
      "8\n",
      "2\n"
     ]
    }
   ],
   "source": [
    "def f(num):\n",
    "    x=num & 1\n",
    "    dic={1:2,0:8}\n",
    "    return dic[x]\n",
    "\n",
    "\n",
    "print(f(1))\n",
    "print(f(2))\n",
    "print(f(3))"
   ]
  },
  {
   "cell_type": "markdown",
   "id": "459de055",
   "metadata": {},
   "source": [
    "2.Create a function that returns the majority vote in a list. A majority vote is an element that occurs > N/2 times in a list (where N is the length of the list).\n",
    "\n",
    "Examples\n",
    "\n",
    "majority_vote([\"A\", \"A\", \"B\"]) ➞ \"A\"\n",
    "\n",
    "majority_vote([\"A\", \"A\", \"A\", \"B\", \"C\", \"A\"]) ➞ \"A\"\n",
    "\n",
    "majority_vote([\"A\", \"B\", \"B\", \"A\", \"C\", \"C\"]) ➞ None\n"
   ]
  },
  {
   "cell_type": "code",
   "execution_count": 24,
   "id": "5dc3d338",
   "metadata": {},
   "outputs": [
    {
     "name": "stdout",
     "output_type": "stream",
     "text": [
      "A\n",
      "A\n",
      "None\n"
     ]
    }
   ],
   "source": [
    "def majority_vote(list_votes):\n",
    "    #get unique elements\n",
    "    unique_elements=set(list_votes)\n",
    "    N=len(list_votes)\n",
    "    dict_votes=dict()\n",
    "    \n",
    "    #get count for each element\n",
    "    for ele in unique_elements:\n",
    "        dict_votes[ele]=list_votes.count(ele)\n",
    "    \n",
    "    #check each element for majority\n",
    "    for key,val in dict_votes.items():\n",
    "        if val>N/2:\n",
    "            return key\n",
    "    \n",
    "    return None\n",
    "\n",
    "\n",
    "print(majority_vote([\"A\", \"A\", \"B\"]))\n",
    "print(majority_vote([\"A\", \"A\", \"A\", \"B\", \"C\", \"A\"]))\n",
    "print(majority_vote([\"A\", \"B\", \"B\", \"A\", \"C\", \"C\"]))"
   ]
  },
  {
   "cell_type": "code",
   "execution_count": null,
   "id": "c1165d08",
   "metadata": {},
   "outputs": [],
   "source": [
    "3.Create a function that takes a string txt and censors any word from a given list lst. The text removed must be replaced by the given character char.\n",
    "\n",
    "Examples\n",
    "\n",
    "censor_string(\"Today is a Wednesday!\", [\"Today\", \"a\"], \"-\") ➞ \"----- is - Wednesday!\"\n",
    "\n",
    "censor_string(\"The cow jumped over the moon.\", [\"cow\", \"over\"], \"*\"), \"The *** jumped **** the moon.\")\n",
    "\n",
    "censor_string(\"Why did the chicken cross the road?\", [\"Did\", \"chicken\", \"road\"], \"*\") ➞ \"Why *** the ******* cross the ****?\"\n"
   ]
  },
  {
   "cell_type": "code",
   "execution_count": 30,
   "id": "b9fa1029",
   "metadata": {},
   "outputs": [
    {
     "name": "stdout",
     "output_type": "stream",
     "text": [
      "----- is - Wednesday!\n",
      "The *** jumped **** the moon.\n",
      "Why *** the ******* cross the ****?\n"
     ]
    }
   ],
   "source": [
    "def censor_string(text,list_words,symbol):\n",
    "    for word in list_words:\n",
    "        replace_with=symbol*len(word)\n",
    "        text=text.replace(word,word.lower(),1)\n",
    "        text=text.replace(word.lower(),replace_with,1)\n",
    "    return text\n",
    "\n",
    "\n",
    "print(censor_string(\"Today is a Wednesday!\", [\"Today\", \"a\"], \"-\"))\n",
    "print(censor_string(\"The cow jumped over the moon.\", [\"cow\", \"over\"], \"*\"))\n",
    "print(censor_string(\"Why did the chicken cross the road?\", [\"Did\", \"chicken\", \"road\"], \"*\"))"
   ]
  },
  {
   "cell_type": "markdown",
   "id": "aa68702b",
   "metadata": {},
   "source": [
    "4.In mathematics a Polydivisible Number (or magic number) is a number in a given number base with digits abcde... that has the following properties:\n",
    "\n",
    "-  Its first digit a is not 0.\n",
    "- The number formed by its first two digits ab is a multiple of 2.\n",
    "- The number formed by its first three digits abc is a multiple of 3.\n",
    "- The number formed by its first four digits abcd is a multiple of 4.\n",
    "\n",
    "Create a function which takes an integer n and returns True if the given number is a Polydivisible Number and False otherwise.\n",
    "\n",
    "Examples\n",
    "\n",
    "is_polydivisible(1232) ➞ True\n",
    "# 1     / 1 = 1\n",
    "# 12    / 2 = 6\n",
    "# 123   / 3 = 41\n",
    "# 1232  / 4 = 308\n",
    "\n",
    "is_polydivisible(123220 ) ➞ False\n",
    "# 1   / 1 = 1\n",
    "# 12   / 2 = 6\n",
    "# 123   / 3 = 41\n",
    "# 1232   / 4 = 308\n",
    "# 12322   / 5 = 2464.4         # Not a Whole Number\n",
    "# 123220   /6 = 220536.333...  # Not a Whole Number\n",
    "\n"
   ]
  },
  {
   "cell_type": "code",
   "execution_count": 33,
   "id": "ee6ca40b",
   "metadata": {},
   "outputs": [
    {
     "name": "stdout",
     "output_type": "stream",
     "text": [
      "True\n",
      "False\n"
     ]
    }
   ],
   "source": [
    "def is_polydivisible(num):\n",
    "    num_str=str(num)\n",
    "    digits=len(num_str)\n",
    "    i=0\n",
    "    flag=True\n",
    "    while(i<digits):\n",
    "        temp=num_str[:i+1]\n",
    "        if(int(temp)%(i+1))!=0:\n",
    "            flag=False\n",
    "            break\n",
    "            \n",
    "        i=i+1\n",
    "    \n",
    "    return flag\n",
    "\n",
    "\n",
    "print(is_polydivisible(1232))\n",
    "print(is_polydivisible(123220))"
   ]
  },
  {
   "cell_type": "markdown",
   "id": "c86140ac",
   "metadata": {},
   "source": [
    "5.Create a function that takes a list of numbers and returns the sum of all prime numbers in the list.\n",
    "\n",
    "Examples\n",
    "\n",
    "sum_primes([1, 2, 3, 4, 5, 6, 7, 8, 9, 10]) ➞ 17\n",
    "\n",
    "sum_primes([2, 3, 4, 11, 20, 50, 71]) ➞ 87\n",
    "\n",
    "sum_primes([]) ➞ None\n"
   ]
  },
  {
   "cell_type": "code",
   "execution_count": 37,
   "id": "7a6a4d89",
   "metadata": {},
   "outputs": [
    {
     "name": "stdout",
     "output_type": "stream",
     "text": [
      "17\n",
      "87\n",
      "None\n"
     ]
    }
   ],
   "source": [
    "import math\n",
    "def sum_primes(num_list):\n",
    "    if len(num_list)==0:\n",
    "        return None\n",
    "    \n",
    "    prime_list=[]\n",
    "    \n",
    "    for num in num_list:\n",
    "        prime_flag=True\n",
    "        \n",
    "        if num==1:\n",
    "            prime_flag=False\n",
    "        else:\n",
    "            for x in range(2,(round(math.sqrt(num)))+1):\n",
    "            \n",
    "                if num%x==0:\n",
    "                    prime_flag=False\n",
    "                    break\n",
    "                \n",
    "            \n",
    "        if prime_flag==True:\n",
    "            prime_list.append(num)\n",
    "    \n",
    "    return sum(prime_list)\n",
    "\n",
    "\n",
    "print(sum_primes([1, 2, 3, 4, 5, 6, 7, 8, 9, 10]))\n",
    "print(sum_primes([2, 3, 4, 11, 20, 50, 71]))\n",
    "print(sum_primes([]))                       "
   ]
  },
  {
   "cell_type": "code",
   "execution_count": null,
   "id": "a1a6d2c0",
   "metadata": {},
   "outputs": [],
   "source": []
  }
 ],
 "metadata": {
  "kernelspec": {
   "display_name": "Python 3 (ipykernel)",
   "language": "python",
   "name": "python3"
  },
  "language_info": {
   "codemirror_mode": {
    "name": "ipython",
    "version": 3
   },
   "file_extension": ".py",
   "mimetype": "text/x-python",
   "name": "python",
   "nbconvert_exporter": "python",
   "pygments_lexer": "ipython3",
   "version": "3.9.12"
  }
 },
 "nbformat": 4,
 "nbformat_minor": 5
}
