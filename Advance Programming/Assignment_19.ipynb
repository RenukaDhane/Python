{
 "cells": [
  {
   "cell_type": "markdown",
   "id": "735e959e",
   "metadata": {},
   "source": [
    "1.Create a checker board generator, which takes as inputs n and 2 elements to generate an n x n checkerboard with those two elements as alternating squares.\n",
    "\n",
    "Examples\n",
    "\n",
    "checker_board(2, 7, 6) ➞ [\n",
    "  [7, 6],\n",
    "  [6, 7]\n",
    "]\n",
    "\n",
    "checker_board(3, \"A\", \"B\") ➞ [\n",
    "  [\"A\", \"B\", \"A\"],\n",
    "  [\"B\", \"A\", \"B\"],\n",
    "  [\"A\", \"B\", \"A\"]\n",
    "]\n",
    "\n",
    "checker_board(4, \"c\", \"d\") ➞ [\n",
    "  [\"c\", \"d\", \"c\", \"d\"],\n",
    "  [\"d\", \"c\", \"d\", \"c\"],\n",
    "  [\"c\", \"d\", \"c\", \"d\"],\n",
    "  [\"d\", \"c\", \"d\", \"c\"]\n",
    "]\n",
    "\n",
    "checker_board(4, \"c\", \"c\") ➞ \"invalid\"\n"
   ]
  },
  {
   "cell_type": "code",
   "execution_count": 21,
   "id": "3d78ed9b",
   "metadata": {},
   "outputs": [],
   "source": [
    "def checker_board(n,ele1,ele2):\n",
    "    pen_flag=ele2\n",
    "    output_list=[]\n",
    "    \n",
    "    \n",
    "    if ele1==ele2:\n",
    "        return \"invalid\"\n",
    "    \n",
    "    for i in range(0,n):\n",
    "        sub_list=[]\n",
    "        for j in range(0,n):\n",
    "            \n",
    "            if pen_flag==ele1:\n",
    "                sub_list.append(ele2)\n",
    "                pen_flag=ele2\n",
    "                \n",
    "            elif pen_flag==ele2:\n",
    "                sub_list.append(ele1)\n",
    "                pen_flag=ele1\n",
    "                \n",
    "        output_list.append(sub_list)\n",
    "        if n%2==0:\n",
    "            pen_flag=sub_list[-2]\n",
    "            \n",
    "            \n",
    "    return output_list           "
   ]
  },
  {
   "cell_type": "code",
   "execution_count": 22,
   "id": "dbd0fd85",
   "metadata": {},
   "outputs": [
    {
     "data": {
      "text/plain": [
       "[[7, 6], [6, 7]]"
      ]
     },
     "execution_count": 22,
     "metadata": {},
     "output_type": "execute_result"
    }
   ],
   "source": [
    "checker_board(2, 7, 6) "
   ]
  },
  {
   "cell_type": "code",
   "execution_count": 23,
   "id": "7f3d72dc",
   "metadata": {},
   "outputs": [
    {
     "data": {
      "text/plain": [
       "[['A', 'B', 'A'], ['B', 'A', 'B'], ['A', 'B', 'A']]"
      ]
     },
     "execution_count": 23,
     "metadata": {},
     "output_type": "execute_result"
    }
   ],
   "source": [
    "checker_board(3, \"A\", \"B\")"
   ]
  },
  {
   "cell_type": "code",
   "execution_count": 24,
   "id": "157723a3",
   "metadata": {},
   "outputs": [
    {
     "data": {
      "text/plain": [
       "[['c', 'd', 'c', 'd'],\n",
       " ['d', 'c', 'd', 'c'],\n",
       " ['c', 'd', 'c', 'd'],\n",
       " ['d', 'c', 'd', 'c']]"
      ]
     },
     "execution_count": 24,
     "metadata": {},
     "output_type": "execute_result"
    }
   ],
   "source": [
    "checker_board(4, \"c\", \"d\") "
   ]
  },
  {
   "cell_type": "markdown",
   "id": "cb7b32f2",
   "metadata": {},
   "source": [
    "2.A string is an almost-palindrome if, by changing only one character, you can make it a palindrome. Create a function that returns True if a string is an almost-palindrome and False otherwise.\n",
    "\n",
    "Examples\n",
    "\n",
    "almost_palindrome(\"abcdcbg\") ➞ True\n",
    "#Transformed to \"abcdcba\" by changing \"g\" to \"a\".\n",
    "\n",
    "almost_palindrome(\"abccia\") ➞ True\n",
    "#Transformed to \"abccba\" by changing \"i\" to \"b\".\n",
    "\n",
    "almost_palindrome(\"abcdaaa\") ➞ False\n",
    "#Can't be transformed to a palindrome in exactly 1 turn.\n",
    "\n",
    "almost_palindrome(\"1234312\") ➞ False\n"
   ]
  },
  {
   "cell_type": "code",
   "execution_count": 31,
   "id": "da250bc7",
   "metadata": {},
   "outputs": [
    {
     "name": "stdout",
     "output_type": "stream",
     "text": [
      "True\n",
      "True\n",
      "False\n",
      "False\n"
     ]
    }
   ],
   "source": [
    "def almost_palindrome(txt):\n",
    "    rev_txt=txt[::-1]\n",
    "    count=0\n",
    "    if txt!=rev_txt and len(txt)==len(rev_txt):\n",
    "        \n",
    "        for i in range(len(txt)):\n",
    "            if txt[i]!=rev_txt[i]:\n",
    "                count+=1\n",
    "    if count==2:\n",
    "        return True\n",
    "    else:\n",
    "        return False\n",
    "    \n",
    "    \n",
    "    \n",
    "print(almost_palindrome(\"abcdcbg\") )\n",
    "print(almost_palindrome(\"abccia\"))\n",
    "print(almost_palindrome(\"abcdaaa\"))\n",
    "print(almost_palindrome(\"1234312\"))\n"
   ]
  },
  {
   "cell_type": "markdown",
   "id": "31823997",
   "metadata": {},
   "source": [
    "3.Create a function that finds how many prime numbers there are, up to the given integer.\n",
    "\n",
    "Examples\n",
    "\n",
    "prime_numbers(10) ➞ 4\n",
    "#2, 3, 5 and 7\n",
    "\n",
    "prime_numbers(20) ➞ 8\n",
    "#2, 3, 5, 7, 11, 13, 17 and 19\n",
    "\n",
    "prime_numbers(30) ➞ 10\n",
    "#2, 3, 5, 7, 11, 13, 17, 19, 23 and 29\n"
   ]
  },
  {
   "cell_type": "code",
   "execution_count": 38,
   "id": "aaad928d",
   "metadata": {},
   "outputs": [],
   "source": [
    "import math\n",
    "def prime_numbers(n):\n",
    "    primes=[]\n",
    "    prime_flag=True\n",
    "    for x in range(1,n+1):\n",
    "        if x==1:\n",
    "            prime_flag=False\n",
    "        for i in range(2,round(math.sqrt(x))+1):\n",
    "            if x%i==0:\n",
    "                prime_flag=False\n",
    "                 \n",
    "        if  prime_flag:\n",
    "            primes.append(x)\n",
    "            \n",
    "        prime_flag=True\n",
    "        \n",
    "    return len(primes)        "
   ]
  },
  {
   "cell_type": "code",
   "execution_count": 39,
   "id": "c5a5138e",
   "metadata": {},
   "outputs": [
    {
     "data": {
      "text/plain": [
       "4"
      ]
     },
     "execution_count": 39,
     "metadata": {},
     "output_type": "execute_result"
    }
   ],
   "source": [
    "prime_numbers(10)"
   ]
  },
  {
   "cell_type": "code",
   "execution_count": 40,
   "id": "eca398cb",
   "metadata": {},
   "outputs": [
    {
     "data": {
      "text/plain": [
       "8"
      ]
     },
     "execution_count": 40,
     "metadata": {},
     "output_type": "execute_result"
    }
   ],
   "source": [
    "prime_numbers(20)"
   ]
  },
  {
   "cell_type": "code",
   "execution_count": 41,
   "id": "e84b01ad",
   "metadata": {},
   "outputs": [
    {
     "data": {
      "text/plain": [
       "10"
      ]
     },
     "execution_count": 41,
     "metadata": {},
     "output_type": "execute_result"
    }
   ],
   "source": [
    "prime_numbers(30)"
   ]
  },
  {
   "cell_type": "markdown",
   "id": "d52235a0",
   "metadata": {},
   "source": [
    "4.If today was Monday, in two days, it would be Wednesday.\n",
    "\n",
    "Create a function that takes in a list of days as input and the number of days to increment by. Return a list of days after n number of days has passed.\n",
    "\n",
    "Examples\n",
    "\n",
    "after_n_days([\"Thursday\", \"Monday\"], 4) ➞ [\"Monday\", \"Friday\"]\n",
    "\n",
    "after_n_days([\"Sunday\", \"Sunday\", \"Sunday\"], 1) ➞ [\"Monday\", \"Monday\", \"Monday\"]\n",
    "\n",
    "after_n_days([\"Monday\", \"Tuesday\", \"Friday\"], 1) ➞ [\"Tuesday\", \"Wednesday\", \"Saturday\"]\n"
   ]
  },
  {
   "cell_type": "code",
   "execution_count": 45,
   "id": "2acb74f2",
   "metadata": {},
   "outputs": [
    {
     "name": "stdout",
     "output_type": "stream",
     "text": [
      "['Monday', 'Friday']\n",
      "['Monday', 'Monday', 'Monday']\n",
      "['Tuesday', 'Wednesday', 'Saturday']\n"
     ]
    }
   ],
   "source": [
    "def after_n_days(days_list,n):\n",
    "    weekdays=(\"Sunday\",\"Monday\",\"Tuesday\",\"Wednesday\",\"Thursday\",\"Friday\",\"Saturday\")\n",
    "    output_list=[]\n",
    "    \n",
    "    for day in days_list:\n",
    "        index=weekdays.index(day)\n",
    "        if index+n>=len(weekdays):\n",
    "            updated_index=(index+n)-len(weekdays)\n",
    "        else:\n",
    "            updated_index=index+n\n",
    "            \n",
    "        output_list.append(weekdays[updated_index])\n",
    "        \n",
    "    return output_list\n",
    "\n",
    "print(after_n_days([\"Thursday\", \"Monday\"], 4))\n",
    "print(after_n_days([\"Sunday\", \"Sunday\", \"Sunday\"], 1))\n",
    "print(after_n_days([\"Monday\", \"Tuesday\", \"Friday\"], 1))"
   ]
  },
  {
   "cell_type": "markdown",
   "id": "91066177",
   "metadata": {},
   "source": [
    "5.You are in the process of creating a chat application and want to add an anonymous name feature. This anonymous name feature will create an alias that consists of two capitalized words beginning with the same letter as the users first name.\n",
    "\n",
    "Create a function that determines if the list of users is mapped to a list of anonymous names correctly.\n",
    "\n",
    "Examples\n",
    "\n",
    "is_correct_aliases([\"Adrian M.\", \"Harriet S.\", \"Mandy T.\"], [\"Amazing Artichoke\", \"Hopeful Hedgehog\", \"Marvelous Mouse\"]) ➞ True\n",
    "\n",
    "is_correct_aliases([\"Rachel F.\", \"Pam G.\", \"Fred Z.\", \"Nancy K.\"], [\"Reassuring Rat\", \"Peaceful Panda\", \"Fantastic Frog\", \"Notable Nickel\"]) ➞ True\n",
    "\n",
    "is_correct_aliases([\"Beth T.\"], [\"Brandishing Mimosa\"]) ➞ False\n",
    "#Both words in \"Brandishing Mimosa\" should begin with a \"B\" - \"Brandishing Beaver\" would do the trick.\n"
   ]
  },
  {
   "cell_type": "code",
   "execution_count": 49,
   "id": "1d6c9885",
   "metadata": {},
   "outputs": [
    {
     "name": "stdout",
     "output_type": "stream",
     "text": [
      "True\n",
      "True\n",
      "False\n"
     ]
    }
   ],
   "source": [
    "def is_correct_aliases(users,aliases):\n",
    "    correct_alias=True\n",
    "    for i in range(len(users)):\n",
    "        user_letter=users[i][0]\n",
    "        alias_names=aliases[i].split(\" \")\n",
    "        alias_letters=[]\n",
    "        for nm in alias_names:\n",
    "            alias_letters.append(nm[0])\n",
    "        \n",
    "        if user_letter.upper()==alias_letters[0]==alias_letters[1]:\n",
    "            correct_alias=True\n",
    "        else:\n",
    "            correct_alias=False\n",
    "            break\n",
    "            \n",
    "    return correct_alias\n",
    "        \n",
    "print(is_correct_aliases([\"Adrian M.\", \"Harriet S.\", \"Mandy T.\"], [\"Amazing Artichoke\", \"Hopeful Hedgehog\", \"Marvelous Mouse\"]))\n",
    "print(is_correct_aliases([\"Rachel F.\", \"Pam G.\", \"Fred Z.\", \"Nancy K.\"], [\"Reassuring Rat\", \"Peaceful Panda\", \"Fantastic Frog\", \"Notable Nickel\"]))\n",
    "print(is_correct_aliases([\"Beth T.\"], [\"Brandishing Mimosa\"]))"
   ]
  },
  {
   "cell_type": "code",
   "execution_count": null,
   "id": "b7a44d50",
   "metadata": {},
   "outputs": [],
   "source": []
  }
 ],
 "metadata": {
  "kernelspec": {
   "display_name": "Python 3 (ipykernel)",
   "language": "python",
   "name": "python3"
  },
  "language_info": {
   "codemirror_mode": {
    "name": "ipython",
    "version": 3
   },
   "file_extension": ".py",
   "mimetype": "text/x-python",
   "name": "python",
   "nbconvert_exporter": "python",
   "pygments_lexer": "ipython3",
   "version": "3.9.12"
  }
 },
 "nbformat": 4,
 "nbformat_minor": 5
}
