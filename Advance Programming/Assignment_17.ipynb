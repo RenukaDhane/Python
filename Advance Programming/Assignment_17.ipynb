{
 "cells": [
  {
   "cell_type": "code",
   "execution_count": null,
   "id": "ba435019",
   "metadata": {},
   "outputs": [],
   "source": [
    "1.Create a function that transposes a 2D matrix.\n",
    "\n",
    "Examples\n",
    "\n",
    "transpose_matrix([\n",
    "  [1, 1, 1],\n",
    "  [2, 2, 2],\n",
    "  [3, 3, 3]\n",
    "]) ➞ [\n",
    "  [1, 2, 3],\n",
    "  [1, 2, 3],\n",
    "  [1, 2, 3]\n",
    "]\n",
    "\n",
    "transpose_matrix([\n",
    "  [5, 5],\n",
    "  [6, 7],\n",
    "  [9, 1]\n",
    "]) ➞ [\n",
    "  [5, 6, 9],\n",
    "  [5, 7, 1]\n",
    "]\n"
   ]
  },
  {
   "cell_type": "code",
   "execution_count": 6,
   "id": "634c505e",
   "metadata": {},
   "outputs": [
    {
     "data": {
      "text/plain": [
       "[[1, 2, 3], [1, 2, 3], [1, 2, 3]]"
      ]
     },
     "execution_count": 6,
     "metadata": {},
     "output_type": "execute_result"
    }
   ],
   "source": [
    "import numpy as np\n",
    "def transpose_matrix(matrix):\n",
    "    matrix=np.array(matrix)\n",
    "    return (matrix.transpose()).tolist()\n",
    "\n",
    "    \n",
    "transpose_matrix([\n",
    "  [1, 1, 1],\n",
    "  [2, 2, 2],\n",
    "  [3, 3, 3]\n",
    "])"
   ]
  },
  {
   "cell_type": "markdown",
   "id": "d63d271b",
   "metadata": {},
   "source": [
    "2.Create a function that determines whether a string is a valid hex code.\n",
    "\n",
    "A hex code must begin with a pound key # and is exactly 6 characters in length. Each character must be a digit from 0-9 or an alphabetic character from A-F. All alphabetic characters may be uppercase or lowercase.\n",
    "\n",
    "Examples\n",
    "\n",
    "is_valid_hex_code(\"#CD5C5C\") ➞ True\n",
    "\n",
    "is_valid_hex_code(\"#EAECEE\") ➞ True\n",
    "\n",
    "is_valid_hex_code(\"#eaecee\") ➞ True\n",
    "\n",
    "is_valid_hex_code(\"#CD5C58C\") ➞ False\n",
    "#Length exceeds 6\n",
    "\n",
    "is_valid_hex_code(\"#CD5C5Z\") ➞ False\n",
    "#Not all alphabetic characters in A-F\n",
    "\n",
    "is_valid_hex_code(\"#CD5C&C\") ➞ False\n",
    "#Contains unacceptable character\n",
    "\n",
    "is_valid_hex_code(\"CD5C5C\") ➞ False\n",
    "#Missing #\n"
   ]
  },
  {
   "cell_type": "code",
   "execution_count": 14,
   "id": "76051d50",
   "metadata": {},
   "outputs": [
    {
     "name": "stdout",
     "output_type": "stream",
     "text": [
      "\n",
      "True\n",
      "\n",
      "True\n",
      "\n",
      "True\n",
      "\n",
      "False\n",
      "\n",
      "False\n",
      "\n",
      "False\n",
      "\n",
      "False\n"
     ]
    }
   ],
   "source": [
    "import re\n",
    "def is_valid_hex_code(txt):\n",
    "    pattern=\"^#[a-fA-F0-9]{6}$\"\n",
    "    result_obj =re.search(pattern, txt)\n",
    "    print()\n",
    "    if result_obj==None:\n",
    "        return False\n",
    "    else:\n",
    "        return True\n",
    "    \n",
    "print(is_valid_hex_code(\"#CD5C5C\") )\n",
    "print(is_valid_hex_code(\"#EAECEE\") )\n",
    "print(is_valid_hex_code(\"#eaecee\"))\n",
    "print(is_valid_hex_code(\"#CD5C58C\"))\n",
    "print(is_valid_hex_code(\"#CD5C5Z\") )\n",
    "print(is_valid_hex_code(\"#CD5C&C\"))\n",
    "print(is_valid_hex_code(\"CD5C5C\"))"
   ]
  },
  {
   "cell_type": "markdown",
   "id": "2efb2de9",
   "metadata": {},
   "source": [
    "3.Given a list of math equations (given as strings), return the percentage of correct answers as a string. Round to the nearest whole number.\n",
    "\n",
    "Examples\n",
    "\n",
    "mark_maths([\"2+2=4\", \"3+2=5\", \"10-3=3\", \"5+5=10\"]) ➞ \"75%\"\n",
    "\n",
    "mark_maths([\"1-2=-2\"]), \"0%\"\n",
    "\n",
    "mark_maths([\"2+3=5\", \"4+4=9\", \"3-1=2\"]) ➞ \"67%\"\n"
   ]
  },
  {
   "cell_type": "code",
   "execution_count": 19,
   "id": "a62f525a",
   "metadata": {},
   "outputs": [],
   "source": [
    "def mark_maths(list_eqs):\n",
    "    counter=0\n",
    "    total=len(list_eqs)\n",
    "    for eq in list_eqs:\n",
    "        sub_list=eq.split('=')\n",
    "        if eval(sub_list[0])==int(sub_list[1]):\n",
    "            counter+=1\n",
    "    \n",
    "    return str(round((counter/total)*100))+\"%\"\n",
    "\n"
   ]
  },
  {
   "cell_type": "code",
   "execution_count": 20,
   "id": "40c1df08",
   "metadata": {},
   "outputs": [
    {
     "data": {
      "text/plain": [
       "'75%'"
      ]
     },
     "execution_count": 20,
     "metadata": {},
     "output_type": "execute_result"
    }
   ],
   "source": [
    "mark_maths([\"2+2=4\", \"3+2=5\", \"10-3=3\", \"5+5=10\"]) "
   ]
  },
  {
   "cell_type": "code",
   "execution_count": 21,
   "id": "34d91b35",
   "metadata": {},
   "outputs": [
    {
     "data": {
      "text/plain": [
       "'0%'"
      ]
     },
     "execution_count": 21,
     "metadata": {},
     "output_type": "execute_result"
    }
   ],
   "source": [
    "mark_maths([\"1-2=-2\"])"
   ]
  },
  {
   "cell_type": "code",
   "execution_count": 22,
   "id": "7141d811",
   "metadata": {},
   "outputs": [
    {
     "data": {
      "text/plain": [
       "'67%'"
      ]
     },
     "execution_count": 22,
     "metadata": {},
     "output_type": "execute_result"
    }
   ],
   "source": [
    "mark_maths([\"2+3=5\", \"4+4=9\", \"3-1=2\"])"
   ]
  },
  {
   "cell_type": "markdown",
   "id": "39da6304",
   "metadata": {},
   "source": [
    "4.There are two players, Alice and Bob, each with a 3-by-3 grid. A referee tells Alice to fill out one particular row in the grid (say the second row) by putting either a 1 or a 0 in each box, such that the sum of the numbers in that row is odd. The referee tells Bob to fill out one column in the grid (say the first column) by putting either a 1 or a 0 in each box, such that the sum of the numbers in that column is even.\n",
    "\n",
    "Alice and Bob win the game if Alice’s numbers give an odd sum, Bob’s give an even sum, and (most important) they’ve each written down the same number in the one square where their row and column intersect.\n",
    "\n",
    "Examples\n",
    "\n",
    "magic_square_game([2, \"100\"], [1, \"101\"]) ➞ False\n",
    "\n",
    "magic_square_game([2, \"001\"], [1, \"101\"]) ➞ True\n",
    "\n",
    "magic_square_game([3, \"111\"], [2, \"011\"]) ➞ True\n",
    "\n",
    "magic_square_game([1, \"010\"], [3, \"101\"]) ➞ False\n",
    "\n",
    "#Two lists, Alice [row, \"her choice\"], Bob [column, \"his choice\"]\n"
   ]
  },
  {
   "cell_type": "code",
   "execution_count": 25,
   "id": "d2c551b2",
   "metadata": {},
   "outputs": [
    {
     "name": "stdout",
     "output_type": "stream",
     "text": [
      "False\n",
      "True\n",
      "True\n",
      "False\n"
     ]
    }
   ],
   "source": [
    "import numpy as np\n",
    "def magic_square_game(Alice,Bob):\n",
    "    row,her_choice=Alice\n",
    "    column,his_choice=Bob\n",
    "    \n",
    "    #Construct grid of Alice\n",
    "    Alice_grid=np.zeros([3, 3], dtype = int)\n",
    "    row_list=[]\n",
    "    for c in her_choice:\n",
    "        row_list.append(int(c))\n",
    "        \n",
    "    #Alice fills a row with her choice \n",
    "    Alice_grid[row-1]=row_list\n",
    "    \n",
    "    #Construct grid of Bob\n",
    "    Bob_grid=np.zeros([3, 3], dtype = int)\n",
    "    column_list=[]\n",
    "    for c in his_choice:\n",
    "        column_list.append(int(c))\n",
    "    \n",
    "    #Bob fills a column with his choice \n",
    "    for i in range(0,3):\n",
    "        Bob_grid[i][column-1]=column_list[i]\n",
    "    \n",
    "    #Conclusion\n",
    "    if Alice_grid[row-1][column-1]==Bob_grid[row-1][column-1] and sum(row_list)%2!=0 and sum(column_list)%2==0:\n",
    "        return True\n",
    "    else:\n",
    "        return False\n",
    "\n",
    "print(magic_square_game([2, \"100\"], [1, \"101\"]))\n",
    "print(magic_square_game([2, \"001\"], [1, \"101\"]))\n",
    "print(magic_square_game([3, \"111\"], [2, \"011\"]))\n",
    "print(magic_square_game([1, \"010\"], [3, \"101\"]))"
   ]
  },
  {
   "cell_type": "markdown",
   "id": "c1b8ce0d",
   "metadata": {},
   "source": [
    "5.From point A, an object is moving towards point B at constant velocity va (in km/hr). From point B, another object is moving towards point A at constant velocity vb (in km/hr). Knowing this and the distance between point A and B (in km), write a function that returns how much time passes until both objects meet.\n",
    "\n",
    "Format the output like this:\n",
    "\n",
    "\"2h 23min 34s\"\n",
    "\n",
    "Examples\n",
    "\n",
    "lets_meet(100, 10, 30) ➞ \"2h 30min 0s\"\n",
    "\n",
    "lets_meet(280, 70, 80) ➞ \"1h 52min 0s\"\n",
    "\n",
    "lets_meet(90, 75, 65) ➞ \"0h 38min 34s\"\n"
   ]
  },
  {
   "cell_type": "code",
   "execution_count": 62,
   "id": "ff4cb695",
   "metadata": {},
   "outputs": [
    {
     "name": "stdout",
     "output_type": "stream",
     "text": [
      "2h 30min 0s\n",
      "1h 52min 0s\n",
      "0h 38min 34s\n"
     ]
    }
   ],
   "source": [
    "from datetime import timedelta\n",
    "def lets_meet(d_ab,va,vb):\n",
    "    #formula d_ab=va * t+vb *t  assuming t is time to meet\n",
    "    v_sum=va+vb\n",
    "    time_to_meet_secs=(d_ab/v_sum)*3600\n",
    "    td_str = str(timedelta(seconds=time_to_meet_secs))\n",
    "    \n",
    "    x = td_str.split(':')\n",
    "    \n",
    "    return x[0]+\"h \"+x[1]+\"min \"+str(round(float(x[2])))+\"s\"\n",
    "\n",
    "\n",
    "print(lets_meet(100, 10, 30))\n",
    "print(lets_meet(280, 70, 80) )\n",
    "print(lets_meet(90, 75, 65))\n",
    "\n",
    "    "
   ]
  }
 ],
 "metadata": {
  "kernelspec": {
   "display_name": "Python 3 (ipykernel)",
   "language": "python",
   "name": "python3"
  },
  "language_info": {
   "codemirror_mode": {
    "name": "ipython",
    "version": 3
   },
   "file_extension": ".py",
   "mimetype": "text/x-python",
   "name": "python",
   "nbconvert_exporter": "python",
   "pygments_lexer": "ipython3",
   "version": "3.9.12"
  }
 },
 "nbformat": 4,
 "nbformat_minor": 5
}
