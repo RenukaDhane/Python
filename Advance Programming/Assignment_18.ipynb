{
 "cells": [
  {
   "cell_type": "markdown",
   "id": "bfbba062",
   "metadata": {},
   "source": [
    "1.A robot has been given a list of movement instructions. Each instruction is either left, right, up or down, followed by a distance to move. The robot starts at [0, 0]. You want to calculate where the robot will end up and return its final position as a list.\n",
    "\n",
    "To illustrate, if the robot is given the following instructions:\n",
    "\n",
    "[\"right 10\", \"up 50\", \"left 30\", \"down 10\"]\n",
    "\n",
    "It will end up 20 left and 40 up from where it started, so we return [-20, 40].\n",
    "\n",
    "Examples\n",
    "\n",
    "track_robot([\"right 10\", \"up 50\", \"left 30\", \"down 10\"]) ➞ [-20, 40]\n",
    "\n",
    "track_robot([]) ➞ [0, 0]\n",
    "// If there are no instructions, the robot doesn't move.\n",
    "\n",
    "track_robot([\"right 100\", \"right 100\", \"up 500\", \"up 10000\"]) ➞ [200, 10500]\n"
   ]
  },
  {
   "cell_type": "code",
   "execution_count": 60,
   "id": "f9b50ce8",
   "metadata": {},
   "outputs": [
    {
     "name": "stdout",
     "output_type": "stream",
     "text": [
      "[-20, 40]\n",
      "[0, 0]\n",
      "[200, 10500]\n"
     ]
    }
   ],
   "source": [
    "def track_robot(instructions):\n",
    "    x=0\n",
    "    y=0\n",
    "    for instruct in instructions:\n",
    "        direct,dist=instruct.split(\" \")\n",
    "        \n",
    "        if direct==\"right\":\n",
    "            x+=int(dist)\n",
    "            \n",
    "        elif direct==\"left\":\n",
    "            x-=int(dist)\n",
    "            \n",
    "        elif direct==\"up\":\n",
    "            y+=int(dist)\n",
    "            \n",
    "        elif direct==\"down\":\n",
    "            y-=int(dist)\n",
    "            \n",
    "    return [x,y]\n",
    "\n",
    "\n",
    "print(track_robot([\"right 10\", \"up 50\", \"left 30\", \"down 10\"]) )\n",
    "print(track_robot([]))\n",
    "print(track_robot([\"right 100\", \"right 100\", \"up 500\", \"up 10000\"]))"
   ]
  },
  {
   "cell_type": "markdown",
   "id": "c1c1156f",
   "metadata": {},
   "source": [
    "2.Write a function that will return the longest word in a sentence. In cases where more than one word is found, return the first one.\n",
    "\n",
    "Examples\n",
    "\n",
    "find_longest(\"A thing of beauty is a joy forever.\") ➞ \"forever\"\n",
    "\n",
    "find_longest(\"Forgetfulness is by all means powerless!\") ➞ \"forgetfulness\"\n",
    "\n",
    "find_longest(\"\\\"Strengths\\\" is the longest and most commonly used word that contains only a single vowel.\") ➞ \"strengths\"\n"
   ]
  },
  {
   "cell_type": "code",
   "execution_count": 57,
   "id": "9a18bf6f",
   "metadata": {},
   "outputs": [
    {
     "data": {
      "text/plain": [
       "'forever'"
      ]
     },
     "execution_count": 57,
     "metadata": {},
     "output_type": "execute_result"
    }
   ],
   "source": [
    "import re \n",
    "def find_longest(text):\n",
    "    list_words=re.split(\"\\W\",text)\n",
    "    sorted_words=sorted(list_words,key=lambda x:len(x))\n",
    "    return sorted_words[-1].lower()\n",
    "\n",
    "find_longest(\"A thing of beauty is a joy forever.\")"
   ]
  },
  {
   "cell_type": "code",
   "execution_count": 58,
   "id": "e3d165ea",
   "metadata": {},
   "outputs": [
    {
     "data": {
      "text/plain": [
       "'forgetfulness'"
      ]
     },
     "execution_count": 58,
     "metadata": {},
     "output_type": "execute_result"
    }
   ],
   "source": [
    "find_longest(\"Forgetfulness is by all means powerless!\")"
   ]
  },
  {
   "cell_type": "code",
   "execution_count": 59,
   "id": "491f5683",
   "metadata": {},
   "outputs": [
    {
     "data": {
      "text/plain": [
       "'strengths'"
      ]
     },
     "execution_count": 59,
     "metadata": {},
     "output_type": "execute_result"
    }
   ],
   "source": [
    "find_longest(\"\\\"Strengths\\\" is the longest and most commonly used word that contains only a single vowel.\")"
   ]
  },
  {
   "cell_type": "markdown",
   "id": "d6022735",
   "metadata": {},
   "source": [
    "3.Create a function to check if a candidate is qualified in an imaginary coding interview of an imaginary tech startup.\n",
    "\n",
    "The criteria for a candidate to be qualified in the coding interview is:\n",
    "\n",
    "   1. The candidate should have complete all the questions.\n",
    "   2. The maximum time given to complete the interview is 120 minutes.\n",
    "   3. The maximum time given for very easy questions is 5 minutes each.\n",
    "   4. The maximum time given for easy questions is 10 minutes each.\n",
    "   5. The maximum time given for medium questions is 15 minutes each.\n",
    "   6. The maximum time given for hard questions is 20 minutes each.\n",
    "\n",
    "If all the above conditions are satisfied, return \"qualified\", else return \"disqualified\".\n",
    "\n",
    "You will be given a list of time taken by a candidate to solve a particular question and the total time taken by the candidate to complete the interview.\n",
    "\n",
    "Given a list , in a true condition will always be in the format [very easy, very easy, easy, easy, medium, medium, hard, hard].\n",
    "\n",
    "The maximum time to complete the interview includes a buffer time of 20 minutes.\n",
    "\n",
    "Examples\n",
    "\n",
    "interview([5, 5, 10, 10, 15, 15, 20, 20], 120) ➞ \"qualified\"\n",
    "\n",
    "interview([2, 3, 8, 6, 5, 12, 10, 18], 64) ➞  \"qualified\"\n",
    "\n",
    "interview([5, 5, 10, 10, 25, 15, 20, 20], 120) ➞ \"disqualified\"\n",
    "#Exceeded the time limit for a medium question.\n",
    "\n",
    "interview([5, 5, 10, 10, 15, 15, 20], 120) ➞ \"disqualified\"\n",
    "#Did not complete all the questions.\n",
    "\n",
    "interview([5, 5, 10, 10, 15, 15, 20, 20], 130) ➞ \"disqualified\"\n",
    "#Solved all the questions in their respected time limits but exceeded the total time limit of the interview.\n"
   ]
  },
  {
   "cell_type": "code",
   "execution_count": 52,
   "id": "65ed1dfa",
   "metadata": {},
   "outputs": [],
   "source": [
    "def interview(time_taken_list,interview_time):\n",
    "    disqualify_flag=False\n",
    "    \n",
    "    if(len(time_taken_list))!=8:\n",
    "        disqualify_flag=True\n",
    "    \n",
    "    for i in range(0,len(time_taken_list)):\n",
    "        \n",
    "        if i in[0,1] and time_taken_list[i]>5:\n",
    "            disqualify_flag=True\n",
    "            \n",
    "        elif i in [2,3]  and time_taken_list[i]>10:\n",
    "            disqualify_flag=True\n",
    "        \n",
    "        elif i in [4,5] and time_taken_list[i]>15:\n",
    "            disqualify_flag=True\n",
    "            \n",
    "        elif i in [6,7] and time_taken_list[i]>20:\n",
    "            disqualify_flag=True\n",
    "            \n",
    "    if interview_time>120:\n",
    "        disqualify_flag=True\n",
    "        \n",
    "    \n",
    "    if disqualify_flag:\n",
    "        return \"disqualified\"\n",
    "    else:\n",
    "        return \"qualified\""
   ]
  },
  {
   "cell_type": "code",
   "execution_count": 53,
   "id": "4c6c1d58",
   "metadata": {},
   "outputs": [
    {
     "data": {
      "text/plain": [
       "'qualified'"
      ]
     },
     "execution_count": 53,
     "metadata": {},
     "output_type": "execute_result"
    }
   ],
   "source": [
    "interview([5, 5, 10, 10, 15, 15, 20, 20], 120)"
   ]
  },
  {
   "cell_type": "code",
   "execution_count": 54,
   "id": "81f9f6a2",
   "metadata": {},
   "outputs": [
    {
     "data": {
      "text/plain": [
       "'qualified'"
      ]
     },
     "execution_count": 54,
     "metadata": {},
     "output_type": "execute_result"
    }
   ],
   "source": [
    "interview([2, 3, 8, 6, 5, 12, 10, 18], 64) "
   ]
  },
  {
   "cell_type": "code",
   "execution_count": 55,
   "id": "054ddb19",
   "metadata": {},
   "outputs": [
    {
     "data": {
      "text/plain": [
       "'disqualified'"
      ]
     },
     "execution_count": 55,
     "metadata": {},
     "output_type": "execute_result"
    }
   ],
   "source": [
    "interview([5, 5, 10, 10, 25, 15, 20, 20], 120)"
   ]
  },
  {
   "cell_type": "code",
   "execution_count": 56,
   "id": "07162b12",
   "metadata": {},
   "outputs": [
    {
     "data": {
      "text/plain": [
       "'disqualified'"
      ]
     },
     "execution_count": 56,
     "metadata": {},
     "output_type": "execute_result"
    }
   ],
   "source": [
    "interview([5, 5, 10, 10, 15, 15, 20], 120)"
   ]
  },
  {
   "cell_type": "code",
   "execution_count": 27,
   "id": "316917ac",
   "metadata": {},
   "outputs": [
    {
     "data": {
      "text/plain": [
       "'disqualified'"
      ]
     },
     "execution_count": 27,
     "metadata": {},
     "output_type": "execute_result"
    }
   ],
   "source": [
    "interview([5, 5, 10, 10, 15, 15, 20, 20], 130)"
   ]
  },
  {
   "cell_type": "markdown",
   "id": "7164e332",
   "metadata": {},
   "source": [
    "4.Write a function that divides a list into chunks of size n, where n is the length of each chunk.\n",
    "\n",
    "Examples\n",
    "\n",
    "chunkify([2, 3, 4, 5], 2) ➞ [[2, 3], [4, 5]]\n",
    "\n",
    "chunkify([2, 3, 4, 5, 6], 2) ➞ [[2, 3], [4, 5], [6]]\n",
    "\n",
    "chunkify([2, 3, 4, 5, 6, 7], 3) ➞ [[2, 3, 4], [5, 6, 7]]\n",
    "\n",
    "chunkify([2, 3, 4, 5, 6, 7], 1) ➞ [[2], [3], [4], [5], [6], [7]]\n",
    "\n",
    "chunkify([2, 3, 4, 5, 6, 7], 7) ➞ [[2, 3, 4, 5, 6, 7]]\n"
   ]
  },
  {
   "cell_type": "code",
   "execution_count": 51,
   "id": "f9a39db9",
   "metadata": {},
   "outputs": [
    {
     "name": "stdout",
     "output_type": "stream",
     "text": [
      "[[2, 3], [4, 5]]\n",
      "[[2, 3], [4, 5], [6]]\n",
      "[[2, 3, 4], [5, 6, 7]]\n",
      "[[2], [3], [4], [5], [6], [7]]\n",
      "[[2, 3, 4, 5, 6, 7]]\n"
     ]
    }
   ],
   "source": [
    "def chunkify(num_list,chunk_size):\n",
    "    output_list=[]\n",
    "    sub_list=[]\n",
    "    count=1\n",
    "    for num in num_list:\n",
    "        if count<=chunk_size:\n",
    "            sub_list.append(num)\n",
    "            \n",
    "        if count==chunk_size or num==num_list[-1]:\n",
    "            count=1\n",
    "            output_list.append(sub_list)\n",
    "            sub_list=[]\n",
    "        \n",
    "        else:\n",
    "            count+=1\n",
    "        \n",
    "    return output_list\n",
    "        \n",
    "        \n",
    "print(chunkify([2, 3, 4, 5], 2))     \n",
    "print(chunkify([2, 3, 4, 5, 6], 2))  \n",
    "print(chunkify([2, 3, 4, 5, 6, 7], 3))  \n",
    "print(chunkify([2, 3, 4, 5, 6, 7], 1))  \n",
    "print(chunkify([2, 3, 4, 5, 6, 7], 7))  "
   ]
  },
  {
   "cell_type": "markdown",
   "id": "ba24f457",
   "metadata": {},
   "source": [
    "5.You are given a list of strings consisting of grocery items, with prices in parentheses. Return a list of prices in float format.\n",
    "\n",
    "Examples\n",
    "\n",
    "get_prices([\"salad ($4.99)\"]) ➞ [4.99]\n",
    "\n",
    "get_prices([\n",
    "  \"artichokes ($1.99)\",\n",
    "  \"rotiserrie chicken ($5.99)\",\n",
    "  \"gum ($0.75)\"\n",
    "])\n",
    "\n",
    "➞ [1.99, 5.99, 0.75]\n",
    "\n",
    "get_prices([\n",
    "  \"ice cream ($5.99)\",\n",
    "  \"banana ($0.20)\",\n",
    "  \"sandwich ($8.50)\",\n",
    "  \"soup ($1.99)\"\n",
    "])\n",
    "\n",
    "➞ [5.99, 0.2, 8.50, 1.99]\n"
   ]
  },
  {
   "cell_type": "code",
   "execution_count": 50,
   "id": "ecb2102a",
   "metadata": {},
   "outputs": [
    {
     "name": "stdout",
     "output_type": "stream",
     "text": [
      "[4.99]\n",
      "[1.99, 5.99, 0.75]\n",
      "[5.99, 0.2, 8.5, 1.99]\n"
     ]
    }
   ],
   "source": [
    "\n",
    "def get_prices(grocery_list):\n",
    "    price_list=[]\n",
    "    for grocery in grocery_list:\n",
    "        item,str_price=grocery.split(\"$\")\n",
    "#         print(item,str_price)\n",
    "        str_price= str_price.replace(\")\",\"\")\n",
    "        price=float(str_price.lstrip())\n",
    "        price_list.append(price)\n",
    "        \n",
    "    return price_list\n",
    "\n",
    "print(get_prices([\"salad ($4.99)\"]))\n",
    "print(get_prices([\n",
    "  \"artichokes ($1.99)\",\n",
    "  \"rotiserrie chicken ($5.99)\",\n",
    "  \"gum ($0.75)\"\n",
    "]))\n",
    "print(get_prices([\n",
    "  \"ice cream ($5.99)\",\n",
    "  \"banana ($0.20)\",\n",
    "  \"sandwich ($8.50)\",\n",
    "  \"soup ($1.99)\"\n",
    "]))"
   ]
  },
  {
   "cell_type": "code",
   "execution_count": null,
   "id": "a89fb7e7",
   "metadata": {},
   "outputs": [],
   "source": []
  }
 ],
 "metadata": {
  "kernelspec": {
   "display_name": "Python 3 (ipykernel)",
   "language": "python",
   "name": "python3"
  },
  "language_info": {
   "codemirror_mode": {
    "name": "ipython",
    "version": 3
   },
   "file_extension": ".py",
   "mimetype": "text/x-python",
   "name": "python",
   "nbconvert_exporter": "python",
   "pygments_lexer": "ipython3",
   "version": "3.9.12"
  }
 },
 "nbformat": 4,
 "nbformat_minor": 5
}
