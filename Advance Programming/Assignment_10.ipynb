{
 "cells": [
  {
   "cell_type": "code",
   "execution_count": null,
   "id": "fe9e8f12",
   "metadata": {},
   "outputs": [],
   "source": [
    "1. Create a function that takes the width, height and character and returns a picture frame as a 2D list.\n",
    "\n",
    "Examples\n",
    "\n",
    "get_frame(4, 5, \"#\") ➞ [\n",
    "  [\"####\"],\n",
    "  [\"#  #\"],\n",
    "  [\"#  #\"],\n",
    "  [\"#  #\"],\n",
    "  [\"####\"]\n",
    "]\n",
    "# Frame is 4 characters wide and 5 characters tall.\n",
    "\n",
    "\n",
    "get_frame(10, 3, \"*\") ➞ [\n",
    "  [\"**********\"],\n",
    "  [\"*        *\"],\n",
    "  [\"**********\"]\n",
    "]\n",
    "# Frame is 10 characters and wide and 3 characters tall.\n",
    "\n",
    "\n",
    "get_frame(2, 5, \"0\") ➞ \"invalid\"\n",
    "# Frame's width is not more than 2.\n",
    "\n"
   ]
  },
  {
   "cell_type": "code",
   "execution_count": 4,
   "id": "8e698d15",
   "metadata": {},
   "outputs": [
    {
     "name": "stdout",
     "output_type": "stream",
     "text": [
      "[['####'], ['#  #'], ['#  #'], ['#  #'], ['####']]\n",
      "[['**********'], ['*        *'], ['**********']]\n",
      "invalid\n"
     ]
    }
   ],
   "source": [
    "def get_frame(cols,rows,symbol):\n",
    "    if cols<=2:\n",
    "        return \"invalid\"\n",
    "    matrix=[]\n",
    "    \n",
    "    for r in range(rows):\n",
    "        row=[]\n",
    "        row_str=\"\"\n",
    "        if r in [0,rows-1]:\n",
    "            for c in range(cols):\n",
    "                row_str+=symbol\n",
    "        else:\n",
    "            for c in range(cols):\n",
    "                if c in [0,cols-1]:\n",
    "                    row_str+=symbol\n",
    "                else:\n",
    "                    row_str+=' '\n",
    "            \n",
    "            \n",
    "        row.append(row_str)\n",
    "        matrix.append(row)\n",
    "        \n",
    "    return matrix\n",
    "\n",
    "print(get_frame(4, 5, \"#\") )\n",
    "\n",
    "print(get_frame(10, 3, \"*\"))\n",
    "print(get_frame(2, 5, \"0\"))"
   ]
  },
  {
   "cell_type": "markdown",
   "id": "483dbc91",
   "metadata": {},
   "source": [
    "2.Write three functions:\n",
    "\n",
    "  1. boolean_and\n",
    "  2. boolean_or\n",
    "  3. boolean_xor\n",
    "These functions should evaluate a list of True and False values, starting from the leftmost element and evaluating pairwise.\n",
    "\n",
    "Examples\n",
    "\n",
    "boolean_and([True, True, False, True]) ➞ False\n",
    "#[True, True, False, True] => [True, False, True] => [False, True] => False\n",
    "\n",
    "boolean_or([True, True, False, False]) ➞ True\n",
    "#[True, True, False, True] => [True, False, False] => [True, False] => True\n",
    "\n",
    "boolean_xor([True, True, False, False]) ➞ False\n",
    "#[True, True, False, False] => [False, False, False] => [False, False] => False\n"
   ]
  },
  {
   "cell_type": "code",
   "execution_count": 14,
   "id": "e05379df",
   "metadata": {},
   "outputs": [
    {
     "name": "stdout",
     "output_type": "stream",
     "text": [
      "False\n",
      "True\n",
      "False\n"
     ]
    }
   ],
   "source": [
    "from functools import reduce\n",
    "def boolean_and(bool_list):\n",
    "    result=reduce(lambda x,y:x & y,bool_list)\n",
    "    return result\n",
    "\n",
    "def boolean_or(bool_list):\n",
    "    result=reduce(lambda x,y:x | y,bool_list)\n",
    "    return result\n",
    "\n",
    "def boolean_xor(bool_list):\n",
    "    result=reduce(lambda x,y:x ^ y,bool_list)\n",
    "    return result\n",
    "\n",
    "\n",
    "print(boolean_and([True, True, False, True]))\n",
    "print(boolean_or([True, True, False, False]))\n",
    "print(boolean_xor([True, True, False, False]))"
   ]
  },
  {
   "cell_type": "code",
   "execution_count": null,
   "id": "9442cc93",
   "metadata": {},
   "outputs": [],
   "source": [
    "3.Create a function that creates a box based on dimension n.\n",
    "\n",
    "Examples\n",
    "\n",
    "make_box(5) ➞ [\n",
    "  \"#####\",\n",
    "  \"#   #\",\n",
    "  \"#   #\",\n",
    "  \"#   #\",\n",
    "  \"#####\"\n",
    "]\n",
    "\n",
    "make_box(3) ➞ [\n",
    "  \"###\",\n",
    "  \"# #\",\n",
    "  \"###\"\n",
    "]\n",
    "\n",
    "make_box(2) ➞ [\n",
    "  \"##\",\n",
    "  \"##\"\n",
    "]\n",
    "\n",
    "make_box(1) ➞ [\n",
    "  \"#\"\n",
    "]\n"
   ]
  },
  {
   "cell_type": "code",
   "execution_count": 16,
   "id": "8d63a66b",
   "metadata": {},
   "outputs": [
    {
     "name": "stdout",
     "output_type": "stream",
     "text": [
      "['#####', '#   #', '#   #', '#   #', '#####']\n",
      "['###', '# #', '###']\n",
      "['##', '##']\n",
      "['#']\n"
     ]
    }
   ],
   "source": [
    "def make_box(n):\n",
    "    box=[]\n",
    "    for row in range(n):\n",
    "        row_str=\"\"\n",
    "        if row in [0,n-1]:\n",
    "            for col in range(n):\n",
    "                row_str+=\"#\"\n",
    "                \n",
    "        else:\n",
    "            for col in range(n):\n",
    "                if col in [0,n-1]:\n",
    "                    row_str+=\"#\"\n",
    "                else:\n",
    "                    row_str+=\" \"\n",
    "                    \n",
    "        box.append(row_str) \n",
    "        \n",
    "    return box\n",
    "\n",
    "\n",
    "print(make_box(5))\n",
    "print(make_box(3))\n",
    "print(make_box(2))\n",
    "print(make_box(1))\n"
   ]
  },
  {
   "cell_type": "code",
   "execution_count": null,
   "id": "8f009d8b",
   "metadata": {},
   "outputs": [],
   "source": [
    "4.Given a common phrase, return False if any individual word in the phrase contains duplicate letters. Return True otherwise.\n",
    "\n",
    "Examples\n",
    "\n",
    "no_duplicate_letters(\"Fortune favours the bold.\") ➞ True\n",
    "\n",
    "no_duplicate_letters(\"You can lead a horse to water, but you can't make him drink.\") ➞ True\n",
    "\n",
    "no_duplicate_letters(\"Look before you leap.\") ➞ False\n",
    "# Duplicate letters in \"Look\" and \"before\".\n",
    "\n",
    "no_duplicate_letters(\"An apple a day keeps the doctor away.\") ➞ False\n",
    "# Duplicate letters in \"apple\", \"keeps\", \"doctor\", and \"away\".\n"
   ]
  },
  {
   "cell_type": "code",
   "execution_count": 25,
   "id": "2f2eb26e",
   "metadata": {},
   "outputs": [
    {
     "name": "stdout",
     "output_type": "stream",
     "text": [
      "True\n",
      "True\n",
      "False\n",
      "False\n"
     ]
    }
   ],
   "source": [
    "def no_duplicate_letters(text):\n",
    "    word_list=text.split(' ')\n",
    "    for word in word_list:\n",
    "        if len(word)!=len(set(word)):\n",
    "            return False\n",
    "    return True\n",
    "\n",
    "print(no_duplicate_letters(\"Fortune favours the bold.\") )\n",
    "print(no_duplicate_letters(\"You can lead a horse to water, but you can't make him drink.\"))\n",
    "print(no_duplicate_letters(\"Look before you leap.\"))\n",
    "print(no_duplicate_letters(\"An apple a day keeps the doctor away.\"))"
   ]
  },
  {
   "cell_type": "code",
   "execution_count": null,
   "id": "25ccd3ff",
   "metadata": {},
   "outputs": [],
   "source": [
    "5. Write a regular expression that will match the states that voted yes to President Trump's impeachment. \n",
    "You must use RegEx positive lookahead.\n",
    "\n",
    "Example\n",
    "\n",
    "txt = \"Texas = no, California = yes, Florida = yes, Michigan = no\"\n",
    "pattern = \"yourregularexpressionhere\"\n",
    "\n",
    "re.findall(pattern, txt) ➞ [\"California\", \"Florida\"]\n"
   ]
  },
  {
   "cell_type": "code",
   "execution_count": 64,
   "id": "93e17057",
   "metadata": {},
   "outputs": [
    {
     "data": {
      "text/plain": [
       "['California', 'Florida']"
      ]
     },
     "execution_count": 64,
     "metadata": {},
     "output_type": "execute_result"
    }
   ],
   "source": [
    "import re\n",
    "\n",
    "txt = \"Texas = no, California = yes, Florida = yes, Michigan = no\"\n",
    "pattern=r'[a-zA-Z]+(?=\\s=\\syes)'\n",
    "\n",
    "re.findall(pattern, txt)\n"
   ]
  },
  {
   "cell_type": "code",
   "execution_count": null,
   "id": "9be934bb",
   "metadata": {},
   "outputs": [],
   "source": []
  }
 ],
 "metadata": {
  "kernelspec": {
   "display_name": "Python 3 (ipykernel)",
   "language": "python",
   "name": "python3"
  },
  "language_info": {
   "codemirror_mode": {
    "name": "ipython",
    "version": 3
   },
   "file_extension": ".py",
   "mimetype": "text/x-python",
   "name": "python",
   "nbconvert_exporter": "python",
   "pygments_lexer": "ipython3",
   "version": "3.9.12"
  }
 },
 "nbformat": 4,
 "nbformat_minor": 5
}
