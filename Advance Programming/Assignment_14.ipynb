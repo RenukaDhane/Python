{
 "cells": [
  {
   "cell_type": "markdown",
   "id": "a1aee40c",
   "metadata": {},
   "source": [
    "1.Given a list of numbers, create a function that removes 25% from every number in the list except the smallest number, and adds the total amount removed to the smallest number.\n",
    "\n",
    "Examples\n",
    "\n",
    "show_the_love([4, 1, 4]) ➞ [3, 3, 3]\n",
    "\n",
    "show_the_love([16, 10, 8]) ➞ [12, 7.5, 14.5]\n",
    "\n",
    "show_the_love([2, 100]) ➞ [27, 75]\n"
   ]
  },
  {
   "cell_type": "code",
   "execution_count": 17,
   "id": "e3d726e2",
   "metadata": {},
   "outputs": [
    {
     "name": "stdout",
     "output_type": "stream",
     "text": [
      "[3, 3, 3]\n",
      "[12, 7.5, 14.5]\n",
      "[27, 75]\n"
     ]
    }
   ],
   "source": [
    "def show_the_love(num_list):\n",
    "    smallest_num=min(num_list)\n",
    "    total_removed= sum([0.25*y for y in list(filter(lambda x:x!=smallest_num,num_list))])\n",
    "    output_list=[]\n",
    "    new_num=0\n",
    "    for num in num_list:\n",
    "        if num==smallest_num:\n",
    "            new_num=smallest_num+total_removed\n",
    "        else:\n",
    "            new_num=(num-(0.25*num))\n",
    "        if (new_num.is_integer()):\n",
    "            output_list.append(int(new_num))\n",
    "        else:\n",
    "            output_list.append(new_num)\n",
    "            \n",
    "    return output_list\n",
    "\n",
    "print(show_the_love([4, 1, 4]))\n",
    "print(show_the_love([16, 10, 8]))\n",
    "print(show_the_love([2, 100]))"
   ]
  },
  {
   "cell_type": "markdown",
   "id": "d2a843f5",
   "metadata": {},
   "source": [
    "2.Create a function that takes in two words as input and returns a list of three elements, in the following order:\n",
    "\n",
    "   1.Shared letters between two words.\n",
    "   2.Letters unique to word 1.\n",
    "   3.Letters unique to word 2.\n",
    "\n",
    "Each element should have unique letters, and have each letter be alphabetically sorted.\n",
    "\n",
    "Examples\n",
    "\n",
    "letters(\"sharp\", \"soap\") ➞ [\"aps\", \"hr\", \"o\"]\n",
    "\n",
    "letters(\"board\", \"bored\") ➞ [\"bdor\", \"a\", \"e\"]\n",
    "\n",
    "letters(\"happiness\", \"envelope\") ➞ [\"enp\", \"ahis\", \"lov\"]\n",
    "\n",
    "letters(\"kerfuffle\", \"fluffy\") ➞ [\"flu\", \"ekr\", \"y\"]\n",
    "#Even with multiple matching letters (e.g. 3 f's), there should \n",
    "#only exist a single \"f\" in your first element.\n",
    "\n",
    "letters(\"match\", \"ham\") ➞ [\"ahm\", \"ct\", \"\"]\n",
    "#\"ham\" does not contain any letters that are not found already \n",
    "#in \"match\".\n"
   ]
  },
  {
   "cell_type": "code",
   "execution_count": 38,
   "id": "e8df590f",
   "metadata": {},
   "outputs": [
    {
     "name": "stdout",
     "output_type": "stream",
     "text": [
      "['aps', 'hr', 'o']\n",
      "['bdor', 'a', 'e']\n",
      "['enp', 'ahis', 'lov']\n",
      "['flu', 'ekr', 'y']\n",
      "['ahm', 'ct', '']\n"
     ]
    }
   ],
   "source": [
    "def letters(word1,word2):\n",
    "    word1_set=set(word1)\n",
    "    word2_set=set(word2)\n",
    "    \n",
    "    shared_letters=''.join(sorted(list(word2_set.intersection(word1_set))))\n",
    "    unique_to_word1=''.join(sorted(list(word1_set-word2_set)))\n",
    "    unique_to_word2=''.join(sorted(list(word2_set-word1_set)))\n",
    "    return [shared_letters,unique_to_word1,unique_to_word2]\n",
    "\n",
    "    \n",
    "print(letters(\"sharp\", \"soap\"))\n",
    "print(letters(\"board\", \"bored\"))\n",
    "print(letters(\"happiness\", \"envelope\"))\n",
    "print(letters(\"kerfuffle\", \"fluffy\"))\n",
    "print(letters(\"match\", \"ham\"))"
   ]
  },
  {
   "cell_type": "markdown",
   "id": "ccec022f",
   "metadata": {},
   "source": [
    "3.Write a function that pairs the first number in an array with the last, the second number with the second to last, etc.\n",
    "\n",
    "Examples\n",
    "\n",
    "pairs([1, 2, 3, 4, 5, 6, 7]) ➞ [[1, 7], [2, 6], [3, 5], [4, 4]]\n",
    "\n",
    "pairs([1, 2, 3, 4, 5, 6]) ➞ [[1, 6], [2, 5], [3, 4]]\n",
    "\n",
    "pairs([5, 9, 8, 1, 2]) ➞ [[5, 2], [9, 1], [8, 8]]\n",
    "\n",
    "pairs([]) ➞ []\n"
   ]
  },
  {
   "cell_type": "code",
   "execution_count": 39,
   "id": "d3a5bbf1",
   "metadata": {},
   "outputs": [
    {
     "name": "stdout",
     "output_type": "stream",
     "text": [
      "[[1, 7], [2, 6], [3, 5], [4, 4]]\n",
      "[[1, 6], [2, 5], [3, 4]]\n",
      "[[5, 2], [9, 1], [8, 8]]\n",
      "[]\n"
     ]
    }
   ],
   "source": [
    "def pairs(num_list):\n",
    "    start=0\n",
    "    end=len(num_list)-1\n",
    "    output_list=[]\n",
    "    \n",
    "    while start<=end:\n",
    "        sub_list=[num_list[start],num_list[end]]\n",
    "        output_list.append(sub_list)\n",
    "        start+=1\n",
    "        end-=1\n",
    "        \n",
    "    return output_list\n",
    "\n",
    "\n",
    "print(pairs([1, 2, 3, 4, 5, 6, 7]))\n",
    "print(pairs([1, 2, 3, 4, 5, 6]))\n",
    "print(pairs([5, 9, 8, 1, 2]))\n",
    "print(pairs([]))"
   ]
  },
  {
   "cell_type": "markdown",
   "id": "9cf40959",
   "metadata": {},
   "source": [
    "4.Write a function that adds two numbers. The catch, however, is that the numbers will be strings.\n",
    "\n",
    "Examples\n",
    "\n",
    "add_str_nums(\"4\", \"5\") ➞ \"9\"\n",
    "\n",
    "add_str_nums(\"abcdefg\", \"3\") ➞ \"-1\"\n",
    "\n",
    "add_str_nums(\"1\", \"\") ➞ \"1\"\n",
    "\n",
    "add_str_nums(\"1874682736267235927359283579235789257\", \"32652983572985729\") ➞ \"1874682736267235927391936562808774986\"\n"
   ]
  },
  {
   "cell_type": "code",
   "execution_count": 44,
   "id": "266689c8",
   "metadata": {},
   "outputs": [
    {
     "name": "stdout",
     "output_type": "stream",
     "text": [
      "\"9\"\n",
      "\"-1\"\n",
      "\"1\"\n",
      "\"1874682736267235927391936562808774986\"\n"
     ]
    }
   ],
   "source": [
    "def add_str_nums(str1,str2):\n",
    "    output=\"\"\n",
    "    if str1==\"\":\n",
    "        str1=\"0\"\n",
    "    if str2==\"\":\n",
    "        str2=\"0\"\n",
    "    \n",
    "    if str1.isdigit() and str2.isdigit():\n",
    "        output='\"'+str(int(str1)+int(str2))+'\"'\n",
    "    else:\n",
    "        output='\"'+\"-1\"+'\"'\n",
    "        \n",
    "    return output\n",
    "\n",
    "\n",
    "print(add_str_nums(\"4\", \"5\"))\n",
    "print(add_str_nums(\"abcdefg\", \"3\"))\n",
    "print(add_str_nums(\"1\", \"\"))\n",
    "print(add_str_nums(\"1874682736267235927359283579235789257\", \"32652983572985729\"))"
   ]
  },
  {
   "cell_type": "markdown",
   "id": "186e77a3",
   "metadata": {},
   "source": [
    "5.lPaeesh le pemu mnxit ehess rtnisg! Oh, sorry, that was supposed to say: Please help me unmix these strings!\n",
    "\n",
    "Somehow my strings have all become mixed up; every pair of characters has been swapped. Help me undo this so I can understand my strings again.\n",
    "\n",
    "Examples\n",
    "\n",
    "unmix(\"123456\") ➞ \"214365\"\n",
    "\n",
    "unmix(\"hTsii  s aimex dpus rtni.g\") ➞ \"This is a mixed up string.\"\n",
    "\n",
    "unmix(\"badce\") ➞ \"abcde\"\n"
   ]
  },
  {
   "cell_type": "code",
   "execution_count": 51,
   "id": "af42a700",
   "metadata": {},
   "outputs": [
    {
     "name": "stdout",
     "output_type": "stream",
     "text": [
      "214365\n",
      "This is a mixed up string.\n",
      "abcde\n"
     ]
    }
   ],
   "source": [
    "def unmix(text):\n",
    "    new_text=\"\"\n",
    "    for i in range(0,len(text),2):\n",
    "        if i==len(text)-1:\n",
    "            new_text+=text[i]\n",
    "        else:    \n",
    "            new_text+=text[i+1]+text[i]\n",
    "    \n",
    "    return new_text\n",
    "\n",
    "print(unmix(\"123456\"))\n",
    "print(unmix(\"hTsii  s aimex dpus rtni.g\"))\n",
    "print(unmix(\"badce\"))"
   ]
  }
 ],
 "metadata": {
  "kernelspec": {
   "display_name": "Python 3 (ipykernel)",
   "language": "python",
   "name": "python3"
  },
  "language_info": {
   "codemirror_mode": {
    "name": "ipython",
    "version": 3
   },
   "file_extension": ".py",
   "mimetype": "text/x-python",
   "name": "python",
   "nbconvert_exporter": "python",
   "pygments_lexer": "ipython3",
   "version": "3.9.12"
  }
 },
 "nbformat": 4,
 "nbformat_minor": 5
}
