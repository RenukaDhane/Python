{
 "cells": [
  {
   "cell_type": "markdown",
   "id": "5e69c809",
   "metadata": {},
   "source": [
    "1.Rondo Form is a type of musical structure, in which there is a recurring theme/refrain, notated as A. Here are the rules for valid rondo forms:\n",
    "\n",
    "   - Rondo forms always start and end with an A section.\n",
    "   - In between the A sections, there should be contrasting sections notated as B, then C, then D, etc... No letter should be skipped.\n",
    "   - There shouldn't be any repeats in the sequence (such as ABBACCA).\n",
    "\n",
    "Create a function which validates whether a given string is a valid Rondo Form.\n",
    "\n",
    "Examples\n",
    "\n",
    "valid_rondo(\"ABACADAEAFAGAHAIAJA\") ➞ True\n",
    "\n",
    "valid_rondo(\"ABA\") ➞ True\n",
    "\n",
    "valid_rondo(\"ABBACCA\") ➞ False\n",
    "\n",
    "valid_rondo(\"ACAC\") ➞ False\n",
    "\n",
    "valid_rondo(\"A\") ➞ False\n"
   ]
  },
  {
   "cell_type": "code",
   "execution_count": 8,
   "id": "2cb5299e",
   "metadata": {},
   "outputs": [
    {
     "name": "stdout",
     "output_type": "stream",
     "text": [
      "True\n",
      "True\n",
      "False\n",
      "False\n",
      "False\n"
     ]
    }
   ],
   "source": [
    "def valid_rondo(text):\n",
    "    mid_letters=[]\n",
    "    if text.startswith('A') and text.endswith('A'):\n",
    "        for i in range(1,len(text)-1,2):\n",
    "            mid_letters.append(text[i])\n",
    "    \n",
    "        sorted_mid_letters=sorted(mid_letters)\n",
    "        if mid_letters==sorted_mid_letters and mid_letters!=[]:\n",
    "            return True\n",
    "        else:\n",
    "            return False\n",
    "    \n",
    "    return False\n",
    "\n",
    "\n",
    "print(valid_rondo(\"ABACADAEAFAGAHAIAJA\"))\n",
    "print(valid_rondo(\"ABA\") )\n",
    "print(valid_rondo(\"ABBACCA\") )\n",
    "print(valid_rondo(\"ACAC\"))\n",
    "print(valid_rondo(\"A\"))"
   ]
  },
  {
   "cell_type": "markdown",
   "id": "6b4c0397",
   "metadata": {},
   "source": [
    "2.Create a function that returns the whole of the first sentence which contains a specific word. Include the full stop at the end of the sentence.\n",
    "\n",
    "Examples\n",
    "\n",
    "txt = \"I have a cat. I have a mat. Things are going swell.\"\n",
    "\n",
    "sentence_searcher(txt, \"have\") ➞ \"I have a cat.\"\n",
    "\n",
    "sentence_searcher(txt, \"MAT\") ➞ \"I have a mat.\"\n",
    "\n",
    "sentence_searcher(txt, \"things\") ➞ \"Things are going swell.\"\n",
    "\n",
    "sentence_searcher(txt, \"flat\") ➞ \"\"\n"
   ]
  },
  {
   "cell_type": "code",
   "execution_count": 45,
   "id": "a23b3ae6",
   "metadata": {},
   "outputs": [
    {
     "name": "stdout",
     "output_type": "stream",
     "text": [
      "I have a cat.\n",
      "I have a mat.\n",
      "Things are going swell..\n"
     ]
    }
   ],
   "source": [
    "import re\n",
    "def sentence_searcher(txt,word):\n",
    "    pattern=r\"\\. \"\n",
    "    list_sentences=re.split(pattern,txt)\n",
    "    for sentence in list_sentences:\n",
    "        if word.lower() in sentence.lower():\n",
    "            return sentence+\".\"\n",
    "    \n",
    "    return \"\"\n",
    "    \n",
    "txt = \"I have a cat. I have a mat. Things are going swell.\"\n",
    "print(sentence_searcher(txt, \"have\"))\n",
    "print(sentence_searcher(txt, \"MAT\"))\n",
    "print(sentence_searcher(txt, \"things\"))\n"
   ]
  },
  {
   "cell_type": "code",
   "execution_count": 28,
   "id": "90cb2161",
   "metadata": {},
   "outputs": [
    {
     "data": {
      "text/plain": [
       "''"
      ]
     },
     "execution_count": 28,
     "metadata": {},
     "output_type": "execute_result"
    }
   ],
   "source": [
    "sentence_searcher(txt, \"flat\")"
   ]
  },
  {
   "cell_type": "markdown",
   "id": "cf70f013",
   "metadata": {},
   "source": [
    "3.Given a number, find the \"round \"of each digit of the number. An integer is called \"round\" if all its digits except the leftmost (most significant) are equal to zero.\n",
    "\n",
    "    - Round numbers: 4000, 1, 9, 800, 90\n",
    "    - Not round numbers: 110, 707, 222, 1001\n",
    "\n",
    "Create a function that takes a number and returns the \"round\" of each digit (except if the digit is zero) as a string. Check out the following examples for more clarification.\n",
    "\n",
    "Examples\n",
    "\n",
    "sum_round(101) ➞ \"1 100\"\n",
    "\n",
    "sum_round(1234) ➞ \"4 30 200 1000\"\n",
    "\n",
    "sum_round(54210) ➞ \"10 200 4000 50000\"\n"
   ]
  },
  {
   "cell_type": "code",
   "execution_count": 37,
   "id": "ed1c2a2a",
   "metadata": {},
   "outputs": [],
   "source": [
    "def sum_round(num):\n",
    "    output_str=\"\"\n",
    "    end_position=len(str(num))-1\n",
    "    position=0\n",
    "    while position<=end_position:\n",
    "        digit=num%10\n",
    "        num=num//10\n",
    "        if digit!=0:\n",
    "            output_str+=str(digit)+\"0\"*position\n",
    "            output_str+=\" \"\n",
    "        \n",
    "        position+=1\n",
    "        \n",
    "    return output_str.rstrip()\n",
    "    "
   ]
  },
  {
   "cell_type": "code",
   "execution_count": 38,
   "id": "c922ccd5",
   "metadata": {},
   "outputs": [
    {
     "data": {
      "text/plain": [
       "'1 100'"
      ]
     },
     "execution_count": 38,
     "metadata": {},
     "output_type": "execute_result"
    }
   ],
   "source": [
    "sum_round(101)"
   ]
  },
  {
   "cell_type": "code",
   "execution_count": 39,
   "id": "6e3f8f2d",
   "metadata": {},
   "outputs": [
    {
     "data": {
      "text/plain": [
       "'4 30 200 1000'"
      ]
     },
     "execution_count": 39,
     "metadata": {},
     "output_type": "execute_result"
    }
   ],
   "source": [
    "sum_round(1234) "
   ]
  },
  {
   "cell_type": "code",
   "execution_count": 40,
   "id": "16fd2987",
   "metadata": {},
   "outputs": [
    {
     "data": {
      "text/plain": [
       "'10 200 4000 50000'"
      ]
     },
     "execution_count": 40,
     "metadata": {},
     "output_type": "execute_result"
    }
   ],
   "source": [
    "sum_round(54210) "
   ]
  },
  {
   "cell_type": "markdown",
   "id": "bbaeaadb",
   "metadata": {},
   "source": [
    "4.Your task, is to create N x N multiplication table, of size n provided in parameter.\n",
    "\n",
    "For example, when n is 5, the multiplication table is:\n",
    "\n",
    "   - 1, 2, 3, 4, 5\n",
    "   - 2, 4, 6, 8, 10\n",
    "   - 3, 6, 9, 12, 15\n",
    "   - 4, 8, 12, 16, 20\n",
    "   - 5, 10, 15, 20, 25\n",
    "\n",
    "This example will result in:\n",
    "\n",
    "[[1, 2, 3, 4, 5], [2, 4, 6, 8, 10], [3, 6, 9, 12, 15], [4, 8, 12, 16, 20], [5, 10, 15, 20, 25]]\n",
    "\n",
    "Examples\n",
    "\n",
    "multiplication_table(1) ➞ [[1]]\n",
    "\n",
    "multiplication_table(3) ➞ [[1, 2, 3], [2, 4, 6], [3, 6, 9]]\n"
   ]
  },
  {
   "cell_type": "code",
   "execution_count": 42,
   "id": "b2746d45",
   "metadata": {},
   "outputs": [],
   "source": [
    "def multiplication_table(n):\n",
    "    mult_list=[]\n",
    "    for i in range(1,n+1):\n",
    "        sub_list=[]\n",
    "        for p in range(1,n+1):\n",
    "            sub_list.append(i*p)\n",
    "        mult_list.append(sub_list)\n",
    "    return mult_list\n"
   ]
  },
  {
   "cell_type": "code",
   "execution_count": 43,
   "id": "3bfc5d0b",
   "metadata": {},
   "outputs": [
    {
     "data": {
      "text/plain": [
       "[[1]]"
      ]
     },
     "execution_count": 43,
     "metadata": {},
     "output_type": "execute_result"
    }
   ],
   "source": [
    "multiplication_table(1)"
   ]
  },
  {
   "cell_type": "code",
   "execution_count": 44,
   "id": "11ae265c",
   "metadata": {},
   "outputs": [
    {
     "data": {
      "text/plain": [
       "[[1, 2, 3], [2, 4, 6], [3, 6, 9]]"
      ]
     },
     "execution_count": 44,
     "metadata": {},
     "output_type": "execute_result"
    }
   ],
   "source": [
    "multiplication_table(3) "
   ]
  },
  {
   "cell_type": "markdown",
   "id": "c903c050",
   "metadata": {},
   "source": [
    "5.Create a function that returns True if two lines rhyme and False otherwise. For the purposes of this exercise, two lines rhyme if the last word from each sentence contains the same vowels.\n",
    "\n",
    "Examples\n",
    "\n",
    "does_rhyme(\"Sam I am!\", \"Green eggs and ham.\") ➞ True\n",
    "\n",
    "does_rhyme(\"Sam I am!\", \"Green eggs and HAM.\") ➞ True\n",
    "#Capitalization and punctuation should not matter.\n",
    "\n",
    "does_rhyme(\"You are off to the races\", \"a splendid day.\") ➞ False\n",
    "\n",
    "does_rhyme(\"and frequently do?\", \"you gotta move.\") ➞ False\n"
   ]
  },
  {
   "cell_type": "code",
   "execution_count": 52,
   "id": "1e8b9a29",
   "metadata": {},
   "outputs": [
    {
     "name": "stdout",
     "output_type": "stream",
     "text": [
      "True\n",
      "True\n",
      "False\n",
      "False\n"
     ]
    }
   ],
   "source": [
    "import string\n",
    "def does_rhyme(line1,line2):\n",
    "    vowels=['a','e','i','o','u']\n",
    "    l1_last=line1.split(\" \")[-1]\n",
    "    l1_vowels=[]\n",
    "    for c in l1_last:\n",
    "        if c.lower() in vowels:\n",
    "            l1_vowels.append(c.lower())\n",
    "    \n",
    "   \n",
    "    l2_last=line2.split(\" \")[-1]\n",
    "    l2_vowels=[]\n",
    "    for c in l2_last:\n",
    "        if c.lower() in vowels:\n",
    "            l2_vowels.append(c.lower())\n",
    "    \n",
    "    if sorted(l2_vowels)==sorted(l1_vowels):\n",
    "        return True\n",
    "    else:\n",
    "        return False\n",
    "    \n",
    "    \n",
    "print(does_rhyme(\"Sam I am!\", \"Green eggs and ham.\"))\n",
    "print(does_rhyme(\"Sam I am!\", \"Green eggs and HAM.\"))\n",
    "print(does_rhyme(\"You are off to the races\", \"a splendid day.\") )\n",
    "print(does_rhyme(\"and frequently do?\", \"you gotta move.\"))\n"
   ]
  },
  {
   "cell_type": "code",
   "execution_count": null,
   "id": "169f7630",
   "metadata": {},
   "outputs": [],
   "source": []
  }
 ],
 "metadata": {
  "kernelspec": {
   "display_name": "Python 3 (ipykernel)",
   "language": "python",
   "name": "python3"
  },
  "language_info": {
   "codemirror_mode": {
    "name": "ipython",
    "version": 3
   },
   "file_extension": ".py",
   "mimetype": "text/x-python",
   "name": "python",
   "nbconvert_exporter": "python",
   "pygments_lexer": "ipython3",
   "version": "3.9.12"
  }
 },
 "nbformat": 4,
 "nbformat_minor": 5
}
