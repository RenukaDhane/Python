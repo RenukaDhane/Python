{
 "cells": [
  {
   "cell_type": "markdown",
   "id": "0e5cfa4a",
   "metadata": {},
   "source": [
    "1. Set the variable test1 to the string 'This is a test of the emergency text system,' and save test1 to a file named test.txt."
   ]
  },
  {
   "cell_type": "code",
   "execution_count": 1,
   "id": "b0d37ea2",
   "metadata": {},
   "outputs": [],
   "source": [
    "test1='This is a test of the emergency text system,'\n",
    "try :\n",
    "    f = open(\"test.txt\", \"a\")\n",
    "    f.write(test1)\n",
    "    f.close()\n",
    "except:\n",
    "    print(\"exception occured\")    "
   ]
  },
  {
   "cell_type": "markdown",
   "id": "6bf68371",
   "metadata": {},
   "source": [
    "2. Read the contents of the file test.txt into the variable test2. Is there a difference between test 1 and test 2?"
   ]
  },
  {
   "cell_type": "code",
   "execution_count": 2,
   "id": "3c62e008",
   "metadata": {},
   "outputs": [
    {
     "name": "stdout",
     "output_type": "stream",
     "text": [
      "This is a test of the emergency text system,\n"
     ]
    }
   ],
   "source": [
    "try :\n",
    "    f = open(\"test.txt\", \"r\")\n",
    "    test2=f.read()\n",
    "    f.close()\n",
    "except:\n",
    "    print(\"exception occured\")  \n",
    "    \n",
    "print(test2)"
   ]
  },
  {
   "cell_type": "markdown",
   "id": "6591ad92",
   "metadata": {},
   "source": [
    "3. Create a CSV file called books.csv by using these lines:\n",
    "\n",
    "title,author,year\n",
    "The Weirdstone of Brisingamen,Alan Garner,1960\n",
    "Perdido Street Station,China Miéville,2000\n",
    "Thud!,Terry Pratchett,2005\n",
    "The Spellman Files,Lisa Lutz,2007\n",
    "Small Gods,Terry Pratchett,1992"
   ]
  },
  {
   "cell_type": "code",
   "execution_count": 43,
   "id": "7932505c",
   "metadata": {},
   "outputs": [],
   "source": [
    "import csv\n",
    "import traceback\n",
    "try :\n",
    "    file = open(\"books.csv\",'w',newline='')\n",
    "    csvwriter=csv.writer(file)\n",
    "    content=\"\"\"title,author,year\n",
    "The Weirdstone of Brisingamen,Alan Garner,1960\n",
    "Perdido Street Station,China Miéville,2000\n",
    "Thud!,Terry Pratchett,2005\n",
    "The Spellman Files,Lisa Lutz,2007\n",
    "Small Gods,Terry Pratchett,1992\"\"\"\n",
    "\n",
    "    data=content.split(sep='\\n')\n",
    "    list_of_rows=[]\n",
    "    for i in data:\n",
    "        list_of_rows.append(i.split(sep=','))\n",
    "\n",
    "    # print(list_of_rows)    \n",
    "    csvwriter.writerows(list_of_rows)\n",
    "    file.close()\n",
    "except:\n",
    "    traceback.print_exc()"
   ]
  },
  {
   "cell_type": "markdown",
   "id": "24f32244",
   "metadata": {},
   "source": [
    "\n",
    "4. Use the sqlite3 module to create a SQLite database called books.db, and a table called books with these fields: title (text), author (text), and year (integer)."
   ]
  },
  {
   "cell_type": "code",
   "execution_count": 1,
   "id": "0433ae1d",
   "metadata": {},
   "outputs": [
    {
     "data": {
      "text/plain": [
       "<sqlite3.Cursor at 0x1b57d9d51f0>"
      ]
     },
     "execution_count": 1,
     "metadata": {},
     "output_type": "execute_result"
    }
   ],
   "source": [
    "import sqlite3\n",
    "conn=sqlite3.connect(\"books.db\")\n",
    "c=conn.cursor()\n",
    "c.execute(\"Create table books(title text,author text,year int)\")"
   ]
  },
  {
   "cell_type": "markdown",
   "id": "31c67e20",
   "metadata": {},
   "source": [
    "\n",
    "5. Read books.csv and insert its data into the book table."
   ]
  },
  {
   "cell_type": "code",
   "execution_count": 27,
   "id": "a2b67cf3",
   "metadata": {},
   "outputs": [],
   "source": [
    "import csv\n",
    "import sqlite3\n",
    "conn=sqlite3.connect(\"books.db\")\n",
    "c=conn.cursor()\n",
    "file = open('books.csv')\n",
    "contents = csv.reader(file)\n",
    "next(contents) #skip header\n",
    "\n",
    "insert_record=\"insert into books values(?,?,?)\"\n",
    "c.executemany(insert_record,contents)\n",
    "\n",
    "conn.commit()\n",
    "conn.close()"
   ]
  },
  {
   "cell_type": "markdown",
   "id": "cf2fa01f",
   "metadata": {},
   "source": [
    "6. Select and print the title column from the book table in alphabetical order."
   ]
  },
  {
   "cell_type": "code",
   "execution_count": 30,
   "id": "0795d810",
   "metadata": {},
   "outputs": [
    {
     "name": "stdout",
     "output_type": "stream",
     "text": [
      "('The Weirdstone of Brisingamen',)\n",
      "('Perdido Street Station',)\n",
      "('Thud!',)\n",
      "('The Spellman Files',)\n",
      "('Small Gods',)\n"
     ]
    }
   ],
   "source": [
    "conn=sqlite3.connect(\"books.db\")\n",
    "c=conn.cursor()\n",
    "select_all=\"Select title from books\"\n",
    "rows=c.execute(select_all).fetchall()\n",
    "for i in rows:\n",
    "    print(i)\n",
    "conn.commit()\n",
    "conn.close()"
   ]
  },
  {
   "cell_type": "code",
   "execution_count": 21,
   "id": "f173d33c",
   "metadata": {},
   "outputs": [],
   "source": [
    "# conn=sqlite3.connect(\"books.db\")\n",
    "# c=conn.cursor()\n",
    "# delete_all=\"delete from books\"\n",
    "# c.execute(delete_all)\n",
    "# conn.commit()\n",
    "# conn.close()"
   ]
  },
  {
   "cell_type": "markdown",
   "id": "006212fc",
   "metadata": {},
   "source": [
    "7. From the book table, select and print all columns in the order of publication."
   ]
  },
  {
   "cell_type": "code",
   "execution_count": 31,
   "id": "697144d4",
   "metadata": {},
   "outputs": [
    {
     "name": "stdout",
     "output_type": "stream",
     "text": [
      "('The Weirdstone of Brisingamen', 'Alan Garner', 1960)\n",
      "('Perdido Street Station', 'China Miéville', 2000)\n",
      "('The Spellman Files', 'Lisa Lutz', 2007)\n",
      "('Thud!', 'Terry Pratchett', 2005)\n",
      "('Small Gods', 'Terry Pratchett', 1992)\n"
     ]
    }
   ],
   "source": [
    "import sqlite3\n",
    "\n",
    "conn=sqlite3.connect(\"books.db\")\n",
    "c=conn.cursor()\n",
    "query=\"select * from books order by author\"\n",
    "rows=c.execute(query).fetchall()\n",
    "for row in rows:\n",
    "    print(row)\n",
    "conn.close()"
   ]
  },
  {
   "cell_type": "markdown",
   "id": "3abe8f80",
   "metadata": {},
   "source": [
    "8. Use the sqlalchemy module to connect to the sqlite3 database books.db that you just made in exercise 6."
   ]
  },
  {
   "cell_type": "code",
   "execution_count": 38,
   "id": "fcd988ef",
   "metadata": {},
   "outputs": [
    {
     "name": "stdout",
     "output_type": "stream",
     "text": [
      "2023-01-25 18:56:10,017 INFO sqlalchemy.engine.Engine Select * from books\n",
      "2023-01-25 18:56:10,019 INFO sqlalchemy.engine.Engine [raw sql] ()\n",
      "('The Weirdstone of Brisingamen', 'Alan Garner', 1960)\n",
      "('Perdido Street Station', 'China Miéville', 2000)\n",
      "('Thud!', 'Terry Pratchett', 2005)\n",
      "('The Spellman Files', 'Lisa Lutz', 2007)\n",
      "('Small Gods', 'Terry Pratchett', 1992)\n"
     ]
    }
   ],
   "source": [
    "import sqlalchemy as db\n",
    "engine = db.create_engine('sqlite:///books.db', echo = True)\n",
    "conn = engine.connect()\n",
    "rows=conn.execute(\"Select * from books\").fetchall()\n",
    "for row in rows:\n",
    "    print(row)"
   ]
  },
  {
   "attachments": {},
   "cell_type": "markdown",
   "id": "6a8bbcbd",
   "metadata": {},
   "source": [
    "9. Install the Redis server and the Python redis library (pip install redis) on your computer. Create a Redis hash called test with the fields count (1) and name ('Fester Bestertester'). Print all the fields for test."
   ]
  },
  {
   "cell_type": "code",
   "execution_count": 16,
   "id": "d2725ba9",
   "metadata": {},
   "outputs": [
    {
     "name": "stdout",
     "output_type": "stream",
     "text": [
      "['count', 'name']\n"
     ]
    }
   ],
   "source": [
    "\n",
    "import redis   \n",
    "\n",
    "# Create a redis client\n",
    "\n",
    "redis_cli = redis.Redis(host=\"localhost\", port=6379, decode_responses=True, encoding=\"utf-8\")\n",
    "redis_cli.delete(\"test\")\n",
    "redis_cli.hset(\"test\", mapping={\"count\": 1, \"name\": \"Fester Bestertester\"})\n",
    "\n",
    "print(redis_cli.hkeys(\"test\"))\n",
    "\n",
    "\n",
    "\n",
    "\n"
   ]
  },
  {
   "cell_type": "markdown",
   "id": "f7b86e5d",
   "metadata": {},
   "source": [
    "\n",
    "10. Increment the count field of test and print it."
   ]
  },
  {
   "cell_type": "code",
   "execution_count": 17,
   "id": "00016523",
   "metadata": {},
   "outputs": [
    {
     "data": {
      "text/plain": [
       "{'count': '2', 'name': 'Fester Bestertester'}"
      ]
     },
     "execution_count": 17,
     "metadata": {},
     "output_type": "execute_result"
    }
   ],
   "source": [
    "current_count=redis_cli.hget(\"test\", \"count\")\n",
    "redis_cli.hset(\"test\", \"count\", int(current_count)+1)\n",
    "redis_cli.hgetall(\"test\")"
   ]
  }
 ],
 "metadata": {
  "kernelspec": {
   "display_name": "base",
   "language": "python",
   "name": "python3"
  },
  "language_info": {
   "codemirror_mode": {
    "name": "ipython",
    "version": 3
   },
   "file_extension": ".py",
   "mimetype": "text/x-python",
   "name": "python",
   "nbconvert_exporter": "python",
   "pygments_lexer": "ipython3",
   "version": "3.9.12"
  },
  "vscode": {
   "interpreter": {
    "hash": "0423af54bc6fd4aed7dceabb58b9e748550eb276805a936a8297c3cb9f6c97c4"
   }
  }
 },
 "nbformat": 4,
 "nbformat_minor": 5
}
