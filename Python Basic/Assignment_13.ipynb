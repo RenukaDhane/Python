{
 "cells": [
  {
   "cell_type": "markdown",
   "id": "6b456dc7",
   "metadata": {},
   "source": [
    "1.What advantages do Excel spreadsheets have over CSV spreadsheets?"
   ]
  },
  {
   "cell_type": "markdown",
   "id": "ec94b347",
   "metadata": {},
   "source": [
    "=>1)CSV spreadsheets contain comma seperated values while Excel spreadsheets contain values in tabular form (horizontal and    vertical rows) making it more user friendly and readable.\n",
    "\n",
    " 2)We have an option of formulas in Excel that can be used for data and its place of storage.\n",
    "\n",
    " 3)We can even any charts, graphics, etc. to make it more presentable in Excel\n",
    "\n",
    " 4)It also provides the user option for external linking of data from other sources and also the user can do custom add-ins.\n",
    "\n",
    " 5)Reading large data sets is simpler and more effective with XLS files because of the customization features the file format  offers. You can select, move, copy, paste and edit specific cells or sets of cells individually. "
   ]
  },
  {
   "cell_type": "markdown",
   "id": "fa1bd68e",
   "metadata": {},
   "source": [
    "2.What do you pass to csv.reader() and csv.writer() to create reader and writer objects?"
   ]
  },
  {
   "cell_type": "markdown",
   "id": "191c1a21",
   "metadata": {},
   "source": [
    "=> We pass file object using open() to csv.reader() and csv.writer() to create reader and writer objects"
   ]
  },
  {
   "cell_type": "markdown",
   "id": "30558f52",
   "metadata": {},
   "source": [
    "3.What modes do File objects for reader and writer objects need to be opened in?"
   ]
  },
  {
   "cell_type": "markdown",
   "id": "de28857f",
   "metadata": {},
   "source": [
    "=> File objects for reader should be create in 'r' i.e read mode while they need to be opened in 'w' write mode for writer objects"
   ]
  },
  {
   "cell_type": "markdown",
   "id": "c437aca4",
   "metadata": {},
   "source": [
    "4.What method takes a list argument and writes it to a CSV file?"
   ]
  },
  {
   "cell_type": "markdown",
   "id": "3d3a7177",
   "metadata": {},
   "source": [
    "=> writerows() method"
   ]
  },
  {
   "cell_type": "markdown",
   "id": "45403184",
   "metadata": {},
   "source": [
    "5.What do the keyword arguments delimiter and line terminator do?"
   ]
  },
  {
   "cell_type": "markdown",
   "id": "68e5f24b",
   "metadata": {},
   "source": [
    "=> The delimiter argument allows to specify a one-character string used to separate fields. It defaults to ','.\n",
    "The line terminator argument allows to specify the string used to terminate lines produced by the writer. It defaults to '\\r\\n'."
   ]
  },
  {
   "cell_type": "markdown",
   "id": "4bf7110c",
   "metadata": {},
   "source": [
    "6.What function takes a string of JSON data and returns a Python data structure?"
   ]
  },
  {
   "cell_type": "markdown",
   "id": "f038a2de",
   "metadata": {},
   "source": [
    "=> JSON string decoding is done with the help of inbuilt method json.loads() & json.load() of JSON library in Python."
   ]
  },
  {
   "cell_type": "markdown",
   "id": "e5808e0c",
   "metadata": {},
   "source": [
    "7.What function takes a Python data structure and returns a string of JSON data?"
   ]
  },
  {
   "cell_type": "markdown",
   "id": "2cbc6271",
   "metadata": {},
   "source": [
    "=> json.dumps() of JSON library in Python is a method that converts dictionary objects of Python into JSON string data format"
   ]
  }
 ],
 "metadata": {
  "kernelspec": {
   "display_name": "Python 3 (ipykernel)",
   "language": "python",
   "name": "python3"
  },
  "language_info": {
   "codemirror_mode": {
    "name": "ipython",
    "version": 3
   },
   "file_extension": ".py",
   "mimetype": "text/x-python",
   "name": "python",
   "nbconvert_exporter": "python",
   "pygments_lexer": "ipython3",
   "version": "3.9.12"
  }
 },
 "nbformat": 4,
 "nbformat_minor": 5
}
