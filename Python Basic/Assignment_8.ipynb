{
 "cells": [
  {
   "cell_type": "raw",
   "id": "b4e43217",
   "metadata": {},
   "source": [
    "1. Is the Python Standard Library included with PyInputPlus?"
   ]
  },
  {
   "cell_type": "raw",
   "id": "7d601ad5",
   "metadata": {},
   "source": [
    "PyInputPlus is not a part of the Python Standard Library, we must install it separately using Pip."
   ]
  },
  {
   "cell_type": "raw",
   "id": "3d6b0605",
   "metadata": {},
   "source": [
    "2. Why is PyInputPlus commonly imported with import pyinputplus as pypi?"
   ]
  },
  {
   "cell_type": "raw",
   "id": "bd341f81",
   "metadata": {},
   "source": [
    " We can import the module with import pyinputplus as pyip so that we can enter a shorter name when calling the module’s functions"
   ]
  },
  {
   "cell_type": "raw",
   "id": "8de17e1c",
   "metadata": {},
   "source": [
    "3. How do you distinguish between inputInt() and inputFloat()?"
   ]
  },
  {
   "cell_type": "raw",
   "id": "c75c5941",
   "metadata": {},
   "source": [
    "The difference is in the data-type \n",
    "for inputInt() the program expects an integer value as input but inputFloat() expects a float valuel"
   ]
  },
  {
   "cell_type": "raw",
   "id": "fbfe3b3b",
   "metadata": {},
   "source": [
    "4. Using PyInputPlus, how do you ensure that the user enters a whole number between 0 and 99?"
   ]
  },
  {
   "cell_type": "raw",
   "id": "637f2464",
   "metadata": {},
   "source": [
    "pyip.inputint(min=0, max=99)"
   ]
  },
  {
   "cell_type": "raw",
   "id": "8e104a45",
   "metadata": {},
   "source": [
    "5. What is transferred to the keyword arguments allowRegexes and blockRegexes?"
   ]
  },
  {
   "cell_type": "raw",
   "id": "325d9eb2",
   "metadata": {},
   "source": [
    " A list of regex strings that are either explicitly allowed or denied"
   ]
  },
  {
   "cell_type": "raw",
   "id": "35499d8b",
   "metadata": {},
   "source": [
    "6. If a blank input is entered three times, what does inputStr(limit=3) do?"
   ]
  },
  {
   "cell_type": "raw",
   "id": "afbedad4",
   "metadata": {},
   "source": [
    "The function will raise RetryLimitException."
   ]
  },
  {
   "cell_type": "raw",
   "id": "367eda02",
   "metadata": {},
   "source": [
    "7. If blank input is entered three times, what does inputStr(limit=3, default='hello') do?"
   ]
  },
  {
   "cell_type": "raw",
   "id": "0fd1e06d",
   "metadata": {},
   "source": [
    "The function returns the value 'hello'"
   ]
  }
 ],
 "metadata": {
  "kernelspec": {
   "display_name": "Python 3 (ipykernel)",
   "language": "python",
   "name": "python3"
  },
  "language_info": {
   "codemirror_mode": {
    "name": "ipython",
    "version": 3
   },
   "file_extension": ".py",
   "mimetype": "text/x-python",
   "name": "python",
   "nbconvert_exporter": "python",
   "pygments_lexer": "ipython3",
   "version": "3.9.12"
  }
 },
 "nbformat": 4,
 "nbformat_minor": 5
}
