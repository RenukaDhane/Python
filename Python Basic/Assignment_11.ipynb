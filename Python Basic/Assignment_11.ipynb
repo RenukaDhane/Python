{
 "cells": [
  {
   "cell_type": "markdown",
   "id": "279c3353",
   "metadata": {},
   "source": [
    "1. Create an assert statement that throws an AssertionError if the variable spam is a negative integer."
   ]
  },
  {
   "cell_type": "code",
   "execution_count": null,
   "id": "f9dcb53d",
   "metadata": {},
   "outputs": [],
   "source": [
    "print('Enter an integer value for spam :')\n",
    "spam=int(input())\n",
    "assert spam>=0"
   ]
  },
  {
   "cell_type": "markdown",
   "id": "17bc0665",
   "metadata": {},
   "source": [
    "2. Write an assert statement that triggers an AssertionError if the variables eggs and bacon contain strings that are the same as each other, even if their cases are different (that is, 'hello' and 'hello' are considered the same, and 'goodbye' and 'GOODbye' are also considered the same)."
   ]
  },
  {
   "cell_type": "code",
   "execution_count": null,
   "id": "077a2162",
   "metadata": {},
   "outputs": [],
   "source": [
    "print(\"Enter value for variable eggs :\")\n",
    "eggs=input()\n",
    "print(\"Enter value for variable bacon :\")\n",
    "bacon=input()\n",
    "assert eggs.lower()!=bacon.lower()"
   ]
  },
  {
   "cell_type": "markdown",
   "id": "a04b8225",
   "metadata": {},
   "source": [
    "3. Create an assert statement that throws an AssertionError every time."
   ]
  },
  {
   "cell_type": "code",
   "execution_count": null,
   "id": "fd28130c",
   "metadata": {},
   "outputs": [],
   "source": [
    "print(\"Enter value for variable eggs :\")\n",
    "eggs=input()\n",
    "print(\"Enter value for variable bacon :\")\n",
    "bacon=input()\n",
    "\n",
    "assert False"
   ]
  },
  {
   "cell_type": "markdown",
   "id": "a81eb96a",
   "metadata": {},
   "source": [
    "4. What are the two lines that must be present in your software in order to call logging.debug()?"
   ]
  },
  {
   "cell_type": "code",
   "execution_count": null,
   "id": "5a6b7059",
   "metadata": {},
   "outputs": [],
   "source": [
    "import logging\n",
    "logging.basicConfig(format='%(levelname)s:%(message)s', level=logging.DEBUG)"
   ]
  },
  {
   "cell_type": "markdown",
   "id": "e199269b",
   "metadata": {},
   "source": [
    "5. What are the two lines that your program must have in order to have logging.debug() send a logging message to a file named programLog.txt?"
   ]
  },
  {
   "cell_type": "code",
   "execution_count": null,
   "id": "22983ae9",
   "metadata": {},
   "outputs": [],
   "source": [
    "import logging\n",
    "logging.basicConfig(filename='programLog.txt', encoding='utf-8', level=logging.DEBUG)\n",
    "logging.debug('This message should go to the log file')"
   ]
  },
  {
   "cell_type": "markdown",
   "id": "46fb7b51",
   "metadata": {},
   "source": [
    "6. What are the five levels of logging?"
   ]
  },
  {
   "cell_type": "markdown",
   "id": "6bc6b468",
   "metadata": {},
   "source": [
    "        Below are five levels of logging :-\n",
    "        DEBUG - Detailed information, typically of interest only when diagnosing problems.\n",
    "\n",
    "        INFO - Confirmation that things are working as expected.\n",
    "\n",
    "        WARNING - An indication that something unexpected happened, or indicative of some problem in the near future \n",
    "        (e.g. ‘disk space low’). The software is still working as expected.\n",
    "\n",
    "        ERROR - Due to a more serious problem, the software has not been able to perform some function.\n",
    "\n",
    "        CRITICAL - A serious error, indicating that the program itself may be unable to continue running."
   ]
  },
  {
   "cell_type": "markdown",
   "id": "bf06cfe2",
   "metadata": {},
   "source": [
    "7. What line of code would you add to your software to disable all logging messages?"
   ]
  },
  {
   "cell_type": "code",
   "execution_count": null,
   "id": "85f2b446",
   "metadata": {},
   "outputs": [],
   "source": [
    "logging.disable()"
   ]
  },
  {
   "cell_type": "markdown",
   "id": "a482e094",
   "metadata": {},
   "source": [
    "8. Why is using logging messages better than using print() to display the same message?"
   ]
  },
  {
   "cell_type": "markdown",
   "id": "dc9932af",
   "metadata": {},
   "source": [
    "        print() can simply print the required text but logging api provides many addition benefits as below :\n",
    "        1.Logging provides a set of convenience functions for simple logging usage. These are debug(), info(), warning(), \n",
    "        error() and critical()\n",
    "        2.It also allows recording logging events in a file,sockets\n",
    "        3.We can easily specify format which is used to display messages including date & time format\n",
    "        4.Logging can also be disabled all at once"
   ]
  },
  {
   "cell_type": "markdown",
   "id": "c2259d3e",
   "metadata": {},
   "source": [
    "9. What are the differences between the Step Over, Step In, and Step Out buttons in the debugger?"
   ]
  },
  {
   "cell_type": "markdown",
   "id": "86961add",
   "metadata": {},
   "source": [
    "        Step over - The debugger will step over a given line. If the line contains a function the \n",
    "        function will be executed and the result returned without debugging each line of that function\n",
    "        \n",
    "        Step into - If the line does not contain a function it behaves the same as “step \n",
    "        over” but if it does the debugger will enter the called function and continue line-by-line debugging there.\n",
    "        \n",
    "        Step out – The debugger returns to the line where the current function was called."
   ]
  },
  {
   "cell_type": "markdown",
   "id": "8fd6ac45",
   "metadata": {},
   "source": [
    "10. After you click Continue, when will the debugger stop ?"
   ]
  },
  {
   "cell_type": "markdown",
   "id": "04fc4060",
   "metadata": {},
   "source": [
    "        After you click continue,debugger will continue execution until the next breakpoint is reached or the program exits."
   ]
  },
  {
   "cell_type": "markdown",
   "id": "d957f366",
   "metadata": {},
   "source": [
    "11. What is the concept of a breakpoint?"
   ]
  },
  {
   "cell_type": "markdown",
   "id": "5b14585c",
   "metadata": {},
   "source": [
    "        Breakpoint is a line number of interest in your program. When the debugger is running it halts execution of the program at this line."
   ]
  },
  {
   "cell_type": "code",
   "execution_count": null,
   "id": "7e647b2c",
   "metadata": {},
   "outputs": [],
   "source": []
  }
 ],
 "metadata": {
  "kernelspec": {
   "display_name": "Python 3 (ipykernel)",
   "language": "python",
   "name": "python3"
  },
  "language_info": {
   "codemirror_mode": {
    "name": "ipython",
    "version": 3
   },
   "file_extension": ".py",
   "mimetype": "text/x-python",
   "name": "python",
   "nbconvert_exporter": "python",
   "pygments_lexer": "ipython3",
   "version": "3.9.12"
  }
 },
 "nbformat": 4,
 "nbformat_minor": 5
}
