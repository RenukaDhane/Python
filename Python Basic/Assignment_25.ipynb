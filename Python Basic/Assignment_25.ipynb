{
 "cells": [
  {
   "cell_type": "markdown",
   "id": "dad1b03a",
   "metadata": {},
   "source": [
    "#### 1)What is the difference between enclosing a list comprehension in square brackets and parentheses?\n",
    "\n",
    "Enclosing a list comprehension in square brackets gives a list while doing the same in parantheses gives us generator\n",
    "\n"
   ]
  },
  {
   "cell_type": "code",
   "execution_count": 3,
   "id": "24f29956",
   "metadata": {},
   "outputs": [
    {
     "name": "stdout",
     "output_type": "stream",
     "text": [
      "<class 'generator'>\n"
     ]
    }
   ],
   "source": [
    "num= (i * 2 for i in range(10))\n",
    "\n",
    "print(type(num))"
   ]
  },
  {
   "cell_type": "code",
   "execution_count": 4,
   "id": "8e4e6c51",
   "metadata": {},
   "outputs": [
    {
     "name": "stdout",
     "output_type": "stream",
     "text": [
      "<class 'list'>\n"
     ]
    }
   ],
   "source": [
    "num= [i * 2 for i in range(10)]\n",
    "\n",
    "print(type(num))"
   ]
  },
  {
   "cell_type": "markdown",
   "id": "97501994",
   "metadata": {},
   "source": [
    "#### 2) What is the relationship between generators and iterators?\n",
    "\n",
    "1.An **iterator** is an object which contains a countable number of values and it is used to iterate over iterable objects like list, tuples, sets, etc while **generator** is another way of creating iterators in a simple way where it uses the keyword “yield” instead of returning it in a defined function\n",
    "\n",
    "2.Iterators are implemented using a **class** while  Generators are implemented using a **function**.\n",
    "\n",
    "3.Just as iterators, generators also follow **lazy evaluation**.\n",
    "\n",
    "4.Iterator uses **iter()** and **next()** functions while Generator uses **yield keyword**\n",
    "\n",
    "5.Every iterator is not a generator while Every generator is an iterator"
   ]
  },
  {
   "cell_type": "markdown",
   "id": "950da930",
   "metadata": {},
   "source": [
    "#### 3) What are the signs that a function is a generator function?\n",
    "We can only tell it is a generator function by the presence of a **yield statement**. A yield statement turns a regular function into a generator function\n"
   ]
  },
  {
   "cell_type": "markdown",
   "id": "a45c85ee",
   "metadata": {},
   "source": [
    "#### 4) What is the purpose of a yield statement?\n",
    "1. The Yield keyword in Python is similar to a return statement used for returning values or objects in Python. However, there is a slight difference. The yield statement returns a generator object to the one who calls the function which contains yield, instead of simply returning a value.\n",
    "\n",
    "\n",
    "2. Inside a program, when you call a function that has a yield statement, as soon as a yield is encountered, the execution of the function stops and returns an object of the generator to the function caller.\n",
    "\n",
    "\n"
   ]
  },
  {
   "cell_type": "markdown",
   "id": "e62140ec",
   "metadata": {},
   "source": [
    "#### 5) What is the relationship between map calls and list comprehensions? Make a comparison and contrast between the two.\n",
    "\n",
    "map() function returns a map object(which is an iterator) of the results after applying the given function to each item of a given iterable (list, tuple etc.)\n",
    "\n",
    "List Comprehension is a substitute for the lambda function, map(), filter() and reduce(). It follows the form of the mathematical set-builder notation. It provide a concise way to create lists.\n",
    "\n",
    "##### Map VS List Comprehension\n",
    "1. List comprehension is more concise and easier to read as compared to map.\n",
    "\n",
    "2. List comprehension allows filtering. In map, we have no such facility. For example, to print all even numbers in range of 100, we can write [n for n in range(100) if n%2 == 0]. There is no alternate for it in map\n",
    "3. List comprehension are used when a list of results is required as map only returns a map object and does not return any list.\n",
    "4. List comprehension is faster than map when we need to evaluate expressions that are too long or complicated to express\n",
    "5. Map is faster in case of calling an already defined function (as no lambda is required)."
   ]
  }
 ],
 "metadata": {
  "kernelspec": {
   "display_name": "Python 3 (ipykernel)",
   "language": "python",
   "name": "python3"
  },
  "language_info": {
   "codemirror_mode": {
    "name": "ipython",
    "version": 3
   },
   "file_extension": ".py",
   "mimetype": "text/x-python",
   "name": "python",
   "nbconvert_exporter": "python",
   "pygments_lexer": "ipython3",
   "version": "3.9.12"
  }
 },
 "nbformat": 4,
 "nbformat_minor": 5
}
