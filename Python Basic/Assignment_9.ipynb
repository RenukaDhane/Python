{
 "cells": [
  {
   "cell_type": "markdown",
   "id": "982bc788",
   "metadata": {},
   "source": [
    "###### 1. To what does a relative path refer?"
   ]
  },
  {
   "cell_type": "raw",
   "id": "a0b5de56",
   "metadata": {},
   "source": [
    "A relative path in Python is a path that describes the location of a directory relative \n",
    "to the entry point where you run the Python script."
   ]
  },
  {
   "cell_type": "markdown",
   "id": "53154560",
   "metadata": {},
   "source": [
    "###### 2. What does an absolute path start with your operating system?"
   ]
  },
  {
   "cell_type": "raw",
   "id": "a74a5172",
   "metadata": {},
   "source": [
    "An absolute path is a path that contains the entire path to the file or directory that you need to access. \n",
    "This path will begin at the home directory of your computer and will end with the file or directory that you wish to access"
   ]
  },
  {
   "cell_type": "markdown",
   "id": "f72bd17e",
   "metadata": {},
   "source": [
    "###### 3. What do the functions os.getcwd() and os.chdir() do?"
   ]
  },
  {
   "cell_type": "raw",
   "id": "24f4b0f5",
   "metadata": {},
   "source": [
    "os.getcwd() method tells us the location of current working directory (CWD).\n",
    "os.chdir() method in Python used to change the current working directory to specified path."
   ]
  },
  {
   "cell_type": "markdown",
   "id": "db63c4ed",
   "metadata": {},
   "source": [
    "###### 4. What are the . and .. folders?"
   ]
  },
  {
   "cell_type": "raw",
   "id": "fbdcab39",
   "metadata": {},
   "source": [
    "The . is the current directory, while .. signifies the parent directory"
   ]
  },
  {
   "cell_type": "markdown",
   "id": "7431e5cc",
   "metadata": {},
   "source": [
    "###### 5. In C:\\bacon\\eggs\\spam.txt, which part is the dir name, and which part is the base name?"
   ]
  },
  {
   "cell_type": "raw",
   "id": "32309e3a",
   "metadata": {},
   "source": [
    "C:\\bacon\\eggs is the dir name, while spam. txt is the base name."
   ]
  },
  {
   "cell_type": "markdown",
   "id": "36a7fe03",
   "metadata": {},
   "source": [
    "###### 6. What are the three “mode” arguments that can be passed to the open() function?"
   ]
  },
  {
   "cell_type": "raw",
   "id": "36e649eb",
   "metadata": {},
   "source": [
    "'r' - Open a file for reading. (default)\n",
    "'w' - Open a file for writing. Creates a new file if it does not exist or truncates the file if it exists.\n",
    "'a' - Open for appending at the end of the file without truncating it. Creates a new file if it does not exis"
   ]
  },
  {
   "cell_type": "markdown",
   "id": "7c0695dd",
   "metadata": {},
   "source": [
    "###### 7. What happens if an existing file is opened in write mode?"
   ]
  },
  {
   "cell_type": "raw",
   "id": "25d5807a",
   "metadata": {},
   "source": [
    "The w mode will overwrite into the file if it already exists."
   ]
  },
  {
   "cell_type": "markdown",
   "id": "9045a2a5",
   "metadata": {},
   "source": [
    "###### 8. How do you tell the difference between read() and readlines()?"
   ]
  },
  {
   "cell_type": "raw",
   "id": "111874a0",
   "metadata": {},
   "source": [
    "read() reads the entire contents of the file into a string while\n",
    "readlines() returns a list of lines (strings)"
   ]
  },
  {
   "cell_type": "markdown",
   "id": "a144596f",
   "metadata": {},
   "source": [
    "###### 9. What data structure does a shelf value resemble?"
   ]
  },
  {
   "cell_type": "raw",
   "id": "8f6f02e7",
   "metadata": {},
   "source": [
    "A shelf value resembles a dictionary value\n",
    "it has keys and values, along with keys() and values() methods that work similarly to the dictionary methods of the same names."
   ]
  }
 ],
 "metadata": {
  "kernelspec": {
   "display_name": "Python 3 (ipykernel)",
   "language": "python",
   "name": "python3"
  },
  "language_info": {
   "codemirror_mode": {
    "name": "ipython",
    "version": 3
   },
   "file_extension": ".py",
   "mimetype": "text/x-python",
   "name": "python",
   "nbconvert_exporter": "python",
   "pygments_lexer": "ipython3",
   "version": "3.9.12"
  }
 },
 "nbformat": 4,
 "nbformat_minor": 5
}
