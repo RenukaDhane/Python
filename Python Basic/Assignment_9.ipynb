{
 "cells": [
  {
   "cell_type": "code",
   "execution_count": null,
   "id": "55689f15",
   "metadata": {},
   "outputs": [],
   "source": [
    "1. To what does a relative path refer?"
   ]
  },
  {
   "cell_type": "code",
   "execution_count": null,
   "id": "e4b128fc",
   "metadata": {},
   "outputs": [],
   "source": [
    "A relative path in Python is a path that describes the location of a directory relative \n",
    "to the entry point where you run the Python script."
   ]
  },
  {
   "cell_type": "code",
   "execution_count": null,
   "id": "427308dc",
   "metadata": {},
   "outputs": [],
   "source": [
    "2. What does an absolute path start with your operating system?"
   ]
  },
  {
   "cell_type": "code",
   "execution_count": null,
   "id": "8c06e879",
   "metadata": {},
   "outputs": [],
   "source": [
    "An absolute path is a path that contains the entire path to the file or directory that you need to access. \n",
    "This path will begin at the home directory of your computer and will end with the file or directory that you wish to access"
   ]
  },
  {
   "cell_type": "code",
   "execution_count": null,
   "id": "a8472c57",
   "metadata": {},
   "outputs": [],
   "source": [
    "3. What do the functions os.getcwd() and os.chdir() do?"
   ]
  },
  {
   "cell_type": "code",
   "execution_count": null,
   "id": "81de7dfb",
   "metadata": {},
   "outputs": [],
   "source": [
    "os.getcwd() method tells us the location of current working directory (CWD).\n",
    "os.chdir() method in Python used to change the current working directory to specified path."
   ]
  },
  {
   "cell_type": "code",
   "execution_count": null,
   "id": "57e96180",
   "metadata": {},
   "outputs": [],
   "source": [
    "4. What are the . and .. folders?"
   ]
  },
  {
   "cell_type": "code",
   "execution_count": null,
   "id": "1f5ca4bf",
   "metadata": {},
   "outputs": [],
   "source": [
    "The . is the current directory, while .. signifies the parent directory"
   ]
  },
  {
   "cell_type": "code",
   "execution_count": null,
   "id": "8edf539f",
   "metadata": {},
   "outputs": [],
   "source": [
    "5. In C:\\bacon\\eggs\\spam.txt, which part is the dir name, and which part is the base name?"
   ]
  },
  {
   "cell_type": "code",
   "execution_count": null,
   "id": "2838d749",
   "metadata": {},
   "outputs": [],
   "source": [
    "C:\\bacon\\eggs is the dir name, while spam. txt is the base name."
   ]
  },
  {
   "cell_type": "code",
   "execution_count": null,
   "id": "0aaee078",
   "metadata": {},
   "outputs": [],
   "source": [
    "6. What are the three “mode” arguments that can be passed to the open() function?"
   ]
  },
  {
   "cell_type": "code",
   "execution_count": null,
   "id": "aa2021a2",
   "metadata": {},
   "outputs": [],
   "source": [
    "'r' - Open a file for reading. (default)\n",
    "'w' - Open a file for writing. Creates a new file if it does not exist or truncates the file if it exists.\n",
    "'a' - Open for appending at the end of the file without truncating it. Creates a new file if it does not exis"
   ]
  },
  {
   "cell_type": "code",
   "execution_count": null,
   "id": "ead45cc1",
   "metadata": {},
   "outputs": [],
   "source": [
    "7. What happens if an existing file is opened in write mode?"
   ]
  },
  {
   "cell_type": "code",
   "execution_count": null,
   "id": "2e764d68",
   "metadata": {},
   "outputs": [],
   "source": [
    "The w mode will overwrite into the file if it already exists."
   ]
  },
  {
   "cell_type": "code",
   "execution_count": null,
   "id": "47690d74",
   "metadata": {},
   "outputs": [],
   "source": [
    "8. How do you tell the difference between read() and readlines()?"
   ]
  },
  {
   "cell_type": "code",
   "execution_count": null,
   "id": "360b2444",
   "metadata": {},
   "outputs": [],
   "source": [
    "read() reads the entire contents of the file into a string while\n",
    "readlines() returns a list of lines (strings)"
   ]
  },
  {
   "cell_type": "code",
   "execution_count": null,
   "id": "426b3ed2",
   "metadata": {},
   "outputs": [],
   "source": [
    "9. What data structure does a shelf value resemble?"
   ]
  },
  {
   "cell_type": "code",
   "execution_count": null,
   "id": "749293fe",
   "metadata": {},
   "outputs": [],
   "source": [
    "A shelf value resembles a dictionary value\n",
    "it has keys and values, along with keys() and values() methods that work similarly to the dictionary methods of the same names."
   ]
  }
 ],
 "metadata": {
  "kernelspec": {
   "display_name": "Python 3 (ipykernel)",
   "language": "python",
   "name": "python3"
  },
  "language_info": {
   "codemirror_mode": {
    "name": "ipython",
    "version": 3
   },
   "file_extension": ".py",
   "mimetype": "text/x-python",
   "name": "python",
   "nbconvert_exporter": "python",
   "pygments_lexer": "ipython3",
   "version": "3.9.12"
  }
 },
 "nbformat": 4,
 "nbformat_minor": 5
}
