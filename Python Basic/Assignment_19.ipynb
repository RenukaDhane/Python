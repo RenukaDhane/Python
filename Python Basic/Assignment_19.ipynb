{
 "cells": [
  {
   "cell_type": "markdown",
   "id": "d968dea5",
   "metadata": {},
   "source": [
    "1. Make a class called Thing with no contents and print it. Then, create an object called example from this class and also print it. Are the printed values the same or different?"
   ]
  },
  {
   "cell_type": "code",
   "execution_count": 4,
   "id": "35b7f9ed",
   "metadata": {},
   "outputs": [
    {
     "name": "stdout",
     "output_type": "stream",
     "text": [
      "<class '__main__.Thing'>\n",
      "<__main__.Thing object at 0x0000021A514716A0>\n"
     ]
    }
   ],
   "source": [
    "class Thing:\n",
    "    pass\n",
    "\n",
    "print(Thing) \n",
    "\n",
    "example=Thing()\n",
    "print(example)"
   ]
  },
  {
   "cell_type": "markdown",
   "id": "8e17818f",
   "metadata": {},
   "source": [
    "The printed values are different."
   ]
  },
  {
   "cell_type": "markdown",
   "id": "12f7ed60",
   "metadata": {},
   "source": [
    "2. Create a new class called Thing2 and add the value 'abc' to the letters class attribute. Letters should be printed."
   ]
  },
  {
   "cell_type": "code",
   "execution_count": 3,
   "id": "d520b905",
   "metadata": {},
   "outputs": [
    {
     "name": "stdout",
     "output_type": "stream",
     "text": [
      "abc\n"
     ]
    }
   ],
   "source": [
    "class Thing2():\n",
    "    letters='abc'\n",
    "    \n",
    "print(Thing2.letters)    "
   ]
  },
  {
   "cell_type": "markdown",
   "id": "0240e8d8",
   "metadata": {},
   "source": [
    "3. Make yet another class called, of course, Thing3. This time, assign the value 'xyz' to an instance (object) attribute called letters. Print letters. Do you need to make an object from the class to do this?"
   ]
  },
  {
   "cell_type": "code",
   "execution_count": 5,
   "id": "064faed3",
   "metadata": {},
   "outputs": [
    {
     "name": "stdout",
     "output_type": "stream",
     "text": [
      "xyz\n"
     ]
    }
   ],
   "source": [
    "# We need to make an object from the class\n",
    "class Thing3:\n",
    "    def __init__(self):\n",
    "        self.letters='xyz' \n",
    "        \n",
    "obj=Thing3()\n",
    "print(obj.letters)"
   ]
  },
  {
   "cell_type": "markdown",
   "id": "8a33888f",
   "metadata": {},
   "source": [
    "4. Create an Element class with the instance attributes name, symbol, and number. Create a class object with the values 'Hydrogen,' 'H,' and 1."
   ]
  },
  {
   "cell_type": "code",
   "execution_count": 7,
   "id": "19f83052",
   "metadata": {},
   "outputs": [
    {
     "name": "stdout",
     "output_type": "stream",
     "text": [
      "<__main__.Element object at 0x0000021A514719A0>\n"
     ]
    }
   ],
   "source": [
    "class Element:\n",
    "    def __init__(self,name, symbol,number):\n",
    "        self.name=name\n",
    "        self.symbol=symbol\n",
    "        self.number=number\n",
    "        \n",
    "obj=Element('Hydrogen', 'H', 1)  \n",
    "print(obj)"
   ]
  },
  {
   "cell_type": "markdown",
   "id": "abf50933",
   "metadata": {},
   "source": [
    "5. Make a dictionary with these keys and values: 'name': 'Hydrogen', 'symbol': 'H', 'number': 1. Then, create an object called hydrogen from class Element using this dictionary."
   ]
  },
  {
   "cell_type": "code",
   "execution_count": 11,
   "id": "a3a9e0bc",
   "metadata": {},
   "outputs": [
    {
     "name": "stdout",
     "output_type": "stream",
     "text": [
      "Hydrogen\n",
      "H\n",
      "1\n"
     ]
    }
   ],
   "source": [
    "element_dictionary={'name': 'Hydrogen', 'symbol': 'H', 'number': 1}\n",
    "hydrogen=Element(*element_dictionary.values())\n",
    "\n",
    "print(hydrogen.name)\n",
    "print(hydrogen.symbol)\n",
    "print(hydrogen.number)"
   ]
  },
  {
   "cell_type": "markdown",
   "id": "37ebc682",
   "metadata": {},
   "source": [
    "6. For the Element class, define a method called dump() that prints the values of the object’s attributes (name, symbol, and number). Create the hydrogen object from this new definition and use dump() to print its attributes."
   ]
  },
  {
   "cell_type": "code",
   "execution_count": 23,
   "id": "de7aa4e5",
   "metadata": {},
   "outputs": [
    {
     "name": "stdout",
     "output_type": "stream",
     "text": [
      "Name  Hydrogen\n",
      "Symbol  H\n",
      "Number  1\n"
     ]
    }
   ],
   "source": [
    "class Element:\n",
    "        def __init__(self,name,symbol,number):\n",
    "            self.name=name\n",
    "            self.symbol=symbol\n",
    "            self.number=number\n",
    "        \n",
    "        def dump(self):\n",
    "            print(\"Name \",self.name)\n",
    "            print(\"Symbol \",self.symbol)\n",
    "            print(\"Number \",self.number)\n",
    "\n",
    "hydrogen=Element(\"Hydrogen\",\"H\",1)\n",
    "hydrogen.dump()"
   ]
  },
  {
   "cell_type": "markdown",
   "id": "7495e30a",
   "metadata": {},
   "source": [
    "7. Call print(hydrogen). In the definition of Element, change the name of method dump to __str__, create a new hydrogen object, and call print(hydrogen) again."
   ]
  },
  {
   "cell_type": "code",
   "execution_count": 24,
   "id": "ca24868d",
   "metadata": {},
   "outputs": [
    {
     "name": "stdout",
     "output_type": "stream",
     "text": [
      "<__main__.Element object at 0x0000021A5256E8E0>\n",
      "Name : Hydrogen ,Symbol : H,Number : 1\n"
     ]
    }
   ],
   "source": [
    "print(hydrogen)\n",
    "class Element:\n",
    "        def __init__(self,name,symbol,number):\n",
    "            self.name=name\n",
    "            self.symbol=symbol\n",
    "            self.number=number\n",
    "        \n",
    "        def __str__(self):\n",
    "            return f'Name : {self.name} ,Symbol : {self.symbol},Number : {self.number}'\n",
    "            \n",
    "hydrogen=Element(\"Hydrogen\",\"H\",1)\n",
    "print(hydrogen)"
   ]
  },
  {
   "cell_type": "markdown",
   "id": "03d0d95d",
   "metadata": {},
   "source": [
    "8. Modify Element to make the attributes name, symbol, and number private. Define a getter property for each to return its value."
   ]
  },
  {
   "cell_type": "code",
   "execution_count": 25,
   "id": "50adb7be",
   "metadata": {},
   "outputs": [
    {
     "name": "stdout",
     "output_type": "stream",
     "text": [
      "Hydrogen\n",
      "H\n",
      "1\n"
     ]
    }
   ],
   "source": [
    "class Element:\n",
    "    def __init__(self,name,symbol,number):\n",
    "        self._name=name\n",
    "        self._symbol=symbol\n",
    "        self._number=number\n",
    "        \n",
    "    @property\n",
    "    def name(self):\n",
    "        return self._name\n",
    "        \n",
    "    @property\n",
    "    def symbol(self):\n",
    "        return self._symbol\n",
    "    \n",
    "    @property\n",
    "    def number(self):\n",
    "        return self._number\n",
    "    \n",
    "    \n",
    "hydrogen=Element(\"Hydrogen\",\"H\",1)\n",
    "print(hydrogen.name)\n",
    "print(hydrogen.symbol)\n",
    "print(hydrogen.number)"
   ]
  },
  {
   "cell_type": "markdown",
   "id": "a05518b3",
   "metadata": {},
   "source": [
    "9. Define three classes: Bear, Rabbit, and Octothorpe. For each, define only one method: eats(). This should return 'berries' (Bear), 'clover' (Rabbit), or 'campers' (Octothorpe). Create one object from each and print what it eats."
   ]
  },
  {
   "cell_type": "code",
   "execution_count": 30,
   "id": "77568944",
   "metadata": {},
   "outputs": [
    {
     "name": "stdout",
     "output_type": "stream",
     "text": [
      "Bear b eats :  berries\n",
      "Rabbit b eats :  clover\n",
      "Octothorpe o eats :  campers\n"
     ]
    }
   ],
   "source": [
    "class Bear:\n",
    "    def eats(self):\n",
    "        return \"berries\"\n",
    "    \n",
    "class Rabbit:\n",
    "    def eats(self):\n",
    "        return \"clover\"\n",
    "    \n",
    "class Octothorpe:\n",
    "    def eats(self):\n",
    "        return \"campers\"\n",
    "    \n",
    "    \n",
    "b=Bear()\n",
    "print(\"Bear b eats : \",b.eats())\n",
    "\n",
    "r=Rabbit()\n",
    "print(\"Rabbit b eats : \",r.eats())\n",
    "\n",
    "o=Octothorpe()\n",
    "print(\"Octothorpe o eats : \",o.eats())"
   ]
  },
  {
   "cell_type": "markdown",
   "id": "2be22390",
   "metadata": {},
   "source": [
    "10. Define these classes: Laser, Claw, and SmartPhone. Each has only one method: does(). This returns 'disintegrate' (Laser), 'crush' (Claw), or 'ring' (SmartPhone). Then, define the class Robot that has one instance (object) of each of these. Define a does() method for the Robot that prints what its component objects do."
   ]
  },
  {
   "cell_type": "code",
   "execution_count": 37,
   "id": "115d2f56",
   "metadata": {},
   "outputs": [
    {
     "name": "stdout",
     "output_type": "stream",
     "text": [
      "Function of laser is disintegrate.Function of claw is crush.Function of smartphone is ring\n"
     ]
    }
   ],
   "source": [
    "class Laser:\n",
    "    def does(self):\n",
    "        return \"disintegrate\"\n",
    "\n",
    "class Claw:\n",
    "    def does(self):\n",
    "        return \"crush\"\n",
    "    \n",
    "class SmartPhone:\n",
    "    def does(self):\n",
    "        return \"ring\"\n",
    "    \n",
    "    \n",
    "class Robot:\n",
    "    def does(self):\n",
    "        laser=Laser()\n",
    "        claw=Claw()\n",
    "        smartphone=SmartPhone()\n",
    "        return f'Function of laser is {laser.does()}.Function of claw is {claw.does()}.Function of smartphone is {smartphone.does()}'\n",
    "    \n",
    "    \n",
    "        \n",
    "r= Robot()\n",
    "print(r.does())"
   ]
  },
  {
   "cell_type": "code",
   "execution_count": null,
   "id": "45131c6b",
   "metadata": {},
   "outputs": [],
   "source": []
  }
 ],
 "metadata": {
  "kernelspec": {
   "display_name": "Python 3 (ipykernel)",
   "language": "python",
   "name": "python3"
  },
  "language_info": {
   "codemirror_mode": {
    "name": "ipython",
    "version": 3
   },
   "file_extension": ".py",
   "mimetype": "text/x-python",
   "name": "python",
   "nbconvert_exporter": "python",
   "pygments_lexer": "ipython3",
   "version": "3.9.12"
  }
 },
 "nbformat": 4,
 "nbformat_minor": 5
}
