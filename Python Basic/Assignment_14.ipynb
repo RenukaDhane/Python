{
 "cells": [
  {
   "cell_type": "markdown",
   "id": "aa26076c",
   "metadata": {},
   "source": [
    "1.What does RGBA stand for? "
   ]
  },
  {
   "cell_type": "markdown",
   "id": "59f65eaa",
   "metadata": {},
   "source": [
    "RGBA stands for Red-Green-Blue-Alpha."
   ]
  },
  {
   "cell_type": "markdown",
   "id": "e797a999",
   "metadata": {},
   "source": [
    "2.From the Pillow module, how do you get the RGBA value of any images?"
   ]
  },
  {
   "cell_type": "code",
   "execution_count": null,
   "id": "3c48d403",
   "metadata": {},
   "outputs": [],
   "source": [
    "!pip install Pillow\n",
    "from PIL import Image\n",
    "\n",
    "img = Image.open('cat.png')\n",
    "\n",
    "rgba = img.convert('RGBA')\n",
    "\n",
    "data = rgba.getdata()\n",
    "print(data)"
   ]
  },
  {
   "cell_type": "markdown",
   "id": "1d141194",
   "metadata": {},
   "source": [
    "3.What is a box tuple,and how does it work?"
   ]
  },
  {
   "cell_type": "markdown",
   "id": "5d60c441",
   "metadata": {},
   "source": [
    "Box tuple is a tuple of four integer coordinates that represent a rectangular region in an image.The four integers are, in order, as follows:\n",
    "\n",
    "Left : The x-coordinate of the leftmost edge of the box.\n",
    "\n",
    "Top : The y-coordinate of the top edge of the box.\n",
    "\n",
    "Right : The x-coordinate of one pixel to the right of the rightmost edge of the box. This integer must be greater than the left integer.\n",
    "\n",
    "Bottom : The y-coordinate of one pixel lower than the bottom edge of the box. This integer must be greater than the top integer."
   ]
  },
  {
   "cell_type": "markdown",
   "id": "4549c163",
   "metadata": {},
   "source": [
    "4.Use your image and load in notebook then, How can you find out the width and height of an Image object?"
   ]
  },
  {
   "cell_type": "code",
   "execution_count": 9,
   "id": "7e0a460a",
   "metadata": {},
   "outputs": [
    {
     "name": "stdout",
     "output_type": "stream",
     "text": [
      "Width  of the image is: 1670\n",
      "Height of the image is: 1670\n"
     ]
    }
   ],
   "source": [
    "from PIL import Image\n",
    "\n",
    "#read the image\n",
    "im = Image.open(\"cat.png\")\n",
    "\n",
    "#image size\n",
    "width = im.size[0]\n",
    "height = im.size[1]\n",
    "\n",
    "print('Width  of the image is:', width)\n",
    "print('Height of the image is:', height)"
   ]
  },
  {
   "cell_type": "markdown",
   "id": "12d7aca7",
   "metadata": {},
   "source": [
    "5.What method would you call to get Image object for a 100×100 image, excluding the lower-left quarter of it?"
   ]
  },
  {
   "cell_type": "markdown",
   "id": "84881cb3",
   "metadata": {},
   "source": [
    "crop() method"
   ]
  },
  {
   "cell_type": "markdown",
   "id": "f47d182b",
   "metadata": {},
   "source": [
    "6.After making changes to an Image object, how could you save it as an image file?"
   ]
  },
  {
   "cell_type": "markdown",
   "id": "9e2480bd",
   "metadata": {},
   "source": [
    "After making changes to an Image object,we can save it as an image file using save() method"
   ]
  },
  {
   "cell_type": "markdown",
   "id": "43de50b8",
   "metadata": {},
   "source": [
    "7.What module contains Pillow’s shape-drawing code?"
   ]
  },
  {
   "cell_type": "markdown",
   "id": "9185eb47",
   "metadata": {},
   "source": [
    "ImageDraw module contains Pillow’s shape-drawing code"
   ]
  },
  {
   "cell_type": "markdown",
   "id": "02a20abf",
   "metadata": {},
   "source": [
    "8.Image objects do not have drawing methods. What kind of object does? How do you get this kind of object?"
   ]
  },
  {
   "cell_type": "markdown",
   "id": "416c41c9",
   "metadata": {},
   "source": [
    "Draw() method from ImageDraw module creates an object that can be used to draw in the given image."
   ]
  }
 ],
 "metadata": {
  "kernelspec": {
   "display_name": "Python 3 (ipykernel)",
   "language": "python",
   "name": "python3"
  },
  "language_info": {
   "codemirror_mode": {
    "name": "ipython",
    "version": 3
   },
   "file_extension": ".py",
   "mimetype": "text/x-python",
   "name": "python",
   "nbconvert_exporter": "python",
   "pygments_lexer": "ipython3",
   "version": "3.9.12"
  }
 },
 "nbformat": 4,
 "nbformat_minor": 5
}
