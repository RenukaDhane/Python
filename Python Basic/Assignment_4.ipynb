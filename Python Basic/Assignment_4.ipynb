{
 "cells": [
  {
   "cell_type": "raw",
   "metadata": {},
   "source": [
    "1. What exactly is []?"
   ]
  },
  {
   "cell_type": "raw",
   "metadata": {},
   "source": [
    "[] denotes an empty list."
   ]
  },
  {
   "cell_type": "raw",
   "metadata": {},
   "source": [
    "2. In a list of values stored in a variable called spam, how would you assign the value 'hello' as the third value? (Assume [2, 4, 6, 8, 10] are in spam.)"
   ]
  },
  {
   "cell_type": "raw",
   "metadata": {},
   "source": [
    "Below insert function assigns the value 'hello' as the third value i.e index 2\n",
    "spam.insert(2,'hello')"
   ]
  },
  {
   "cell_type": "raw",
   "metadata": {},
   "source": [
    "Let's pretend the spam includes the list ['a', 'b', 'c', 'd'] for the next three queries.\n",
    "3. What is the value of spam[int(int('3' * 2) / 11)]?"
   ]
  },
  {
   "cell_type": "raw",
   "metadata": {},
   "source": [
    "d"
   ]
  },
  {
   "cell_type": "raw",
   "metadata": {},
   "source": [
    "4. What is the value of spam[-1]?"
   ]
  },
  {
   "cell_type": "raw",
   "metadata": {},
   "source": [
    "d"
   ]
  },
  {
   "cell_type": "raw",
   "metadata": {},
   "source": [
    "5. What is the value of spam[:2]?"
   ]
  },
  {
   "cell_type": "raw",
   "metadata": {},
   "source": [
    "['a','b']"
   ]
  },
  {
   "cell_type": "raw",
   "metadata": {},
   "source": [
    "Let's pretend bacon has the list [3.14, 'cat,' 11, 'cat,' True] for the next three questions."
   ]
  },
  {
   "cell_type": "raw",
   "metadata": {},
   "source": [
    "6. What is the value of bacon.index('cat')?"
   ]
  },
  {
   "cell_type": "raw",
   "metadata": {},
   "source": [
    "Considering list [3.14, 'cat', 11, 'cat', True]  as bacon,\n",
    "\n",
    "1"
   ]
  },
  {
   "cell_type": "raw",
   "metadata": {},
   "source": [
    "7. How does bacon.append(99) change the look of the list value in bacon?"
   ]
  },
  {
   "cell_type": "raw",
   "metadata": {},
   "source": [
    "Considering list [3.14, 'cat', 11, 'cat', True]  as bacon,\n",
    "[3.14, 'cat,' 11, 'cat,' True,99]"
   ]
  },
  {
   "cell_type": "raw",
   "metadata": {},
   "source": [
    "8. How does bacon.remove('cat') change the look of the list in bacon?"
   ]
  },
  {
   "cell_type": "raw",
   "metadata": {},
   "source": [
    "Considering list [3.14, 'cat', 11, 'cat', True]  as bacon,\n",
    "[3.14, , 11, 'cat,' True]"
   ]
  },
  {
   "cell_type": "raw",
   "metadata": {},
   "source": [
    "9. What are the list concatenation and list replication operators?"
   ]
  },
  {
   "cell_type": "raw",
   "metadata": {},
   "source": [
    "List Concatenation is done by + operator.Its allows to concat together two lists as in below example\n",
    "l1=[50,51,52]\n",
    "l2=[53,54]\n",
    "print (l1+l2)\n",
    "#Output:[50,51,52,53,54]\n",
    "\n",
    "\n",
    "List replication is done by * operator.It will make multiple copies of that particular object and combines them together as in below example.\n",
    "l1=[55,56,57]\n",
    "print (l1 * 3)\n",
    "#Output:[55,56,57,55,56,57,55,56,57]"
   ]
  },
  {
   "cell_type": "raw",
   "metadata": {},
   "source": [
    "10. What is difference between the list methods append() and insert()?"
   ]
  },
  {
   "cell_type": "raw",
   "metadata": {},
   "source": [
    "append() adds an element to the end of the list while insert() allows to insert an element at specific index in the list"
   ]
  },
  {
   "cell_type": "raw",
   "metadata": {},
   "source": [
    "11. What are the two methods for removing items from a list?"
   ]
  },
  {
   "cell_type": "raw",
   "metadata": {},
   "source": [
    "remove() , pop()"
   ]
  },
  {
   "cell_type": "raw",
   "metadata": {},
   "source": [
    "12. Describe how list values and string values are identical."
   ]
  },
  {
   "cell_type": "raw",
   "metadata": {},
   "source": [
    "Both list and string are ordered collection of objects i.e it maintains the order in which the elements were specified initially"
   ]
  },
  {
   "cell_type": "raw",
   "metadata": {},
   "source": [
    "13. What's the difference between tuples and lists?"
   ]
  },
  {
   "cell_type": "raw",
   "metadata": {},
   "source": [
    "Tuples are immutable objects while lists are mutable."
   ]
  },
  {
   "cell_type": "raw",
   "metadata": {},
   "source": [
    "14. How do you type a tuple value that only contains the integer 42?"
   ]
  },
  {
   "cell_type": "raw",
   "metadata": {},
   "source": [
    "t=(42,)"
   ]
  },
  {
   "cell_type": "raw",
   "metadata": {},
   "source": [
    "15. How do you get a list value's tuple form? How do you get a tuple value's list form?"
   ]
  },
  {
   "cell_type": "raw",
   "metadata": {},
   "source": [
    "We can get list value's tuple form by using python function tuple().Similarly tuple value's list form can be derived by using function list()"
   ]
  },
  {
   "cell_type": "raw",
   "metadata": {},
   "source": [
    "16. Variables that \"contain\" list values are not necessarily lists themselves. Instead, what do they contain?"
   ]
  },
  {
   "cell_type": "raw",
   "metadata": {},
   "source": [
    "List values can be of  different types like string , integers , tuple, set, dictionary,float."
   ]
  },
  {
   "cell_type": "raw",
   "metadata": {},
   "source": [
    "17. How do you distinguish between copy.copy() and copy.deepcopy()?"
   ]
  },
  {
   "cell_type": "raw",
   "metadata": {},
   "source": [
    "copy.copy() creates a shallow copy of an object, i.e it  creates a new object which stores the reference of the original elements.\n",
    "\n",
    "copy.deepcopy() allows to create deep copy i.e  creates a new object and recursively adds the copies of nested objects present in the original elements."
   ]
  }
 ],
 "metadata": {
  "kernelspec": {
   "display_name": "Python 3",
   "language": "python",
   "name": "python3"
  },
  "language_info": {
   "codemirror_mode": {
    "name": "ipython",
    "version": 3
   },
   "file_extension": ".py",
   "mimetype": "text/x-python",
   "name": "python",
   "nbconvert_exporter": "python",
   "pygments_lexer": "ipython3",
   "version": "3.7.6"
  }
 },
 "nbformat": 4,
 "nbformat_minor": 4
}
