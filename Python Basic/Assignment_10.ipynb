{
 "cells": [
  {
   "cell_type": "markdown",
   "id": "71cd24ce",
   "metadata": {},
   "source": [
    "1. How do you distinguish between shutil.copy() and shutil.copytree()?"
   ]
  },
  {
   "cell_type": "markdown",
   "id": "c92c5e51",
   "metadata": {},
   "source": [
    "        shutil. copy() will copy a single file, \n",
    "        shutil. copytree() will copy an entire folder and every folder and file contained in it."
   ]
  },
  {
   "cell_type": "markdown",
   "id": "8e0b0334",
   "metadata": {},
   "source": [
    "2. What function is used to rename files??"
   ]
  },
  {
   "cell_type": "markdown",
   "id": "1338e8c7",
   "metadata": {},
   "source": [
    "        rename() method in Python is used to rename a file or directory"
   ]
  },
  {
   "cell_type": "markdown",
   "id": "8a306a86",
   "metadata": {},
   "source": [
    "3. What is the difference between the delete functions in the send2trash and shutil modules?"
   ]
  },
  {
   "cell_type": "markdown",
   "id": "e16dba76",
   "metadata": {},
   "source": [
    "        The send2trash functions will move a file or folder to the recycle bin,\n",
    "        while shutil functions will permanently delete files and folders."
   ]
  },
  {
   "cell_type": "markdown",
   "id": "7bbcdd61",
   "metadata": {},
   "source": [
    "4. ZipFile objects have a close() method just like File objects’ close() method. What ZipFile method is\n",
    "equivalent to File objects’ open() method?"
   ]
  },
  {
   "cell_type": "markdown",
   "id": "84d3d09b",
   "metadata": {},
   "source": [
    "        The zipfile. ZipFile() function is equivalent to the open() function"
   ]
  },
  {
   "cell_type": "markdown",
   "id": "675b007c",
   "metadata": {},
   "source": [
    "5. Create a programme that searches a folder tree for files with a certain file extension (such as .pdf\n",
    "or .jpg). Copy these files from whatever location they are in to a new folder."
   ]
  },
  {
   "cell_type": "code",
   "execution_count": 5,
   "id": "218319ec",
   "metadata": {},
   "outputs": [],
   "source": [
    "import os\n",
    "from pathlib import Path\n",
    "import shutil\n",
    "import traceback\n",
    "import logging\n",
    "\n",
    "def collectPDFs(source_folder,destination_folder):\n",
    "    \"\"\"\n",
    "    This function accepts paths for source folder and destination folder.\n",
    "    It finds all the pdf files in source folder tree and copies them to destination folder\n",
    "    \n",
    "    \"\"\"\n",
    "    try:\n",
    "        logging.basicConfig(format='%(asctime)s %(message)s', datefmt='%m/%d/%Y %I:%M:%S %p', level=logging.DEBUG)\n",
    "        #get function arguments\n",
    "        src_path=Path(source_folder)\n",
    "        dest_path=Path(destination_folder)\n",
    "        \n",
    "        #Iterate over the source folder tree\n",
    "        for (root, dirs, file) in os.walk(src_path):\n",
    "            for f in file:\n",
    "                if '.pdf' in f:\n",
    "                    #get source path for pdf file\n",
    "                    source_filepath = os.path.join(root, f)\n",
    "                    #get target path for pdf file\n",
    "                    target_filepath = os.path.join(dest_path, f)\n",
    "                    #execute copy\n",
    "                    logging.info(f\"Copying file {f} to {target_filepath}\\n\")\n",
    "                    shutil.copy(Path(source_filepath), Path(target_filepath))\n",
    "    except:\n",
    "        print(\"An exception has occured.Please find below details\")\n",
    "        traceback.print_exc()\n",
    "    finally:\n",
    "        print(\"Task has completed successfully\")"
   ]
  },
  {
   "cell_type": "code",
   "execution_count": null,
   "id": "318c6d97",
   "metadata": {},
   "outputs": [],
   "source": []
  }
 ],
 "metadata": {
  "kernelspec": {
   "display_name": "Python 3 (ipykernel)",
   "language": "python",
   "name": "python3"
  },
  "language_info": {
   "codemirror_mode": {
    "name": "ipython",
    "version": 3
   },
   "file_extension": ".py",
   "mimetype": "text/x-python",
   "name": "python",
   "nbconvert_exporter": "python",
   "pygments_lexer": "ipython3",
   "version": "3.9.12"
  }
 },
 "nbformat": 4,
 "nbformat_minor": 5
}
