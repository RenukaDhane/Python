{
 "cells": [
  {
   "cell_type": "markdown",
   "id": "e3b6b01c",
   "metadata": {},
   "source": [
    "### 1.How many seconds are in an hour? Use the interactive interpreter as a calculator and multiply the number of seconds in a minute (60) by the number of minutes in an hour (also 60)."
   ]
  },
  {
   "cell_type": "code",
   "execution_count": 5,
   "id": "e5ef97e3",
   "metadata": {},
   "outputs": [
    {
     "name": "stdout",
     "output_type": "stream",
     "text": [
      "3600\n"
     ]
    }
   ],
   "source": [
    "number_of_hours=1\n",
    "minutes_per_hour=60\n",
    "seconds_per_minute=60\n",
    "\n",
    "seconds_in_hour=number_of_hours*minutes_in_hour*seconds_in_minute\n",
    "print(seconds_in_hour)"
   ]
  },
  {
   "cell_type": "markdown",
   "id": "0a050cae",
   "metadata": {},
   "source": [
    "### 2.Assign the result from the previous task (seconds in an hour) to a variable called seconds_per_hour."
   ]
  },
  {
   "cell_type": "code",
   "execution_count": 6,
   "id": "92972885",
   "metadata": {},
   "outputs": [],
   "source": [
    "seconds_per_hour=seconds_in_hour"
   ]
  },
  {
   "cell_type": "markdown",
   "id": "5489694a",
   "metadata": {},
   "source": [
    "### 3.How many seconds do you think there are in a day? Make use of the variables seconds per hour and minutes per hour."
   ]
  },
  {
   "cell_type": "code",
   "execution_count": 8,
   "id": "4c972fd1",
   "metadata": {},
   "outputs": [
    {
     "name": "stdout",
     "output_type": "stream",
     "text": [
      "seconds in a day using seconds_per_hour is 86400\n",
      "seconds in a day using minutes_per_hour is 86400\n"
     ]
    }
   ],
   "source": [
    "hours_per_day=24\n",
    "\n",
    "print(f\"seconds in a day using seconds_per_hour is {hours_per_day*seconds_per_hour}\" )\n",
    "print(f\"seconds in a day using minutes_per_hour is {hours_per_day*minutes_per_hour*seconds_per_minute}\" )"
   ]
  },
  {
   "cell_type": "markdown",
   "id": "7b76e17b",
   "metadata": {},
   "source": [
    "### 4.Calculate seconds per day again, but this time save the result in a variable called seconds_per_day"
   ]
  },
  {
   "cell_type": "code",
   "execution_count": 10,
   "id": "6cd0e101",
   "metadata": {},
   "outputs": [
    {
     "name": "stdout",
     "output_type": "stream",
     "text": [
      "86400\n"
     ]
    }
   ],
   "source": [
    "hours_per_day=24\n",
    "minutes_per_hour=60\n",
    "seconds_per_minute=60\n",
    "seconds_per_day=hours_per_day*minutes_per_hour*seconds_per_minute\n",
    "print(seconds_per_day)"
   ]
  },
  {
   "cell_type": "markdown",
   "id": "0bf69fa2",
   "metadata": {},
   "source": [
    "### 5.Divide seconds_per_day by seconds_per_hour. Use floating-point (/) division."
   ]
  },
  {
   "cell_type": "code",
   "execution_count": 11,
   "id": "18ceb08e",
   "metadata": {},
   "outputs": [
    {
     "data": {
      "text/plain": [
       "24.0"
      ]
     },
     "execution_count": 11,
     "metadata": {},
     "output_type": "execute_result"
    }
   ],
   "source": [
    "seconds_per_day/seconds_per_hour"
   ]
  },
  {
   "cell_type": "markdown",
   "id": "c14b14ab",
   "metadata": {},
   "source": [
    "### 6.Divide seconds_per_day by seconds_per_hour, using integer (//) division. Did this number agree with the floating-point value from the previous question, aside from the final .0?"
   ]
  },
  {
   "cell_type": "code",
   "execution_count": 12,
   "id": "b61289a5",
   "metadata": {},
   "outputs": [
    {
     "data": {
      "text/plain": [
       "24"
      ]
     },
     "execution_count": 12,
     "metadata": {},
     "output_type": "execute_result"
    }
   ],
   "source": [
    "seconds_per_day//seconds_per_hour"
   ]
  },
  {
   "cell_type": "markdown",
   "id": "fc92e011",
   "metadata": {},
   "source": [
    "This number is same as previous except it is integer value while previous one was a float value."
   ]
  },
  {
   "cell_type": "markdown",
   "id": "e70bfa85",
   "metadata": {},
   "source": [
    "### 7.Write a generator, genPrimes, that returns the sequence of prime numbers on successive calls to its next() method: 2, 3, 5, 7, 11, ..."
   ]
  },
  {
   "cell_type": "code",
   "execution_count": 226,
   "id": "7e414abb",
   "metadata": {},
   "outputs": [],
   "source": [
    "def genPrimes():\n",
    "    max=1000\n",
    "    for x in range(2,max):\n",
    "        range_val=int(np.round(np.sqrt(x)))\n",
    "        divisors=[2]\n",
    "        divisors.extend([*range(3,range_val+1,2)])\n",
    "        for y in divisors:\n",
    "            if x%y==0 and x!=y:\n",
    "                isPrime=False\n",
    "                break\n",
    "        else:\n",
    "            yield x"
   ]
  },
  {
   "cell_type": "code",
   "execution_count": 227,
   "id": "30856e71",
   "metadata": {},
   "outputs": [
    {
     "name": "stdout",
     "output_type": "stream",
     "text": [
      "2\n",
      "3\n",
      "5\n",
      "7\n",
      "11\n",
      "13\n",
      "17\n",
      "19\n",
      "23\n",
      "29\n"
     ]
    }
   ],
   "source": [
    "generator=genPrimes()\n",
    "print(next(generator))\n",
    "print(next(generator))\n",
    "print(next(generator))\n",
    "print(next(generator))\n",
    "print(next(generator))\n",
    "print(next(generator))\n",
    "print(next(generator))\n",
    "print(next(generator))\n",
    "print(next(generator))\n",
    "print(next(generator))"
   ]
  },
  {
   "cell_type": "code",
   "execution_count": null,
   "id": "2d21e895",
   "metadata": {},
   "outputs": [],
   "source": []
  }
 ],
 "metadata": {
  "kernelspec": {
   "display_name": "Python 3 (ipykernel)",
   "language": "python",
   "name": "python3"
  },
  "language_info": {
   "codemirror_mode": {
    "name": "ipython",
    "version": 3
   },
   "file_extension": ".py",
   "mimetype": "text/x-python",
   "name": "python",
   "nbconvert_exporter": "python",
   "pygments_lexer": "ipython3",
   "version": "3.9.12"
  }
 },
 "nbformat": 4,
 "nbformat_minor": 5
}
