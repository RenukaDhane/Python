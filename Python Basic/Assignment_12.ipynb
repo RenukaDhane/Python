{
 "cells": [
  {
   "cell_type": "markdown",
   "id": "38b35cb7",
   "metadata": {},
   "source": [
    "1.In what modes should the PdfFileReader() and PdfFileWriter() File objects will be opened?"
   ]
  },
  {
   "cell_type": "markdown",
   "id": "9f5c7753",
   "metadata": {},
   "source": [
    "PdfFileReader() file objects will be opened in 'rb' i.e read binary mode and PdfFileWriter() file objects will be opened in 'wb' i.e  write binary mode."
   ]
  },
  {
   "cell_type": "markdown",
   "id": "1c24f7f8",
   "metadata": {},
   "source": [
    "2.From a PdfFileReader object, how do you get a Page object for page 5?"
   ]
  },
  {
   "cell_type": "code",
   "execution_count": null,
   "id": "efaedc77",
   "metadata": {},
   "outputs": [],
   "source": [
    "#We get Page object by calling getPage() method on  PdfFileReader object\n",
    "#Example \n",
    "\n",
    "import PyPDF2\n",
    "pdfFileObj= open(r'Test.pdf','rb')\n",
    "pdfReader = PyPDF2.PdfFileReader(pdfFileObj)\n",
    "pageObj= pdfReader.getPage(5)"
   ]
  },
  {
   "cell_type": "markdown",
   "id": "238e8cd4",
   "metadata": {},
   "source": [
    "3.What PdfFileReader variable stores the number of pages in the PDF document?"
   ]
  },
  {
   "cell_type": "markdown",
   "id": "b789d45a",
   "metadata": {},
   "source": [
    "The variable 'numPages' from PdfFileReader stores the number of pages in the PDF document"
   ]
  },
  {
   "cell_type": "markdown",
   "id": "b681b963",
   "metadata": {},
   "source": [
    "4.If a PdfFileReader object’s PDF is encrypted with the password swordfish, what must you do before you can obtain Page objects from it?"
   ]
  },
  {
   "cell_type": "markdown",
   "id": "ff9be748",
   "metadata": {},
   "source": [
    "We must decrypt the file in order to get page objects as in below code example"
   ]
  },
  {
   "cell_type": "code",
   "execution_count": null,
   "id": "1c28cb40",
   "metadata": {},
   "outputs": [],
   "source": [
    "import PyPDF2\n",
    "\n",
    "pdfFileObject=open(r'sample-pdf-file-protected.pdf','rb')\n",
    "pdf_reader= PyPDF2.PdfReader(pdfFileObject)\n",
    "if pdf_reader.isEncrypted :\n",
    "    pdf_reader.decrypt(\"swordfish\")\n",
    "\n",
    "for page in pdf_reader.pages:\n",
    "    print(page.extractText())\n",
    "\n"
   ]
  },
  {
   "cell_type": "markdown",
   "id": "3d9d6190",
   "metadata": {},
   "source": [
    "5.What methods do you use to rotate a page?"
   ]
  },
  {
   "cell_type": "markdown",
   "id": "5a5873d7",
   "metadata": {},
   "source": [
    "Below methods are used to rotate a page\n",
    "rotateClockWise() -> For Clockwise rotation\n",
    "rotateCounterClockWise() -> For Counter Clockwise rotation"
   ]
  },
  {
   "cell_type": "markdown",
   "id": "01114231",
   "metadata": {},
   "source": [
    "6.What is the difference between a Run object and a Paragraph object?"
   ]
  },
  {
   "cell_type": "markdown",
   "id": "43f88ce0",
   "metadata": {},
   "source": [
    "The structure of a document is represented by three different data types in python-Docx. At the highest level, a Document object represents the entire document. The Document object contains a list of Paragraph objects for the paragraphs in the document. (A new paragraph begins whenever the user presses ENTER or RETURN while typing in a Word document.) Each of these Paragraph objects contains a list of one or more Run objects.\n",
    "\n",
    "The text in a Word document is more than just a string. It has font, size, color, and other styling information associated with it. A style in Word is a collection of these attributes. A Run object is a contiguous run of text with the same style. A new Run object is needed whenever the text style changes."
   ]
  },
  {
   "cell_type": "markdown",
   "id": "7646dd32",
   "metadata": {},
   "source": [
    "7.How do you obtain a list of Paragraph objects for a Document object that’s stored in a variable named doc?"
   ]
  },
  {
   "cell_type": "markdown",
   "id": "d2ce898c",
   "metadata": {},
   "source": [
    "!pip install python-docx"
   ]
  },
  {
   "cell_type": "code",
   "execution_count": 13,
   "id": "d04c2bbd",
   "metadata": {},
   "outputs": [
    {
     "name": "stdout",
     "output_type": "stream",
     "text": [
      "[<docx.text.paragraph.Paragraph object at 0x000001E447428790>]\n",
      "Hello, there!\n"
     ]
    }
   ],
   "source": [
    "from docx import Document\n",
    "doc = Document(\"sample_doc.docx\") # Path of the Docx file\n",
    "print(doc.paragraphs) # Prints the list of Paragraph objects for a Document\n",
    "for paragraph in doc.paragraphs:\n",
    "    print(paragraph.text) # Prints the text in the paragraph"
   ]
  },
  {
   "cell_type": "markdown",
   "id": "98ad316f",
   "metadata": {},
   "source": [
    "8.What type of object has bold, underline, italic, strike, and outline variables?"
   ]
  },
  {
   "cell_type": "markdown",
   "id": "0a5cc409",
   "metadata": {},
   "source": [
    "Run object has bold, underline, italic, strike, and outline variables."
   ]
  },
  {
   "cell_type": "markdown",
   "id": "f436f2e9",
   "metadata": {},
   "source": [
    "9.What is the difference between False, True, and None for the bold variable?"
   ]
  },
  {
   "cell_type": "markdown",
   "id": "8107ec04",
   "metadata": {},
   "source": [
    "bold = True  # Style Set to Bold <br>\n",
    "bold = False # Style Not Set to Bold <br>\n",
    "bold = None # Style is Not Applicable <br>"
   ]
  },
  {
   "cell_type": "markdown",
   "id": "2901e684",
   "metadata": {},
   "source": [
    "10.How do you create a Document object for a new Word document?"
   ]
  },
  {
   "cell_type": "code",
   "execution_count": 15,
   "id": "815d3fce",
   "metadata": {},
   "outputs": [],
   "source": [
    "from docx import Document\n",
    "document = Document()\n",
    "document.add_paragraph(\"I am learning Python\")\n",
    "document.save('test2.docx')"
   ]
  },
  {
   "cell_type": "markdown",
   "id": "6fe9284f",
   "metadata": {},
   "source": [
    "11.How do you add a paragraph with the text 'Hello, there!' to a Document object stored in a variable named doc?"
   ]
  },
  {
   "cell_type": "code",
   "execution_count": 16,
   "id": "8eed038e",
   "metadata": {},
   "outputs": [],
   "source": [
    "import docx\n",
    "doc = Document() # Doc object\n",
    "doc.add_paragraph(r'Hello, there!')\n",
    "doc.save('sample_doc.docx')"
   ]
  },
  {
   "cell_type": "markdown",
   "id": "f0b1c321",
   "metadata": {},
   "source": [
    "12.What integers represent the levels of headings available in Word documents?"
   ]
  },
  {
   "cell_type": "markdown",
   "id": "c1034db7",
   "metadata": {},
   "source": [
    "add_heading() takes level as parameter having values from 0 to 9.<br>\n",
    "If level is 0, the style is set to `Title`.<br>\n",
    "If level is 1 (or omitted), `Heading 1` is used.<br>\n",
    "Otherwise the style is set to `Heading {level}`.<br>\n",
    "Raises |ValueError| if level is outside the range 0-9.Specifically different levels of heading are from 1 to 9 (like Heading Level 1 , Heading Level 2,....Heading Level 9)"
   ]
  },
  {
   "cell_type": "code",
   "execution_count": null,
   "id": "89824931",
   "metadata": {},
   "outputs": [],
   "source": []
  }
 ],
 "metadata": {
  "kernelspec": {
   "display_name": "Python 3 (ipykernel)",
   "language": "python",
   "name": "python3"
  },
  "language_info": {
   "codemirror_mode": {
    "name": "ipython",
    "version": 3
   },
   "file_extension": ".py",
   "mimetype": "text/x-python",
   "name": "python",
   "nbconvert_exporter": "python",
   "pygments_lexer": "ipython3",
   "version": "3.9.12"
  }
 },
 "nbformat": 4,
 "nbformat_minor": 5
}
