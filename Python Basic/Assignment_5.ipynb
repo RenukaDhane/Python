{
 "cells": [
  {
   "cell_type": "raw",
   "metadata": {},
   "source": [
    "1. What does an empty dictionary's code look like?"
   ]
  },
  {
   "cell_type": "raw",
   "metadata": {},
   "source": [
    "=>\n",
    "# Empty dictionary indicated by empty curly brace syntax as follows:\n",
    "dic={}\n",
    "\n",
    "#Also empty dictionary is created by ict() built-in function without any arguments as below\n",
    "emptyDict = dict()"
   ]
  },
  {
   "cell_type": "raw",
   "metadata": {},
   "source": [
    "2. What is the value of a dictionary value with the key 'foo' and the value 42?"
   ]
  },
  {
   "cell_type": "raw",
   "metadata": {},
   "source": [
    "=> #Key is foo while value is 42\n",
    "dic={'foo':42}\n",
    "dic"
   ]
  },
  {
   "cell_type": "raw",
   "metadata": {},
   "source": [
    "3. What is the most significant distinction between a dictionary and a list?"
   ]
  },
  {
   "cell_type": "raw",
   "metadata": {},
   "source": [
    "The most significant distinction is as below\n",
    "A list is a collection of various elements. We can access the list elements using the index value\n",
    "While a dictionary is a collection of elements in the hashed structure as key-value pairs.We can access the elements using the keys."
   ]
  },
  {
   "cell_type": "raw",
   "metadata": {},
   "source": [
    "4. What happens if you try to access spam['foo'] if spam is {'bar': 100}?"
   ]
  },
  {
   "cell_type": "raw",
   "metadata": {},
   "source": [
    "#If we try to access spam['foo'] for below dictionary we get KeyError  as the key is not present in the dictionary\n",
    "spam = {'bar': 100}\n",
    "spam['foo']"
   ]
  },
  {
   "cell_type": "raw",
   "metadata": {},
   "source": [
    "5. If a dictionary is stored in spam, what is the difference between the expressions 'cat' in spam and 'cat' in spam.keys()?\n"
   ]
  },
  {
   "cell_type": "raw",
   "metadata": {},
   "source": [
    "=> There is no difference. The in operator checks whether a value exists as a key in the dictionary for both the cases."
   ]
  },
  {
   "cell_type": "raw",
   "metadata": {},
   "source": [
    "6. If a dictionary is stored in spam, what is the difference between the expressions 'cat' in spam and 'cat' in spam.values()?"
   ]
  },
  {
   "cell_type": "raw",
   "metadata": {},
   "source": [
    "=> 'cat' in spam checks whether there is a 'cat' key in the dictionary, while 'cat' in spam. values() checks whether there is a value 'cat' for one of the keys in spam"
   ]
  },
  {
   "cell_type": "raw",
   "metadata": {},
   "source": [
    "#7. What is a shortcut for the following code?\n",
    "if 'color' not in spam:\n",
    "    spam['color'] = 'black'\n",
    "\n",
    "   "
   ]
  },
  {
   "cell_type": "raw",
   "metadata": {},
   "source": [
    "=>The setdefault() method is the shortcut to ensure that a key exists.\n",
    "\n",
    "spam.setdefault('color', 'black')\n",
    "\n"
   ]
  },
  {
   "cell_type": "raw",
   "metadata": {},
   "source": [
    "8. How do you \"pretty print\" dictionary values using which module and function?\n"
   ]
  },
  {
   "cell_type": "raw",
   "metadata": {},
   "source": [
    "#We use pprint module to \"pretty print\" dictionary values as below\n",
    "\n",
    "import pprint\n",
    "dct_arr = [\n",
    "  {'Name': 'John', 'Age': '23', 'Country': 'USA'},\n",
    "  {'Name': 'Jose', 'Age': '44', 'Country': 'Spain'},\n",
    "  {'Name': 'Anne', 'Age': '29', 'Country': 'UK'},\n",
    "  {'Name': 'Lee', 'Age': '35', 'Country': 'Japan'}\n",
    "]\n",
    "\n",
    "pprint.pprint(dct_arr)"
   ]
  }
 ],
 "metadata": {
  "kernelspec": {
   "display_name": "Python 3",
   "language": "python",
   "name": "python3"
  },
  "language_info": {
   "codemirror_mode": {
    "name": "ipython",
    "version": 3
   },
   "file_extension": ".py",
   "mimetype": "text/x-python",
   "name": "python",
   "nbconvert_exporter": "python",
   "pygments_lexer": "ipython3",
   "version": "3.7.6"
  }
 },
 "nbformat": 4,
 "nbformat_minor": 4
}
