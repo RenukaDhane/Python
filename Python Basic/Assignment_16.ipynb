{
 "cells": [
  {
   "cell_type": "markdown",
   "id": "898d4513",
   "metadata": {},
   "source": [
    "1. Create a list called years_list, starting with the year of your birth, and each year thereafter until the year of your fifth birthday. For example, if you were born in 1980. the list would be years_list = [1980, 1981, 1982, 1983, 1984, 1985]."
   ]
  },
  {
   "cell_type": "code",
   "execution_count": 3,
   "id": "0d209b4c",
   "metadata": {},
   "outputs": [
    {
     "data": {
      "text/plain": [
       "[1980, 1981, 1982, 1983, 1984, 1985]"
      ]
     },
     "execution_count": 3,
     "metadata": {},
     "output_type": "execute_result"
    }
   ],
   "source": [
    "def get_years_list(year_of_birth):\n",
    "    '''Function to return list of years until the year of your fifth birthday'''\n",
    "    year_list=[]\n",
    "    for i in range(0,6):\n",
    "        year_list.append(year_of_birth)\n",
    "        year_of_birth=year_of_birth+1\n",
    "    return year_list\n",
    "        \n",
    "get_years_list(1980)       "
   ]
  },
  {
   "cell_type": "markdown",
   "id": "a047b8c7",
   "metadata": {},
   "source": [
    "2. In which year in years_list was your third birthday? Remember, you were 0 years of age for your first year."
   ]
  },
  {
   "cell_type": "code",
   "execution_count": 4,
   "id": "e1795836",
   "metadata": {},
   "outputs": [
    {
     "name": "stdout",
     "output_type": "stream",
     "text": [
      "Third birthday was in year : 1983\n"
     ]
    }
   ],
   "source": [
    "years_list =get_years_list(1980)   \n",
    "print('Third birthday was in year :',years_list[3] )"
   ]
  },
  {
   "cell_type": "markdown",
   "id": "5aa61939",
   "metadata": {},
   "source": [
    "3. In the years list, which year were you the oldest?"
   ]
  },
  {
   "cell_type": "code",
   "execution_count": 5,
   "id": "4eefbc01",
   "metadata": {},
   "outputs": [
    {
     "name": "stdout",
     "output_type": "stream",
     "text": [
      "From year list(0 to 5) you were oldest in year:  1985\n"
     ]
    }
   ],
   "source": [
    "years_list =get_years_list(1980)  \n",
    "print('From year list(0 to 5) you were oldest in year: ',years_list[-1])"
   ]
  },
  {
   "cell_type": "markdown",
   "id": "56ecd7b4",
   "metadata": {},
   "source": [
    "4. Make a list called things with these three strings as elements: \"mozzarella\", \"cinderella\", \"salmonella\"."
   ]
  },
  {
   "cell_type": "code",
   "execution_count": 7,
   "id": "46311b5a",
   "metadata": {},
   "outputs": [],
   "source": [
    "things=[\"mozzarella\", \"cinderella\", \"salmonella\"]"
   ]
  },
  {
   "cell_type": "markdown",
   "id": "5c268f66",
   "metadata": {},
   "source": [
    "5. Capitalize the element in things that refers to a person and then print the list. Did it change the element in the list?"
   ]
  },
  {
   "cell_type": "code",
   "execution_count": 10,
   "id": "59ebd9a4",
   "metadata": {},
   "outputs": [],
   "source": [
    "things[1]=things[1].upper()"
   ]
  },
  {
   "cell_type": "code",
   "execution_count": 11,
   "id": "1f0457bd",
   "metadata": {},
   "outputs": [
    {
     "name": "stdout",
     "output_type": "stream",
     "text": [
      "['mozzarella', 'CINDERELLA', 'salmonella']\n"
     ]
    }
   ],
   "source": [
    "print(things)"
   ]
  },
  {
   "cell_type": "markdown",
   "id": "af4e26a8",
   "metadata": {},
   "source": [
    "As list is mutable we could change its element."
   ]
  },
  {
   "cell_type": "markdown",
   "id": "2a59d90b",
   "metadata": {},
   "source": [
    "6. Make a surprise list with the elements \"Groucho,\" \"Chico,\" and \"Harpo.\""
   ]
  },
  {
   "cell_type": "code",
   "execution_count": 12,
   "id": "da319acd",
   "metadata": {},
   "outputs": [],
   "source": [
    "surprise=[\"Groucho,\" \"Chico,\"\"Harpo\"]"
   ]
  },
  {
   "cell_type": "markdown",
   "id": "a0e6d8c3",
   "metadata": {},
   "source": [
    "7. Lowercase the last element of the surprise list, reverse it, and then capitalize it."
   ]
  },
  {
   "cell_type": "code",
   "execution_count": 19,
   "id": "30d98667",
   "metadata": {},
   "outputs": [
    {
     "name": "stdout",
     "output_type": "stream",
     "text": [
      "Harpo\n",
      "['Groucho', 'Chico', 'harpo']\n",
      "['Groucho', 'Chico', 'oprah']\n",
      "['Groucho', 'Chico', 'OPRAH']\n"
     ]
    }
   ],
   "source": [
    "surprise=[\"Groucho\", \"Chico\",\"Harpo\"]\n",
    "print(surprise[-1])\n",
    "surprise[-1]=surprise[-1].lower() #Lowercase\n",
    "print(surprise)\n",
    "surprise[-1]=surprise[-1][::-1]  #reverse\n",
    "print(surprise)\n",
    "surprise[-1]=surprise[-1].upper() #capitalize\n",
    "print(surprise)"
   ]
  },
  {
   "cell_type": "markdown",
   "id": "58275904",
   "metadata": {},
   "source": [
    "8. Make an English-to-French dictionary called e2f and print it. Here are your starter words: dog is chien, cat is chat, and walrus is morse"
   ]
  },
  {
   "cell_type": "code",
   "execution_count": 21,
   "id": "e14c9f4b",
   "metadata": {},
   "outputs": [
    {
     "data": {
      "text/plain": [
       "{'dog': 'chien', 'cat': 'chat', 'walrus': 'morse'}"
      ]
     },
     "execution_count": 21,
     "metadata": {},
     "output_type": "execute_result"
    }
   ],
   "source": [
    "e2f={\"dog\":\"chien\", \"cat\":\"chat\",\"walrus\":\"morse\"}\n",
    "e2f"
   ]
  },
  {
   "cell_type": "markdown",
   "id": "cbd9e8c5",
   "metadata": {},
   "source": [
    "9. Write the French word for walrus in your three-word dictionary e2f"
   ]
  },
  {
   "cell_type": "code",
   "execution_count": 23,
   "id": "77f676ec",
   "metadata": {},
   "outputs": [
    {
     "name": "stdout",
     "output_type": "stream",
     "text": [
      "French word for walrus is :  morse\n"
     ]
    }
   ],
   "source": [
    "print('French word for walrus is : ',e2f[\"walrus\"])"
   ]
  },
  {
   "cell_type": "markdown",
   "id": "27789fc6",
   "metadata": {},
   "source": [
    "10. Make a French-to-English dictionary called f2e from e2f. Use the items method."
   ]
  },
  {
   "cell_type": "code",
   "execution_count": 27,
   "id": "0e003690",
   "metadata": {},
   "outputs": [
    {
     "name": "stdout",
     "output_type": "stream",
     "text": [
      "{'chien': 'dog', 'chat': 'cat', 'morse': 'walrus'}\n"
     ]
    }
   ],
   "source": [
    "f2e=dict()\n",
    "for (engish,french) in e2f.items():\n",
    "    f2e.update({french:engish})\n",
    "print(f2e)   "
   ]
  },
  {
   "cell_type": "markdown",
   "id": "8a3e59e0",
   "metadata": {},
   "source": [
    "11. Print the English version of the French word chien using f2e"
   ]
  },
  {
   "cell_type": "code",
   "execution_count": 28,
   "id": "29138e21",
   "metadata": {},
   "outputs": [
    {
     "name": "stdout",
     "output_type": "stream",
     "text": [
      "English version of the French word chien is:  dog\n"
     ]
    }
   ],
   "source": [
    "print(\"English version of the French word chien is: \",f2e[\"chien\"])"
   ]
  },
  {
   "cell_type": "markdown",
   "id": "4595075c",
   "metadata": {},
   "source": [
    "12. Make and print a set of English words from the keys in e2f.\n"
   ]
  },
  {
   "cell_type": "code",
   "execution_count": 30,
   "id": "8e248df8",
   "metadata": {},
   "outputs": [
    {
     "name": "stdout",
     "output_type": "stream",
     "text": [
      "set of English words from the keys in e2f\n",
      "{'dog', 'cat', 'walrus'}\n"
     ]
    }
   ],
   "source": [
    "print(\"set of English words from the keys in e2f\")\n",
    "print(set(e2f.keys()))"
   ]
  },
  {
   "cell_type": "markdown",
   "id": "1e85415c",
   "metadata": {},
   "source": [
    "13. Make a multilevel dictionary called life. Use these strings for the topmost keys: 'animals', 'plants', and 'other'. Make the 'animals' key refer to another dictionary with the keys 'cats', 'octopi', and 'emus'. Make the 'cats' key refer to a list of strings with the values 'Henri', 'Grumpy', and 'Lucy'. Make all the other keys refer to empty dictionaries."
   ]
  },
  {
   "cell_type": "code",
   "execution_count": 32,
   "id": "d898b2df",
   "metadata": {},
   "outputs": [
    {
     "name": "stdout",
     "output_type": "stream",
     "text": [
      "multilevel dictionary is : \n",
      " {'animals': {'cats': ['Henri', 'Grumpy', 'Lucy'], 'octopi': '', 'emus': ''}, 'plants': '', 'other': ''}\n"
     ]
    }
   ],
   "source": [
    "cats=['Henri', 'Grumpy','Lucy']\n",
    "animals={'cats':cats, 'octopi':'','emus':''}\n",
    "life={'animals':animals, 'plants':'','other':''}\n",
    "\n",
    "print(\"multilevel dictionary is : \\n\",life)"
   ]
  },
  {
   "cell_type": "markdown",
   "id": "0240b679",
   "metadata": {},
   "source": [
    "14. Print the top-level keys of life."
   ]
  },
  {
   "cell_type": "code",
   "execution_count": 33,
   "id": "b7d67c3e",
   "metadata": {},
   "outputs": [
    {
     "name": "stdout",
     "output_type": "stream",
     "text": [
      "top-level keys of life : \n",
      " dict_keys(['animals', 'plants', 'other'])\n"
     ]
    }
   ],
   "source": [
    "print(\"top-level keys of life : \\n\",life.keys())"
   ]
  },
  {
   "cell_type": "markdown",
   "id": "9fea9d81",
   "metadata": {},
   "source": [
    "15. Print the keys for life['animals']."
   ]
  },
  {
   "cell_type": "code",
   "execution_count": 34,
   "id": "8fb9d706",
   "metadata": {},
   "outputs": [
    {
     "name": "stdout",
     "output_type": "stream",
     "text": [
      "keys for life['animals'] : \n",
      " dict_keys(['cats', 'octopi', 'emus'])\n"
     ]
    }
   ],
   "source": [
    "print(\"keys for life['animals'] : \\n\",life['animals'].keys())"
   ]
  },
  {
   "cell_type": "markdown",
   "id": "dc163434",
   "metadata": {},
   "source": [
    "16. Print the values for life['animals']['cats']\n"
   ]
  },
  {
   "cell_type": "code",
   "execution_count": 36,
   "id": "dac893ee",
   "metadata": {},
   "outputs": [
    {
     "name": "stdout",
     "output_type": "stream",
     "text": [
      "values for life['animals']['cats'] \n",
      " ['Henri', 'Grumpy', 'Lucy']\n"
     ]
    }
   ],
   "source": [
    "print(\"values for life['animals']['cats'] \\n\",life['animals']['cats'] )"
   ]
  },
  {
   "cell_type": "code",
   "execution_count": null,
   "id": "9ab59349",
   "metadata": {},
   "outputs": [],
   "source": []
  }
 ],
 "metadata": {
  "kernelspec": {
   "display_name": "Python 3 (ipykernel)",
   "language": "python",
   "name": "python3"
  },
  "language_info": {
   "codemirror_mode": {
    "name": "ipython",
    "version": 3
   },
   "file_extension": ".py",
   "mimetype": "text/x-python",
   "name": "python",
   "nbconvert_exporter": "python",
   "pygments_lexer": "ipython3",
   "version": "3.9.12"
  }
 },
 "nbformat": 4,
 "nbformat_minor": 5
}
