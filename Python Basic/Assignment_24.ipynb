{
 "cells": [
  {
   "cell_type": "markdown",
   "metadata": {},
   "source": [
    "#### 1. What is the relationship between def statements and lambda expressions ?\n",
    "\n",
    "Python def keyword is used to define a function, it is placed before a function name that is provided by the user to create a user-defined function, while lambda functions define short single line function.\n",
    "\n",
    "Conceptually the lambda expression lambda x, y: x + y is the same as declaring a function with def, just written inline.\n",
    "\n",
    "Lambda functions are restricted to a single expression. This means a lambda function can’t use statements or annotations—not even a return statement.\n",
    "\n",
    "Executing a lambda function evaluates its expression and then automatically returns its result. So there’s always an implicit return statement while regular functions need to use explicit return statement to return a value\n"
   ]
  },
  {
   "cell_type": "markdown",
   "metadata": {},
   "source": [
    "#### 2. What is the benefit of lambda?\n",
    "\n",
    "The lambda keyword in Python provides a shortcut for declaring small anonymous functions.\n",
    "Lambda functions behave just like regular functions declared with the def keyword.\n",
    "They can be used whenever function objects are required."
   ]
  },
  {
   "cell_type": "markdown",
   "metadata": {},
   "source": [
    "#### 3. Compare and contrast map, filter, and reduce.\n",
    "\n",
    "Map :\n",
    "map() function returns a map object(which is an iterator) of the results after applying the given function to each item of a given iterable (list, tuple etc.)\n",
    "\n",
    "Filter:The filter() method filters the given sequence with the help of a function that tests each element in the sequence to be true or not.\n",
    "\n",
    "Reduce:\n",
    "The reduce(fun,seq) function is used to apply a particular function passed in its argument to all of the list elements mentioned in the sequence passed along.This function is defined in “functools” module."
   ]
  },
  {
   "cell_type": "markdown",
   "metadata": {},
   "source": [
    "#### 4. What are function annotations, and how are they used?"
   ]
  },
  {
   "cell_type": "markdown",
   "metadata": {},
   "source": [
    "PEP-3107 introduced the concept and syntax for adding arbitrary metadata annotations to Python. It was introduced in Python3 which was previously done using external libraries in python 2.x\n",
    "\n",
    "Function annotations are arbitrary python expressions that are associated with various part of functions. These expressions are evaluated at compile time and have no life in python’s runtime environment.\n",
    "\n",
    "For functions, you can annotate arguments and the return value. This is done as follows:\n"
   ]
  },
  {
   "cell_type": "code",
   "execution_count": 1,
   "metadata": {},
   "outputs": [
    {
     "data": {
      "text/plain": [
       "{'radius': float, 'return': float}"
      ]
     },
     "execution_count": 1,
     "metadata": {},
     "output_type": "execute_result"
    }
   ],
   "source": [
    "import math\n",
    "\n",
    "def circumference(radius: float) -> float:\n",
    "    return 2 * math.pi * radius\n",
    "\n",
    "\n",
    "circumference.__annotations__"
   ]
  },
  {
   "cell_type": "markdown",
   "metadata": {},
   "source": [
    "#### 5. What are recursive functions, and how are they used?"
   ]
  },
  {
   "cell_type": "markdown",
   "metadata": {},
   "source": [
    "A recursive function is a function in code that refers to itself for execution.\n",
    "Every recursive function has a base condition that stops the recursion or else the function calls itself infinitely.Thus this enables us to get desired output.\n",
    "\n",
    "Following is an example of a recursive function to find the factorial of an integer."
   ]
  },
  {
   "cell_type": "code",
   "execution_count": 2,
   "metadata": {},
   "outputs": [
    {
     "name": "stdout",
     "output_type": "stream",
     "text": [
      "The factorial of 3 is 6\n"
     ]
    }
   ],
   "source": [
    "def factorial(x):\n",
    "    \"\"\"This is a recursive function\n",
    "    to find the factorial of an integer\"\"\"\n",
    "\n",
    "    if x == 1:\n",
    "        return 1\n",
    "    else:\n",
    "        return (x * factorial(x-1))\n",
    "\n",
    "\n",
    "num = 3\n",
    "print(\"The factorial of\", num, \"is\", factorial(num))"
   ]
  },
  {
   "cell_type": "markdown",
   "metadata": {},
   "source": [
    "When we call this function with a positive integer, it will recursively call itself by decreasing the number.\n",
    "\n",
    "Each function multiplies the number with the factorial of the number below it until it is equal to one. This recursive call can be explained in the following steps.\n",
    "\n",
    "\n",
    "##### factorial(3)          # 1st call with 3\n",
    "##### 3 * factorial(2)      # 2nd call with 2\n",
    "##### 3 * 2 * factorial(1)  # 3rd call with 1\n",
    "##### 3 * 2 * 1             # return from 3rd call as number=1\n",
    "##### 3 * 2                 # return from 2nd call\n",
    "##### 6                     # return from 1st call"
   ]
  },
  {
   "cell_type": "markdown",
   "metadata": {},
   "source": [
    "#### 6. What are some general design guidelines for coding functions?"
   ]
  },
  {
   "cell_type": "markdown",
   "metadata": {},
   "source": [
    "### Here are simple rules to define a function in Python.\n",
    "\n",
    "1)Function blocks begin with the keyword def followed by the function name and parentheses ( ( ) ).\n",
    "\n",
    "2)Any input parameters or arguments should be placed within these parentheses. You can also define parameters inside these parentheses.\n",
    "\n",
    "3)The first statement of a function can be an optional statement - the documentation string of the function or docstring.\n",
    "\n",
    "4)The code block within every function starts with a colon (:) and is indented.\n",
    "\n",
    "5)The statement return expression exits a function, optionally passing back an expression to the caller. A return statement with no arguments is the same as return None.\n",
    "\n",
    "\n",
    "### Below are few common function design guidlines:\n",
    "\n",
    "#### 1)Single responsibility principle\n",
    "  This means that your functions should only focus on handling a single aspect of your program.\n",
    "#### 2)Docstrings\n",
    "  When you write your Python functions you can write docstrings to add inline documentation to your functions. They can be one-   liners or multi-line docstrings.\n",
    "#### 3)Naming your functions\n",
    "  A well-named function should almost read like a sentence when used. When someone is reading the code it should be immediately   obvious what is happening in the code. A good rule of thumb is to design and name your function so that it can be used to       simplify a more complex set of operations into a single expression.\n",
    "  \n",
    "#### 4)Organizing your functions\n",
    "Once you start writing multiple functions for your Python project you should think about how you want to organise them.If it's a simple project with only a few functions you may want to define them at the beginning of your Python module. If your project size is a bit bigger you may want to put them into their own module so that they can be imported into your code and used wherever."
   ]
  },
  {
   "cell_type": "markdown",
   "metadata": {},
   "source": [
    "#### 7. Name three or more ways that functions can communicate results to a caller."
   ]
  },
  {
   "cell_type": "markdown",
   "metadata": {},
   "source": [
    "Below are different ways that functions can communicate results to caller:\n",
    "    \n",
    "#### 1)Explicit return Statements\n",
    "An explicit return statement immediately terminates a function execution and sends the return value back to the caller code. To add an explicit return statement to a Python function, you need to use return followed by an optional return value.\n",
    "\n",
    "#### 2)Implicit return Statements\n",
    "A Python function will always have a return value.So, if you don’t explicitly use a return value in a return statement, or if you totally omit the return statement, then Python will implicitly return a default value for you. That default return value will always be None.\n",
    "\n",
    "#### 3)Returning Multiple Values\n",
    "You can use a return statement to return multiple values from a function. To do that, you just need to supply several return values separated by commas.\n",
    "#### 4)Using return With Conditionals\n",
    "Python functions are not restricted to having a single return statement.A common way of writing functions with multiple return statements is to use conditional statements that allow you to provide different return statements depending on the result of evaluating some conditions."
   ]
  },
  {
   "cell_type": "code",
   "execution_count": null,
   "metadata": {},
   "outputs": [],
   "source": []
  }
 ],
 "metadata": {
  "kernelspec": {
   "display_name": "Python 3 (ipykernel)",
   "language": "python",
   "name": "python3"
  },
  "language_info": {
   "codemirror_mode": {
    "name": "ipython",
    "version": 3
   },
   "file_extension": ".py",
   "mimetype": "text/x-python",
   "name": "python",
   "nbconvert_exporter": "python",
   "pygments_lexer": "ipython3",
   "version": "3.9.12"
  }
 },
 "nbformat": 4,
 "nbformat_minor": 2
}
