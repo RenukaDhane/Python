{
 "cells": [
  {
   "cell_type": "code",
   "execution_count": null,
   "id": "3a1e5dff",
   "metadata": {},
   "outputs": [],
   "source": [
    "Q1. What is the meaning of multiple inheritance?"
   ]
  },
  {
   "cell_type": "code",
   "execution_count": null,
   "id": "b6964eda",
   "metadata": {},
   "outputs": [],
   "source": [
    "Multiple inheritance means that a subclass can inherit from two or more superclasses. "
   ]
  },
  {
   "cell_type": "code",
   "execution_count": null,
   "id": "bc428de6",
   "metadata": {},
   "outputs": [],
   "source": [
    "Q2. What is the concept of delegation?"
   ]
  },
  {
   "cell_type": "markdown",
   "id": "59dc0889",
   "metadata": {},
   "source": [
    "Delegation is a design pattern in which an object, called the delegate, is responsible for performing certain tasks on behalf of another object, called the delegator. This can be done by the delegator forwarding method calls and attribute access to the delegate."
   ]
  },
  {
   "cell_type": "code",
   "execution_count": null,
   "id": "ff380025",
   "metadata": {},
   "outputs": [],
   "source": [
    "Q3. What is the concept of composition?"
   ]
  },
  {
   "cell_type": "markdown",
   "id": "da71d530",
   "metadata": {},
   "source": [
    "Composition is a concept that models a has a relationship. It enables creating complex types by combining objects of other types. This means that a class Composite can contain an object of another class Component . This relationship means that a Composite has a Component ."
   ]
  },
  {
   "cell_type": "code",
   "execution_count": null,
   "id": "03b0a6db",
   "metadata": {},
   "outputs": [],
   "source": [
    "Q4. What are bound methods and how do we use them?"
   ]
  },
  {
   "cell_type": "markdown",
   "id": "c5699c46",
   "metadata": {},
   "source": [
    "1.A bound method is the one which is dependent on the instance of the class as the first argument. \n",
    "2.It passes the instance as the first argument which is used to access the variables and functions.\n",
    "3.In Python 3 and newer versions of python, all functions in the class are by default bound methods."
   ]
  },
  {
   "cell_type": "code",
   "execution_count": null,
   "id": "c4fd3f12",
   "metadata": {},
   "outputs": [],
   "source": [
    "Q5. What is the purpose of pseudoprivate attributes?"
   ]
  },
  {
   "cell_type": "markdown",
   "id": "593cce1b",
   "metadata": {},
   "source": [
    "1.In definition, private variables would be those that can only be seen and accessed by members of the class to which they belong, not by members of any other class. \n",
    "2.In actual terms (practically), python doesn’t have anything called private member variable in Python. However, adding two underlines(__) at the beginning makes a variable or a method private is the convention used by most python code.These are pseudoprivate attributes\n",
    "\n",
    "3.Pseudoprivate attributes prevent the accidental overriding of that attribute by the subclasses."
   ]
  }
 ],
 "metadata": {
  "kernelspec": {
   "display_name": "Python 3 (ipykernel)",
   "language": "python",
   "name": "python3"
  },
  "language_info": {
   "codemirror_mode": {
    "name": "ipython",
    "version": 3
   },
   "file_extension": ".py",
   "mimetype": "text/x-python",
   "name": "python",
   "nbconvert_exporter": "python",
   "pygments_lexer": "ipython3",
   "version": "3.9.12"
  }
 },
 "nbformat": 4,
 "nbformat_minor": 5
}
