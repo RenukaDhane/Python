{
 "cells": [
  {
   "cell_type": "code",
   "execution_count": null,
   "id": "f7585f26",
   "metadata": {},
   "outputs": [],
   "source": [
    "Q1. Which two operator overloading methods can you use in your classes to support iteration?"
   ]
  },
  {
   "cell_type": "markdown",
   "id": "f4162e69",
   "metadata": {},
   "source": [
    "The __iter__ returns the iterator object and is implicitly called at the start of loops. The __next__ method returns the next value and is implicitly called at each loop increment"
   ]
  },
  {
   "cell_type": "code",
   "execution_count": null,
   "id": "b660aa3c",
   "metadata": {},
   "outputs": [],
   "source": [
    "Q2. In what contexts do the two operator overloading methods manage printing?"
   ]
  },
  {
   "cell_type": "markdown",
   "id": "193226ee",
   "metadata": {},
   "source": [
    "1.The str() built-in is used to cast an instance of a class to a str object, or more appropriately, to obtain a user-friendly string representation of the object which can be read by a normal user rather than the programmer. \n",
    "2.You can define the string format your object should be displayed in when passed to str() by defining the __str__() method in your class. \n",
    "3.Moreover, __str__() is the method that is used by Python when you call print() on your object."
   ]
  },
  {
   "cell_type": "code",
   "execution_count": null,
   "id": "1a8f616c",
   "metadata": {},
   "outputs": [],
   "source": [
    "Q3. In a class, how do you intercept slice operations?"
   ]
  },
  {
   "cell_type": "markdown",
   "id": "43d55486",
   "metadata": {},
   "source": [
    "1.The __getitem__ method is used for accessing list items, array elements, dictionary entries etc. slice is a constructor in Python that creates slice object to represent set of indices that the range(start, stop, step) specifies.\n",
    "\n",
    "2.__getitem__ method can be implement in a class, and the behavior of slicing can be defined inside it."
   ]
  },
  {
   "cell_type": "code",
   "execution_count": null,
   "id": "731ff820",
   "metadata": {},
   "outputs": [],
   "source": [
    "Q4. In a class, how do you capture in-place addition?"
   ]
  },
  {
   "cell_type": "markdown",
   "id": "9fcaad0f",
   "metadata": {},
   "source": [
    "1.Python provides the operator x += y to add two objects in-place by calculating the sum x + y and assigning the result to the first operands variable name x . \n",
    "2.You can set up the in-place addition behavior for your own class by overriding the magic “dunder” method __iadd__(self, other) in your class definition."
   ]
  },
  {
   "cell_type": "code",
   "execution_count": null,
   "id": "c2464cf1",
   "metadata": {},
   "outputs": [],
   "source": [
    "Q5. When is it appropriate to use operator overloading?"
   ]
  },
  {
   "cell_type": "markdown",
   "id": "bb7a3b89",
   "metadata": {},
   "source": [
    "1.The operator overloading in Python means provide extended meaning beyond their predefined operational meaning. \n",
    "2.Such as, we use the \"+\" operator for adding two integers as well as joining two strings or merging two lists.\n",
    "3.We can achieve this as the \"+\" operator is overloaded by the \"int\" class and \"str\" class."
   ]
  }
 ],
 "metadata": {
  "kernelspec": {
   "display_name": "Python 3 (ipykernel)",
   "language": "python",
   "name": "python3"
  },
  "language_info": {
   "codemirror_mode": {
    "name": "ipython",
    "version": 3
   },
   "file_extension": ".py",
   "mimetype": "text/x-python",
   "name": "python",
   "nbconvert_exporter": "python",
   "pygments_lexer": "ipython3",
   "version": "3.9.12"
  }
 },
 "nbformat": 4,
 "nbformat_minor": 5
}
