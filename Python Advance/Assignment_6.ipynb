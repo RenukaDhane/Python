{
 "cells": [
  {
   "cell_type": "markdown",
   "id": "07580299",
   "metadata": {},
   "source": [
    "Q1. Describe three applications for exception processing."
   ]
  },
  {
   "cell_type": "markdown",
   "id": "6bfc7565",
   "metadata": {},
   "source": [
    "1.Exception handling allows you to separate error-handling code from normal code.\n",
    "2.An exception is a convenient method for handling error messages.\n",
    "3.It clarifies the code and enhances readability."
   ]
  },
  {
   "cell_type": "markdown",
   "id": "812d51aa",
   "metadata": {},
   "source": [
    "Q2. What happens if you don't do something extra to treat an exception?"
   ]
  },
  {
   "cell_type": "markdown",
   "id": "8c5a6e4c",
   "metadata": {},
   "source": [
    "If you don't do something extra to treat an exception, the statements after the exception do not execute, and the program crashes."
   ]
  },
  {
   "cell_type": "markdown",
   "id": "9005946c",
   "metadata": {},
   "source": [
    "Q3. What are your options for recovering from an exception in your script?"
   ]
  },
  {
   "cell_type": "markdown",
   "id": "adf2549d",
   "metadata": {},
   "source": [
    "The options for recovering from an exception in your script are : \n",
    "1.A single try statement can have multiple except statements.\n",
    "2.You can also provide a generic except clause, which handles any exception.\n",
    "3.After the except clause(s), you can include an else-clause.\n",
    "4.The else-block is a good place for code that does not need the try: block's protection."
   ]
  },
  {
   "cell_type": "markdown",
   "id": "bfcf8362",
   "metadata": {},
   "source": [
    "Q4. Describe two methods for triggering exceptions in your script."
   ]
  },
  {
   "cell_type": "markdown",
   "id": "3a0bc76f",
   "metadata": {},
   "source": [
    "There are two methods for triggering exceptions:\n",
    "1.Try – This method catches the exceptions raised by the program. \n",
    "2.Raise – Triggers an exception manually using custom exceptions"
   ]
  },
  {
   "cell_type": "markdown",
   "id": "09e88a90",
   "metadata": {},
   "source": [
    "Q5. Identify two methods for specifying actions to be executed at termination time, regardless of whether or not an exception exists."
   ]
  },
  {
   "cell_type": "code",
   "execution_count": null,
   "id": "c5898be7",
   "metadata": {},
   "outputs": [],
   "source": [
    "Finally block in exception handling always executes irrespective of an exception being thrown or not. \n"
   ]
  }
 ],
 "metadata": {
  "kernelspec": {
   "display_name": "Python 3 (ipykernel)",
   "language": "python",
   "name": "python3"
  },
  "language_info": {
   "codemirror_mode": {
    "name": "ipython",
    "version": 3
   },
   "file_extension": ".py",
   "mimetype": "text/x-python",
   "name": "python",
   "nbconvert_exporter": "python",
   "pygments_lexer": "ipython3",
   "version": "3.9.12"
  }
 },
 "nbformat": 4,
 "nbformat_minor": 5
}
