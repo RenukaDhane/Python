{
 "cells": [
  {
   "cell_type": "markdown",
   "id": "e02a0d0f",
   "metadata": {},
   "source": [
    "Q1. What is the relationship between classes and modules?"
   ]
  },
  {
   "cell_type": "markdown",
   "id": "e846fe50",
   "metadata": {},
   "source": [
    "A class is more of a unit, and a module is essentially a loose collection of stuff like functions, variables, or even classes."
   ]
  },
  {
   "cell_type": "markdown",
   "id": "bdb3de28",
   "metadata": {},
   "source": [
    "Q2. How do you make instances and classes?"
   ]
  },
  {
   "cell_type": "markdown",
   "id": "73a64d2c",
   "metadata": {},
   "source": [
    "To create a class, use the keyword class followed by name of the class ,while for creating instance of class we specify the class name along with attribute values to be assigned in __init__ method"
   ]
  },
  {
   "cell_type": "markdown",
   "id": "a6e94481",
   "metadata": {},
   "source": [
    "Q3. Where and how should be class attributes created?"
   ]
  },
  {
   "cell_type": "markdown",
   "id": "b35f76a5",
   "metadata": {},
   "source": [
    "To define a class attribute, you place it inside the class but outside of the __init__() method. Use class_name. class_attribute or object_name. class_attribute to access the value of the class_attribute ."
   ]
  },
  {
   "cell_type": "markdown",
   "id": "af934db9",
   "metadata": {},
   "source": [
    "Q4. Where and how are instance attributes created?"
   ]
  },
  {
   "cell_type": "markdown",
   "id": "5e07a2af",
   "metadata": {},
   "source": [
    "Instance attributes are defined  inside the constructor function, __init__(self,..) of the class by using the self parameter."
   ]
  },
  {
   "cell_type": "markdown",
   "id": "8ad907f6",
   "metadata": {},
   "source": [
    "Q5. What does the term \"self\" in a Python class mean?"
   ]
  },
  {
   "cell_type": "markdown",
   "id": "7477ffb1",
   "metadata": {},
   "source": [
    "The self parameter is a reference to the current instance of the class, and is used to access instance variables."
   ]
  },
  {
   "cell_type": "markdown",
   "id": "1079fdaf",
   "metadata": {},
   "source": [
    "Q6. How does a Python class handle operator overloading?"
   ]
  },
  {
   "cell_type": "markdown",
   "id": "ae69e4ef",
   "metadata": {},
   "source": [
    "The operator overloading in Python means provide extended meaning beyond their predefined operational meaning. Such as, we use the \"+\" operator for adding two integers as well as joining two strings or merging two lists. We can achieve this as the \"+\" operator is overloaded by the \"int\" class and \"str\" class."
   ]
  },
  {
   "cell_type": "markdown",
   "id": "fe6cce47",
   "metadata": {},
   "source": [
    "Q7. When do you consider allowing operator overloading of your classes?"
   ]
  },
  {
   "cell_type": "markdown",
   "id": "de33f4cd",
   "metadata": {},
   "source": [
    "1.We can consider allowing operator overloading of classes when we want objects of a class behave consistently with built-in types and other user-defined types.\n",
    "2.Makes it simpler to write code, especially for complex data types.\n",
    "3.By overloading standard operators on a class, we can exploit the intuition of the users of that class"
   ]
  },
  {
   "cell_type": "markdown",
   "id": "eba78467",
   "metadata": {},
   "source": [
    "Q8. What is the most popular form of operator overloading?"
   ]
  },
  {
   "cell_type": "markdown",
   "id": "f1ab930d",
   "metadata": {},
   "source": [
    "The most frequent instance is the adding up operator '+', where it can be used for the usual addition and also for combining two different strings."
   ]
  },
  {
   "cell_type": "markdown",
   "id": "25773983",
   "metadata": {},
   "source": [
    "Q9. What are the two most important concepts to grasp in order to comprehend Python OOP code?"
   ]
  },
  {
   "cell_type": "markdown",
   "id": "9fa11a0a",
   "metadata": {},
   "source": [
    "Both inheritance and polymorphism are fundamental concepts of object oriented programming. These concepts help us to create code that can be extended and easily maintainable."
   ]
  }
 ],
 "metadata": {
  "kernelspec": {
   "display_name": "Python 3 (ipykernel)",
   "language": "python",
   "name": "python3"
  },
  "language_info": {
   "codemirror_mode": {
    "name": "ipython",
    "version": 3
   },
   "file_extension": ".py",
   "mimetype": "text/x-python",
   "name": "python",
   "nbconvert_exporter": "python",
   "pygments_lexer": "ipython3",
   "version": "3.9.12"
  }
 },
 "nbformat": 4,
 "nbformat_minor": 5
}
