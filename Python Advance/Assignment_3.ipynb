{
 "cells": [
  {
   "cell_type": "markdown",
   "id": "12266366",
   "metadata": {},
   "source": [
    "1. What is the concept of an abstract superclass?"
   ]
  },
  {
   "cell_type": "markdown",
   "id": "43332103",
   "metadata": {},
   "source": [
    "An abstract class is a superclass that cannot be instantiated and is used to state or define general characteristics.These are supposed to be implemented by the subclasses."
   ]
  },
  {
   "cell_type": "markdown",
   "id": "27af6740",
   "metadata": {},
   "source": [
    "2. What happens when a class statement's top level contains a basic assignment statement?"
   ]
  },
  {
   "cell_type": "markdown",
   "id": "f2d5046c",
   "metadata": {},
   "source": [
    "If the top level of a class contains basic assignment that is treated as class attribute\n",
    "Eg below\n"
   ]
  },
  {
   "cell_type": "markdown",
   "id": "59c248ae",
   "metadata": {},
   "source": [
    "class Car:\n",
    "    model_number=2\n",
    "    \n",
    "    \n",
    "    \n",
    "print(Car.model_number)"
   ]
  },
  {
   "cell_type": "markdown",
   "id": "eebacd17",
   "metadata": {},
   "source": [
    "3. Why does a class need to manually call a superclass's __init__ method?"
   ]
  },
  {
   "cell_type": "markdown",
   "id": "011d2524",
   "metadata": {},
   "source": [
    "A subclass is like an extention of its superclass or baseclass, calling superclass's __init__ method allows for initialization of attributes in base class , along with its own subclass attributes"
   ]
  },
  {
   "cell_type": "markdown",
   "id": "8807866f",
   "metadata": {},
   "source": [
    "4. How can you augment, instead of completely replacing, an inherited method?"
   ]
  },
  {
   "cell_type": "markdown",
   "id": "cc79e8b6",
   "metadata": {},
   "source": [
    "We can augument an inherited method instead of completely replacing , by calling the super class version of the inherited method\n",
    "followed by its own implementation in the extended method."
   ]
  },
  {
   "cell_type": "markdown",
   "id": "4d4dc192",
   "metadata": {},
   "source": [
    "5. How is the local scope of a class different from that of a function?"
   ]
  },
  {
   "cell_type": "markdown",
   "id": "08cbbe95",
   "metadata": {},
   "source": [
    "Local scope just refers to the scope available to a given variable, but function scope would refer to variables inside a function."
   ]
  }
 ],
 "metadata": {
  "kernelspec": {
   "display_name": "Python 3 (ipykernel)",
   "language": "python",
   "name": "python3"
  },
  "language_info": {
   "codemirror_mode": {
    "name": "ipython",
    "version": 3
   },
   "file_extension": ".py",
   "mimetype": "text/x-python",
   "name": "python",
   "nbconvert_exporter": "python",
   "pygments_lexer": "ipython3",
   "version": "3.9.12"
  }
 },
 "nbformat": 4,
 "nbformat_minor": 5
}
