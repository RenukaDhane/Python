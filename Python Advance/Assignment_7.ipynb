{
 "cells": [
  {
   "cell_type": "markdown",
   "id": "b8a72a8a",
   "metadata": {},
   "source": [
    "Q1. What is the purpose of the try statement?"
   ]
  },
  {
   "cell_type": "markdown",
   "id": "c03eec36",
   "metadata": {},
   "source": [
    "The try statement allows you to define a block of code to be tested for exceptions while it is being executed"
   ]
  },
  {
   "cell_type": "markdown",
   "id": "bfb25c39",
   "metadata": {},
   "source": [
    "Q2. What are the two most popular try statement variations?"
   ]
  },
  {
   "cell_type": "markdown",
   "id": "80b8a90e",
   "metadata": {},
   "source": [
    "Below are two try statement variations:\n",
    "\n",
    "1.Try/Except/Else : When attaching an else statement to the end of a try/except, this code will be executed after the try has been completed, but only if no exceptions occur.\n",
    "\n",
    "2.Try/Except/Finally: When attaching a finally statement to the end of a try/except, this code will be executed after the try has been completed, regardless of exceptions.\n",
    "    "
   ]
  },
  {
   "cell_type": "markdown",
   "id": "9536240c",
   "metadata": {},
   "source": [
    "Q3. What is the purpose of the raise statement?"
   ]
  },
  {
   "cell_type": "markdown",
   "id": "2394ed1b",
   "metadata": {},
   "source": [
    "The raise keyword is used to trigger an exception ,this can then be handled by the exeption handler code."
   ]
  },
  {
   "cell_type": "markdown",
   "id": "9e55491a",
   "metadata": {},
   "source": [
    "Q4. What does the assert statement do, and what other statement is it like?"
   ]
  },
  {
   "cell_type": "markdown",
   "id": "f4c266ce",
   "metadata": {},
   "source": [
    "The assert keyword is used when debugging code. The assert keyword lets you test if a condition in your code returns True, if not, the program will raise an AssertionError."
   ]
  },
  {
   "cell_type": "markdown",
   "id": "716262df",
   "metadata": {},
   "source": [
    "Q5. What is the purpose of the with/as argument, and what other statement is it like?"
   ]
  },
  {
   "cell_type": "markdown",
   "id": "75d09e5f",
   "metadata": {},
   "source": [
    "The with statement is a replacement for commonly used try/finally error-handling statements. A common example of using the with statement is opening a file. To open and write to a file in Python, you can use the with statement as follows:\n",
    "\n",
    "with open(\"example.txt\", \"w\") as file:\n",
    "\n",
    "    file.write(\"Hello World!\")"
   ]
  }
 ],
 "metadata": {
  "kernelspec": {
   "display_name": "Python 3 (ipykernel)",
   "language": "python",
   "name": "python3"
  },
  "language_info": {
   "codemirror_mode": {
    "name": "ipython",
    "version": 3
   },
   "file_extension": ".py",
   "mimetype": "text/x-python",
   "name": "python",
   "nbconvert_exporter": "python",
   "pygments_lexer": "ipython3",
   "version": "3.9.12"
  }
 },
 "nbformat": 4,
 "nbformat_minor": 5
}
