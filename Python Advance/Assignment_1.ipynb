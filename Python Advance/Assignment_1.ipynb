{
 "cells": [
  {
   "cell_type": "markdown",
   "id": "3c803a8d",
   "metadata": {},
   "source": [
    "Q1. What is the purpose of Python's OOP?"
   ]
  },
  {
   "cell_type": "markdown",
   "id": "065283ab",
   "metadata": {},
   "source": [
    "1.In Python, object-oriented Programming (OOPs) is a programming paradigm that uses objects and classes in programming. \n",
    "2.It aims to implement real-world entities like inheritance, polymorphisms, encapsulation,abstraction etc. in the programming. \n",
    "3.The main concept of OOPs is to bind the data and the functions that work on that together as a single unit so that no other part of the code can access this data.\n"
   ]
  },
  {
   "cell_type": "markdown",
   "id": "160390d4",
   "metadata": {},
   "source": [
    "Q2. Where does an inheritance search look for an attribute?"
   ]
  },
  {
   "cell_type": "markdown",
   "id": "9dd87d14",
   "metadata": {},
   "source": [
    "An inheritance search looks for an attribute first in the instance object, then in the class the instance was created from, then in all higher superclasses, progressing from left to right (by default). The search stops at the first place the attribute is found."
   ]
  },
  {
   "cell_type": "markdown",
   "id": "3e426a61",
   "metadata": {},
   "source": [
    "Q3. How do you distinguish between a class object and an instance object?"
   ]
  },
  {
   "cell_type": "markdown",
   "id": "02f0c90d",
   "metadata": {},
   "source": [
    "Class objects represent the class itself, while instance objects represent individual instances of the class. Class objects can have class-level attributes and methods that are shared among all instances of the class, while instance objects have their own set of attributes and methods that are independent of other."
   ]
  },
  {
   "cell_type": "markdown",
   "id": "1a23795e",
   "metadata": {},
   "source": [
    "Q4. What makes the first argument in a class’s method function special?"
   ]
  },
  {
   "cell_type": "markdown",
   "id": "127d50c0",
   "metadata": {},
   "source": [
    "Generally, when we call a method with some arguments, the corresponding class function is called by placing the method's object before the first argument. So, anything like obj.meth(args) becomes Class.meth(obj, args). The calling process is automatic while the receiving process is not (its explicit).\n",
    "\n",
    "This is the reason the first parameter of a function in class must be the object itself."
   ]
  },
  {
   "cell_type": "markdown",
   "id": "3355fe9b",
   "metadata": {},
   "source": [
    "Q5. What is the purpose of the __init__ method?"
   ]
  },
  {
   "cell_type": "markdown",
   "id": "21e9d81c",
   "metadata": {},
   "source": [
    "The __init__ method lets the class initialize the object's attributes "
   ]
  },
  {
   "cell_type": "markdown",
   "id": "81a29763",
   "metadata": {},
   "source": [
    "Q6. What is the process for creating a class instance?"
   ]
  },
  {
   "cell_type": "markdown",
   "id": "6d7d3b79",
   "metadata": {},
   "source": [
    "To create instances of a class, you call the class using class name and pass in whatever arguments its __init__ method accepts."
   ]
  },
  {
   "cell_type": "markdown",
   "id": "bb646690",
   "metadata": {},
   "source": [
    "Q7. What is the process for creating a class?"
   ]
  },
  {
   "cell_type": "markdown",
   "id": "551a4790",
   "metadata": {},
   "source": [
    "In Python, a class can be created by using the keyword class, followed by the class name,and then definining the class body with methods and attributes."
   ]
  },
  {
   "cell_type": "markdown",
   "id": "e9838f6b",
   "metadata": {},
   "source": [
    "Q8. How would you define the superclasses of a class?"
   ]
  },
  {
   "cell_type": "markdown",
   "id": "e6743319",
   "metadata": {},
   "source": [
    "The class from which a class inherits is called the parent or superclass."
   ]
  }
 ],
 "metadata": {
  "kernelspec": {
   "display_name": "Python 3 (ipykernel)",
   "language": "python",
   "name": "python3"
  },
  "language_info": {
   "codemirror_mode": {
    "name": "ipython",
    "version": 3
   },
   "file_extension": ".py",
   "mimetype": "text/x-python",
   "name": "python",
   "nbconvert_exporter": "python",
   "pygments_lexer": "ipython3",
   "version": "3.9.12"
  }
 },
 "nbformat": 4,
 "nbformat_minor": 5
}
