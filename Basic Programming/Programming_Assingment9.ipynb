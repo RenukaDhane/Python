{
 "cells": [
  {
   "cell_type": "markdown",
   "id": "b215f6ef",
   "metadata": {},
   "source": [
    "1.\tWrite a Python program to check if the given number is a Disarium Number?"
   ]
  },
  {
   "cell_type": "code",
   "execution_count": 7,
   "id": "8ead02bc",
   "metadata": {},
   "outputs": [
    {
     "name": "stdout",
     "output_type": "stream",
     "text": [
      "175  is a disarium number\n"
     ]
    }
   ],
   "source": [
    "\"\"\"A number is said to be the Disarium number when the sum of its \n",
    "digit raised to the power of their respective positions is equal \n",
    "to the number itself.\n",
    "\"\"\"\n",
    "\n",
    "def get_digits(number):\n",
    "    temp=number\n",
    "    digit_list=[]\n",
    "    while(temp!=0):\n",
    "        digit_list.append(temp%10)\n",
    "        temp=temp//10\n",
    "    digit_list.reverse()  \n",
    "    return digit_list\n",
    "\n",
    "\n",
    "def check_disarium_num(number):\n",
    "    \n",
    "    list_digits=get_digits(number)\n",
    "    \n",
    "    digit_count=len(list_digits)    \n",
    "    \n",
    "    sum_digits = sum([x**(i+1) for (i,x) in enumerate(list_digits)])\n",
    "        \n",
    "    if (sum_digits==number):\n",
    "        print(number,\" is a disarium number\")\n",
    "    else:\n",
    "        print(number,\" is not a disarium number\")\n",
    "        \n",
    "check_disarium_num(175)"
   ]
  },
  {
   "cell_type": "markdown",
   "id": "41e011ee",
   "metadata": {},
   "source": [
    "2.\tWrite a Python program to print all disarium numbers between 1 to 100?"
   ]
  },
  {
   "cell_type": "code",
   "execution_count": 12,
   "id": "28f1d135",
   "metadata": {},
   "outputs": [
    {
     "data": {
      "text/plain": [
       "[1, 2, 3, 4, 5, 6, 7, 8, 9, 89]"
      ]
     },
     "execution_count": 12,
     "metadata": {},
     "output_type": "execute_result"
    }
   ],
   "source": [
    "def is_disarium_num(number):\n",
    "    temp=number\n",
    "    list_digits=[]\n",
    "    \n",
    "    while(temp!=0):\n",
    "        list_digits.append(temp%10)\n",
    "        temp=temp//10\n",
    "    \n",
    "    list_digits.reverse()\n",
    "    digit_count=len(list_digits)    \n",
    "    \n",
    "    sum_digits = sum([x**(i+1) for (i,x) in enumerate(list_digits)])\n",
    "        \n",
    "    if (sum_digits==number):\n",
    "        return True\n",
    "    else:\n",
    "        return False\n",
    "    \n",
    "    \n",
    "def print_disarium_numbers(min, max) :\n",
    "    list_dis_nos=[]\n",
    "    for x in range(min,max+1):\n",
    "        if is_disarium_num(x):\n",
    "            list_dis_nos.append(x)\n",
    "            \n",
    "    return list_dis_nos\n",
    "\n",
    "\n",
    "print_disarium_numbers(1,100)"
   ]
  },
  {
   "cell_type": "markdown",
   "id": "e720620d",
   "metadata": {},
   "source": [
    "3.\tWrite a Python program to check if the given number is Happy Number?"
   ]
  },
  {
   "cell_type": "code",
   "execution_count": 17,
   "id": "4c862c7f",
   "metadata": {},
   "outputs": [
    {
     "name": "stdout",
     "output_type": "stream",
     "text": [
      "1335  is a happy number\n"
     ]
    }
   ],
   "source": [
    "def get_digits(number):\n",
    "    temp=number\n",
    "    digit_list=[]\n",
    "    while(temp!=0):\n",
    "        digit_list.append(temp%10)\n",
    "        temp=temp//10\n",
    "    digit_list.reverse()  \n",
    "    return digit_list\n",
    "\n",
    "\n",
    "\n",
    "def is_happy_number(number):\n",
    "    tmp=number\n",
    "    list_digits=get_digits(tmp)\n",
    "    sum_of_squares=sum([x**2 for x in list_digits])\n",
    "    if len(get_digits(sum_of_squares))==1:\n",
    "        if sum_of_squares==1:\n",
    "            return True\n",
    "        else:\n",
    "            return False\n",
    "    else:\n",
    "        return is_happy_number(sum_of_squares)\n",
    "     \n",
    "\n",
    "\n",
    "def check_happy_number(num):\n",
    "\n",
    "    if is_happy_number(num):\n",
    "    \n",
    "        print(num ,\" is a happy number\")\n",
    "    else:\n",
    "        print(num ,\" is not a happy number\")\n",
    "        \n",
    "        \n",
    "        \n",
    "check_happy_number(1335)        "
   ]
  },
  {
   "cell_type": "markdown",
   "id": "c6dafc2a",
   "metadata": {},
   "source": [
    "4.\tWrite a Python program to print all happy numbers between 1 and 100?"
   ]
  },
  {
   "cell_type": "code",
   "execution_count": 18,
   "id": "64526a33",
   "metadata": {},
   "outputs": [
    {
     "data": {
      "text/plain": [
       "[1, 7, 10, 13, 19, 23, 28, 31, 32, 44, 49, 68, 70, 79, 82, 86, 91, 94, 97, 100]"
      ]
     },
     "execution_count": 18,
     "metadata": {},
     "output_type": "execute_result"
    }
   ],
   "source": [
    "def print_all_happy(min,max):\n",
    "    list_of_happy=[]\n",
    "    for x in range(min,max+1):\n",
    "        if is_happy_number(x):\n",
    "            list_of_happy.append(x)\n",
    "    return list_of_happy\n",
    "\n",
    "print_all_happy(1,100)"
   ]
  },
  {
   "cell_type": "markdown",
   "id": "7eeaca6b",
   "metadata": {},
   "source": [
    "5.\tWrite a Python program to determine whether the given number is a Harshad Number?"
   ]
  },
  {
   "cell_type": "code",
   "execution_count": 25,
   "id": "ce8b2e9f",
   "metadata": {},
   "outputs": [
    {
     "name": "stdout",
     "output_type": "stream",
     "text": [
      "18  is a harshad number\n"
     ]
    }
   ],
   "source": [
    "\"\"\"The number 18 is a harshad number in base 10, because the sum of the digits 1 and 8 is 9 (1 + 8 = 9), and 18 is divisible by 9.\"\"\"\n",
    "\n",
    "def get_digits(number):\n",
    "    temp=number\n",
    "    digit_list=[]\n",
    "    while(temp!=0):\n",
    "        digit_list.append(temp%10)\n",
    "        temp=temp//10\n",
    "    digit_list.reverse()  \n",
    "    return digit_list\n",
    "\n",
    "\n",
    "def check_harshad_num(number):\n",
    "    \n",
    "    digit_list=get_digits(number)\n",
    "    sum_of_digits=sum(digit_list)\n",
    "    \n",
    "    if number%sum_of_digits==0:\n",
    "        print(number ,\" is a harshad number\")\n",
    "        \n",
    "    else:\n",
    "        print(number ,\" is not a harshad number\")\n",
    "\n",
    "        \n",
    "        \n",
    "check_harshad_num(18)"
   ]
  },
  {
   "cell_type": "markdown",
   "id": "5c3316a3",
   "metadata": {},
   "source": [
    "6.\tWrite a Python program to print all pronic numbers between 1 and 100?"
   ]
  },
  {
   "cell_type": "code",
   "execution_count": 30,
   "id": "46c35cda",
   "metadata": {},
   "outputs": [
    {
     "data": {
      "text/plain": [
       "[2, 6, 12, 20, 30, 42, 56, 72, 90]"
      ]
     },
     "execution_count": 30,
     "metadata": {},
     "output_type": "execute_result"
    }
   ],
   "source": [
    "\"\"\"A pronic number is a number that is the product of two consecutive integers\n",
    "They are also called oblong numbers, heteromecic numbers,[2] or rectangular numbers\n",
    "\"\"\"\n",
    "\n",
    "\n",
    "def is_pronic_number(number):\n",
    "    for x in range(1,number+1):\n",
    "        if number%x==0:\n",
    "            f1=x\n",
    "            f2=number//x\n",
    "            if abs(f2-f1)==1:\n",
    "                return True\n",
    "    \n",
    "    return False\n",
    "            \n",
    "def print_all_pronic(min,max) : \n",
    "    list_pronic=[]\n",
    "    for n in range(min,max+1):\n",
    "        if is_pronic_number(n):\n",
    "            list_pronic.append(n)\n",
    "            \n",
    "    return list_pronic\n",
    "\n",
    "\n",
    "\n",
    "print_all_pronic(1,100)\n",
    "# is_pronic_number()"
   ]
  },
  {
   "cell_type": "code",
   "execution_count": null,
   "id": "77234db6",
   "metadata": {},
   "outputs": [],
   "source": []
  }
 ],
 "metadata": {
  "kernelspec": {
   "display_name": "Python 3 (ipykernel)",
   "language": "python",
   "name": "python3"
  },
  "language_info": {
   "codemirror_mode": {
    "name": "ipython",
    "version": 3
   },
   "file_extension": ".py",
   "mimetype": "text/x-python",
   "name": "python",
   "nbconvert_exporter": "python",
   "pygments_lexer": "ipython3",
   "version": "3.9.12"
  }
 },
 "nbformat": 4,
 "nbformat_minor": 5
}
