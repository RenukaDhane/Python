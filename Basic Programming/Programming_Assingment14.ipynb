{
 "cells": [
  {
   "cell_type": "markdown",
   "id": "408a6bf6",
   "metadata": {},
   "source": [
    "##### Question 1:\n",
    "\n",
    "##### Define a class with a generator which can iterate the numbers, which are divisible by 7, between a given range 0 and n.\n"
   ]
  },
  {
   "cell_type": "code",
   "execution_count": 13,
   "id": "67cd9263",
   "metadata": {},
   "outputs": [],
   "source": [
    "class Number_iterator:\n",
    "    \"\"\" class with a generator which can iterate the numbers, which are divisible by 7, between a given range 0 and n \"\"\"\n",
    "#     Constructor\n",
    "    def __init__(self,n):\n",
    "        self.n=n\n",
    "    \n",
    "#     Generator\n",
    "    def gen_number(self):\n",
    "        for i in range(0,self.n):\n",
    "            if i%7==0:\n",
    "                yield i\n",
    "                \n",
    "\n"
   ]
  },
  {
   "cell_type": "code",
   "execution_count": 14,
   "id": "27670862",
   "metadata": {},
   "outputs": [
    {
     "name": "stdout",
     "output_type": "stream",
     "text": [
      "0\n",
      "7\n",
      "14\n",
      "21\n",
      "28\n",
      "35\n",
      "42\n",
      "49\n"
     ]
    }
   ],
   "source": [
    "# Create class object\n",
    "num_iterator=Number_iterator(50)\n",
    "\n",
    "#iterate over generator\n",
    "for x in num_iterator.gen_number():\n",
    "    print(x)\n"
   ]
  },
  {
   "cell_type": "markdown",
   "id": "df956576",
   "metadata": {},
   "source": [
    "##### Question 2:\n",
    "##### Write a program to compute the frequency of the words from the input. The output should output after sorting the key alphanumerically. \n",
    "\n",
    "Suppose the following input is supplied to the program:\n",
    "\n",
    "New to Python or choosing between Python 2 and Python 3? Read Python 2 or Python 3.\n",
    "\n",
    "Then, the output should be:\n",
    "\n",
    "2:2\n",
    "\n",
    "3.:1\n",
    "\n",
    "3?:1\n",
    "\n",
    "New:1\n",
    "\n",
    "Python:5\n",
    "\n",
    "Read:1\n",
    "\n",
    "and:1\n",
    "\n",
    "between:1\n",
    "\n",
    "choosing:1\n",
    "\n",
    "or:2\n",
    "\n",
    "to:1\n"
   ]
  },
  {
   "cell_type": "code",
   "execution_count": 29,
   "id": "da93df19",
   "metadata": {},
   "outputs": [],
   "source": [
    "str=\"New to Python or choosing between Python 2 and Python 3? Read Python 2 or Python 3\"\n",
    "\n",
    "def compute_frequency(str):\n",
    "    \"\"\"  program to compute the frequency of the words from the input \"\"\"\n",
    "    list=str.split(' ')\n",
    "    list.sort()\n",
    "    dict={}\n",
    "    for x in list:\n",
    "        dict[x]=list.count(x)\n",
    "    \n",
    "    print(dict)"
   ]
  },
  {
   "cell_type": "code",
   "execution_count": 30,
   "id": "9c0bdc90",
   "metadata": {},
   "outputs": [
    {
     "name": "stdout",
     "output_type": "stream",
     "text": [
      "{'2': 2, '3': 1, '3?': 1, 'New': 1, 'Python': 5, 'Read': 1, 'and': 1, 'between': 1, 'choosing': 1, 'or': 2, 'to': 1}\n"
     ]
    }
   ],
   "source": [
    "compute_frequency(str)"
   ]
  },
  {
   "cell_type": "markdown",
   "id": "9026258b",
   "metadata": {},
   "source": [
    "##### Question 3:\n",
    "\n",
    "\n",
    "\n",
    "##### Define a class Person and its two child classes: Male and Female. All classes have a method \"getGender\" which can print \"Male\" for Male class and \"Female\" for Female class.\n"
   ]
  },
  {
   "cell_type": "code",
   "execution_count": 35,
   "id": "8648cb43",
   "metadata": {},
   "outputs": [],
   "source": [
    "class Person:\n",
    "    def getGender(self):\n",
    "        pass\n",
    "\n",
    "class Male(Person):\n",
    "    \n",
    "    def getGender(self):\n",
    "        print(\"Male\")\n",
    "        \n",
    "        \n",
    "class Female(Person):\n",
    "    \n",
    "    def getGender(self):\n",
    "        print(\"Female\")\n",
    "        "
   ]
  },
  {
   "cell_type": "code",
   "execution_count": 36,
   "id": "90e07494",
   "metadata": {},
   "outputs": [
    {
     "name": "stdout",
     "output_type": "stream",
     "text": [
      "Female\n",
      "Male\n"
     ]
    }
   ],
   "source": [
    "female=Female()\n",
    "female.getGender()\n",
    "\n",
    "\n",
    "male=Male()\n",
    "male.getGender()"
   ]
  },
  {
   "cell_type": "markdown",
   "id": "971dcbda",
   "metadata": {},
   "source": [
    "##### Question 4:\n",
    "##### Please write a program to generate all sentences where subject is in [\"I\", \"You\"] and verb is in [\"Play\", \"Love\"] and the object is in [\"Hockey\",\"Football\"].\n"
   ]
  },
  {
   "cell_type": "code",
   "execution_count": 37,
   "id": "9a64801f",
   "metadata": {},
   "outputs": [
    {
     "name": "stdout",
     "output_type": "stream",
     "text": [
      "I Play Hockey\n",
      "I Play Football\n",
      "I Love Hockey\n",
      "I Love Football\n",
      "You Play Hockey\n",
      "You Play Football\n",
      "You Love Hockey\n",
      "You Love Football\n"
     ]
    }
   ],
   "source": [
    "def generate_sentences():\n",
    "    subject=[\"I\",\"You\"]\n",
    "    verb=[\"Play\",\"Love\"]\n",
    "    obj=[\"Hockey\",\"Football\"]\n",
    "    \n",
    "    for s in subject:\n",
    "        for v in verb:\n",
    "            for o in obj:\n",
    "                print(s,v,o)\n",
    "                \n",
    "generate_sentences()"
   ]
  },
  {
   "cell_type": "markdown",
   "id": "e1c91b91",
   "metadata": {},
   "source": [
    "##### Question 5:\n",
    "##### Please write a program to compress and decompress the string \"hello world!hello world!hello world!hello world!\".\n"
   ]
  },
  {
   "cell_type": "code",
   "execution_count": 39,
   "id": "5deb3b71",
   "metadata": {},
   "outputs": [
    {
     "name": "stdout",
     "output_type": "stream",
     "text": [
      "b'\\x1f\\x8b\\x08\\x00\\xce\\xb3Sd\\x02\\xff\\xcbH\\xcd\\xc9\\xc9W(\\xcf/\\xcaIQ\\xcc \\x82\\r\\x00\\xd3\\xe6\\xcf\\xae0\\x00\\x00\\x00'\n",
      "b'hello world!hello world!hello world!hello world!'\n"
     ]
    }
   ],
   "source": [
    "\"\"\"Please write a program to compress and decompress the string \"hello world!hello world!hello world!hello world!\".\"\"\"\n",
    "import gzip\n",
    "str=b\"hello world!hello world!hello world!hello world!\"\n",
    "compressed_string=gzip.compress(str)\n",
    "print(compressed_string)\n",
    "\n",
    "decompressed_string=gzip.decompress(compressed_string)\n",
    "print(decompressed_string)"
   ]
  },
  {
   "cell_type": "markdown",
   "id": "f3875a76",
   "metadata": {},
   "source": [
    "##### Question 6:\n",
    "##### Please write a binary search function which searches an item in a sorted list. The function should return the index of element to be searched in the list.\n",
    "\n",
    "\n"
   ]
  },
  {
   "cell_type": "code",
   "execution_count": 15,
   "id": "6751d250",
   "metadata": {},
   "outputs": [],
   "source": [
    "def binary_search(start_index,stop_index,target,list):\n",
    "    \n",
    "    mid_index=int((start_index+stop_index)/2)\n",
    "    search_index=0\n",
    "    \n",
    "    if target<list[mid_index]:\n",
    "        #then update start stop index\n",
    "        start_index=start_index\n",
    "        stop_index=mid_index\n",
    "        search_index=binary_search(start_index,stop_index,target,list)\n",
    "    \n",
    "    \n",
    "    if target>list[mid_index]:\n",
    "        #then update start stop index\n",
    "        start_index=mid_index\n",
    "        stop_index=stop_index\n",
    "        search_index=binary_search(start_index,stop_index,target,list)\n",
    "    \n",
    "\n",
    "    if list[mid_index]==target:\n",
    "        search_index = mid_index\n",
    "    \n",
    "    return search_index"
   ]
  },
  {
   "cell_type": "code",
   "execution_count": 17,
   "id": "917a2e3e",
   "metadata": {},
   "outputs": [
    {
     "name": "stdout",
     "output_type": "stream",
     "text": [
      "The search element 23 is found at index location 5\n"
     ]
    }
   ],
   "source": [
    "\n",
    "list=[2, 5, 8, 12, 16, 23, 38, 56, 72, 91]\n",
    "list.sort()\n",
    "search_element=23\n",
    "search_index=binary_search(0,len(list)-1,search_element,list)\n",
    "print(\"The search element\",search_element, \"is found at index location\",search_index)"
   ]
  }
 ],
 "metadata": {
  "kernelspec": {
   "display_name": "Python 3 (ipykernel)",
   "language": "python",
   "name": "python3"
  },
  "language_info": {
   "codemirror_mode": {
    "name": "ipython",
    "version": 3
   },
   "file_extension": ".py",
   "mimetype": "text/x-python",
   "name": "python",
   "nbconvert_exporter": "python",
   "pygments_lexer": "ipython3",
   "version": "3.9.12"
  }
 },
 "nbformat": 4,
 "nbformat_minor": 5
}
