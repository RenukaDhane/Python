{
 "cells": [
  {
   "cell_type": "markdown",
   "id": "d08e5802",
   "metadata": {},
   "source": [
    "1.\tWrite a Python Program to Find the Factorial of a Number?"
   ]
  },
  {
   "cell_type": "code",
   "execution_count": 7,
   "id": "ffbdb04b",
   "metadata": {},
   "outputs": [
    {
     "name": "stdout",
     "output_type": "stream",
     "text": [
      "factorial of  5  is  120\n"
     ]
    }
   ],
   "source": [
    "\"\"\"Python Program to Find the Factorial of a Number\"\"\"\n",
    "def find_factorial(number):\n",
    "    factorial=1\n",
    "    for i in range(1,number+1):\n",
    "        factorial=factorial*i\n",
    "        \n",
    "    print(\"factorial of \",number, \" is \",factorial)\n",
    "        \n",
    "        \n",
    "find_factorial(5)"
   ]
  },
  {
   "cell_type": "markdown",
   "id": "56a6a015",
   "metadata": {},
   "source": [
    "2.\tWrite a Python Program to Display the multiplication Table?"
   ]
  },
  {
   "cell_type": "code",
   "execution_count": 9,
   "id": "1238837d",
   "metadata": {},
   "outputs": [
    {
     "name": "stdout",
     "output_type": "stream",
     "text": [
      "Displaying multiplication table of  2 upto 12\n",
      "2  X  1  =  2\n",
      "2  X  2  =  4\n",
      "2  X  3  =  6\n",
      "2  X  4  =  8\n",
      "2  X  5  =  10\n",
      "2  X  6  =  12\n",
      "2  X  7  =  14\n",
      "2  X  8  =  16\n",
      "2  X  9  =  18\n",
      "2  X  10  =  20\n",
      "2  X  11  =  22\n",
      "2  X  12  =  24\n"
     ]
    }
   ],
   "source": [
    "\"\"\"Python Program to Display the multiplication Table\"\"\"\n",
    "def display_multiplication_table(table_of_number):\n",
    "    print(\"Displaying multiplication table of \",table_of_number,\"upto 12\")\n",
    "    \n",
    "    for i in range(1,13):\n",
    "        print(table_of_number,\" X \",i,\" = \",(table_of_number*i))\n",
    "    \n",
    "    \n",
    "display_multiplication_table(2)    "
   ]
  },
  {
   "cell_type": "markdown",
   "id": "70761e34",
   "metadata": {},
   "source": [
    "3.\tWrite a Python Program to Print the Fibonacci sequence?"
   ]
  },
  {
   "cell_type": "code",
   "execution_count": 33,
   "id": "5fefd0cd",
   "metadata": {},
   "outputs": [
    {
     "data": {
      "text/plain": [
       "[0, 1, 1, 2, 3, 5, 8, 13, 21, 34]"
      ]
     },
     "execution_count": 33,
     "metadata": {},
     "output_type": "execute_result"
    }
   ],
   "source": [
    "\"\"\"Python Program to Print the Fibonacci sequence given length of sequence\"\"\"\n",
    "\n",
    "def fibonacci(length_of_sequence):\n",
    "    fibonacci_list=[] \n",
    "    n1=0\n",
    "    n2=1\n",
    "    \n",
    "    fibonacci_list.append(n1)\n",
    "    fibonacci_list.append(n2)\n",
    "    while(len(fibonacci_list)<length_of_sequence):\n",
    "        sum=n1+n2\n",
    "        fibonacci_list.append(sum)\n",
    "        n1=n2\n",
    "        n2=sum\n",
    "        \n",
    "    return fibonacci_list\n",
    "\n",
    "\n",
    "fibonacci(10)\n",
    "        "
   ]
  },
  {
   "cell_type": "markdown",
   "id": "720e8734",
   "metadata": {},
   "source": [
    "4.\tWrite a Python Program to Check Armstrong Number?"
   ]
  },
  {
   "cell_type": "code",
   "execution_count": 58,
   "id": "4626c504",
   "metadata": {},
   "outputs": [
    {
     "name": "stdout",
     "output_type": "stream",
     "text": [
      "407  is an Armstrong number\n"
     ]
    }
   ],
   "source": [
    "\"\"\"Python Program to Check Armstrong Number\"\"\"\n",
    "\n",
    "def check_armstrong_number(number):\n",
    "\n",
    "    list_digits=[]\n",
    "    temp=number\n",
    "    \n",
    "    #get the digits from the integer number \n",
    "    while temp!=0 :\n",
    "        list_digits.append(temp%10)\n",
    "        temp=temp//10\n",
    "    \n",
    "    #get number of digits in the given number\n",
    "    digit_count=len(list_digits)\n",
    "\n",
    "    #print(number,\" is a \",digit_count, \" digit number\")\n",
    "    \n",
    "    #get sum of digits powered to the number of digits\n",
    "    digit_count_powered_sum=sum([x**digit_count for x in list_digits])\n",
    "    \n",
    "    #Conclude whether the given number is Armstrong Number\n",
    "    if(number==digit_count_powered_sum ):\n",
    "        print(number ,\" is an Armstrong number\")\n",
    "    else:\n",
    "        print(number ,\" is not an Armstrong number\")\n",
    "    \n",
    "\n",
    "check_armstrong_number(407)  "
   ]
  },
  {
   "cell_type": "markdown",
   "id": "bd0de39d",
   "metadata": {},
   "source": [
    "5.\tWrite a Python Program to Find Armstrong Number in an Interval?"
   ]
  },
  {
   "cell_type": "code",
   "execution_count": 60,
   "id": "9e654672",
   "metadata": {},
   "outputs": [
    {
     "data": {
      "text/plain": [
       "[0, 1, 2, 3, 4, 5, 6, 7, 8, 9, 153, 370, 371, 407, 1634, 8208, 9474]"
      ]
     },
     "execution_count": 60,
     "metadata": {},
     "output_type": "execute_result"
    }
   ],
   "source": [
    "\"\"\"Python Program to Find Armstrong Number in an Interval\"\"\"\n",
    "\n",
    "def is_armstrong_number(number):\n",
    "\n",
    "    list_digits=[]\n",
    "    temp=number\n",
    "    \n",
    "    #get the digits from the integer number \n",
    "    while temp!=0 :\n",
    "        list_digits.append(temp%10)\n",
    "        temp=temp//10\n",
    "    \n",
    "    #get number of digits in the given number\n",
    "    digit_count=len(list_digits)\n",
    "\n",
    "    #print(number,\" is a \",digit_count, \" digit number\")\n",
    "    \n",
    "    #get sum of digits powered to the number of digits\n",
    "    digit_count_powered_sum=sum([x**digit_count for x in list_digits])\n",
    "    \n",
    "    #Conclude whether the given number is Armstrong Number\n",
    "    if(number==digit_count_powered_sum ):\n",
    "        return True\n",
    "    else:\n",
    "        False\n",
    "\n",
    "\n",
    "def get_armstrong_number_in_interval(min_number,max_number):\n",
    "    armstrong_numbers_in_interval=[]\n",
    "    for num in range(min_number,max_number+1):\n",
    "        if(is_armstrong_number(num)):\n",
    "            armstrong_numbers_in_interval.append(num)\n",
    "            \n",
    "    return armstrong_numbers_in_interval     \n",
    "\n",
    "            \n",
    "get_armstrong_number_in_interval(0,10000)            \n",
    "    "
   ]
  },
  {
   "cell_type": "markdown",
   "id": "346135dd",
   "metadata": {},
   "source": [
    "6.\tWrite a Python Program to Find the Sum of Natural Numbers?"
   ]
  },
  {
   "cell_type": "code",
   "execution_count": 65,
   "id": "05c80832",
   "metadata": {},
   "outputs": [
    {
     "data": {
      "text/plain": [
       "15"
      ]
     },
     "execution_count": 65,
     "metadata": {},
     "output_type": "execute_result"
    }
   ],
   "source": [
    "\"\"\"\n",
    "Python Program to Find the Sum of Natural Numbers upto given natural number\n",
    "\"\"\"\n",
    "def get_sum_natural_nos(n):\n",
    "    return int(((n*(n+1))/2))\n",
    "\n",
    "\n",
    "get_sum_natural_nos(5)\n",
    "    "
   ]
  }
 ],
 "metadata": {
  "kernelspec": {
   "display_name": "Python 3 (ipykernel)",
   "language": "python",
   "name": "python3"
  },
  "language_info": {
   "codemirror_mode": {
    "name": "ipython",
    "version": 3
   },
   "file_extension": ".py",
   "mimetype": "text/x-python",
   "name": "python",
   "nbconvert_exporter": "python",
   "pygments_lexer": "ipython3",
   "version": "3.9.12"
  }
 },
 "nbformat": 4,
 "nbformat_minor": 5
}
