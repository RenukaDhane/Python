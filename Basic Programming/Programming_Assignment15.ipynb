{
 "cells": [
  {
   "cell_type": "markdown",
   "id": "de5f2ac4",
   "metadata": {},
   "source": [
    "Question 1:\n",
    "Please write a program using generator to print the numbers which can be divisible by 5 and 7 between 0 and n in comma separated form while n is input by console.\n",
    "Example:\n",
    "If the following n is given as input to the program:\n",
    "100\n",
    "Then, the output of the program should be:\n",
    "0,35,70\n"
   ]
  },
  {
   "cell_type": "code",
   "execution_count": 8,
   "id": "52c3d164",
   "metadata": {},
   "outputs": [
    {
     "name": "stdout",
     "output_type": "stream",
     "text": [
      "Enter upper limit of range: 100\n",
      "Required output is :  0,35,70\n"
     ]
    }
   ],
   "source": [
    "def num_generator(n):\n",
    "    #generate required sequence\n",
    "    for i in range(0,n):\n",
    "        if i%5==0 and i%7==0:\n",
    "            yield i\n",
    "\n",
    "def print_sequence():\n",
    "    #Take input from user and print the output\n",
    "    n=int(input(\"Enter upper limit of range: \"))\n",
    "    num_list=[]\n",
    "    for k in num_generator(n):\n",
    "        num_list.append(k)\n",
    "        \n",
    "    \n",
    "    print(\"Required output is : \",','.join(map(str,num_list)))\n",
    "    \n",
    "    \n",
    "#function call\n",
    "print_sequence()  "
   ]
  },
  {
   "cell_type": "markdown",
   "id": "691f98d8",
   "metadata": {},
   "source": [
    "Question 2:\n",
    "Please write a program using generator to print the even numbers between 0 and n in comma separated form while n is input by console.\n",
    "Example:\n",
    "If the following n is given as input to the program:\n",
    "10\n",
    "Then, the output of the program should be:\n",
    "0,2,4,6,8,10\n"
   ]
  },
  {
   "cell_type": "code",
   "execution_count": 9,
   "id": "6bdea8f8",
   "metadata": {},
   "outputs": [
    {
     "name": "stdout",
     "output_type": "stream",
     "text": [
      "Enter upper limit of range: 10\n",
      "Required output is :  0,2,4,6,8,10\n"
     ]
    }
   ],
   "source": [
    "def even_num_generator(n):\n",
    "    #generate required sequence\n",
    "    for i in range(0,n+1):\n",
    "        if i%2==0:\n",
    "            yield i\n",
    "\n",
    "def print_sequence():\n",
    "    #Take input from user and print the output\n",
    "    n=int(input(\"Enter upper limit of range: \"))\n",
    "    num_list=[]\n",
    "    for k in even_num_generator(n):\n",
    "        num_list.append(k)\n",
    "        \n",
    "    \n",
    "    print(\"Required output is : \",','.join(map(str,num_list)))\n",
    "    \n",
    "    \n",
    "#function call\n",
    "print_sequence()  "
   ]
  },
  {
   "cell_type": "markdown",
   "id": "2908e047",
   "metadata": {},
   "source": [
    "Question 3:\n",
    "The Fibonacci Sequence is computed based on the following formula:\n",
    "f(n)=0 if n=0\n",
    "f(n)=1 if n=1\n",
    "f(n)=f(n-1)+f(n-2) if n>1\n",
    "Please write a program using list comprehension to print the Fibonacci Sequence in comma separated form with a given n input by console.\n",
    "Example:\n",
    "If the following n is given as input to the program:\n",
    "7\n",
    "\n",
    "Then, the output of the program should be:\n",
    "0,1,1,2,3,5,8,13\n"
   ]
  },
  {
   "cell_type": "code",
   "execution_count": 19,
   "id": "328861c5",
   "metadata": {},
   "outputs": [
    {
     "name": "stdout",
     "output_type": "stream",
     "text": [
      "Enter the range for the fibonacci sequence7\n",
      "Output fibonacci sequence is:  [0, 1, 1, 2, 3, 5, 8, 13]\n"
     ]
    }
   ],
   "source": [
    "def print_fibonacci_sequence():\n",
    "    n=int(input(\"Enter the range for the fibonacci sequence\"))\n",
    "    seq=[0,1]\n",
    "    [seq.append(seq[-1]+seq[-2]) for i in range(2,n+1)]\n",
    "    print(\"Output fibonacci sequence is: \",seq)\n",
    "          \n",
    "          \n",
    "print_fibonacci_sequence()"
   ]
  },
  {
   "cell_type": "markdown",
   "id": "2fe6184b",
   "metadata": {},
   "source": [
    "Question 4:\n",
    "Assuming that we have some email addresses in the \"username@companyname.com\" format, please write program to print the user name of a given email address. Both user names and company names are composed of letters only.\n",
    "Example:\n",
    "If the following email address is given as input to the program:\n",
    "john@google.com\n",
    "Then, the output of the program should be:\n",
    "john\n"
   ]
  },
  {
   "cell_type": "code",
   "execution_count": 22,
   "id": "a5602309",
   "metadata": {},
   "outputs": [
    {
     "name": "stdout",
     "output_type": "stream",
     "text": [
      "Enter email address: john@google.com\n",
      "User Name is:  john\n"
     ]
    }
   ],
   "source": [
    "def get_user():\n",
    "    email=input(\"Enter email address: \")\n",
    "    print(\"User Name is: \",email[0:email.index('@')])\n",
    "    \n",
    "get_user()"
   ]
  },
  {
   "cell_type": "markdown",
   "id": "192c315f",
   "metadata": {},
   "source": [
    "Question 5:\n",
    "Define a class named Shape and its subclass Square. The Square class has an init function which takes a length as argument. Both classes have a area function which can print the area of the shape where Shape's area is 0 by default.\n"
   ]
  },
  {
   "cell_type": "code",
   "execution_count": 6,
   "id": "6ebeb633",
   "metadata": {},
   "outputs": [
    {
     "name": "stdout",
     "output_type": "stream",
     "text": [
      "Area of Shape is:  0\n",
      "Area of square is:  25\n"
     ]
    }
   ],
   "source": [
    "#Define shape class\n",
    "class Shape:\n",
    "    def __init__(self):\n",
    "        self.areaOfShape=0\n",
    "   \n",
    "    def area(self):\n",
    "        print(\"Area of Shape is: \",self.areaOfShape)\n",
    "        \n",
    "        \n",
    "#Define square class\n",
    "class Square(Shape):\n",
    "    def __init__(self,length):\n",
    "        self.length=length\n",
    "        self.areaOfSquare=0\n",
    "        \n",
    "    def area(self):\n",
    "        self.areaOfSquare=self.length*self.length\n",
    "        print(\"Area of square is: \",self.areaOfSquare)\n",
    "        \n",
    "        \n",
    "# Create Shape object\n",
    "s=Shape()    \n",
    "s.area()\n",
    "\n",
    "#Create Square object\n",
    "square1=Square(5)\n",
    "square1.area()\n"
   ]
  },
  {
   "cell_type": "code",
   "execution_count": null,
   "id": "68f65b61",
   "metadata": {},
   "outputs": [],
   "source": []
  }
 ],
 "metadata": {
  "kernelspec": {
   "display_name": "Python 3 (ipykernel)",
   "language": "python",
   "name": "python3"
  },
  "language_info": {
   "codemirror_mode": {
    "name": "ipython",
    "version": 3
   },
   "file_extension": ".py",
   "mimetype": "text/x-python",
   "name": "python",
   "nbconvert_exporter": "python",
   "pygments_lexer": "ipython3",
   "version": "3.9.12"
  }
 },
 "nbformat": 4,
 "nbformat_minor": 5
}
