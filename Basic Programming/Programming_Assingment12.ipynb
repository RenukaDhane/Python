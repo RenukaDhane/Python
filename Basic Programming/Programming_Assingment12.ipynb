{
 "cells": [
  {
   "cell_type": "markdown",
   "id": "f7a4ba5b",
   "metadata": {},
   "source": [
    "1.\tWrite a Python program to Extract Unique values dictionary values?"
   ]
  },
  {
   "cell_type": "code",
   "execution_count": 3,
   "id": "f9494be7",
   "metadata": {},
   "outputs": [
    {
     "name": "stdout",
     "output_type": "stream",
     "text": [
      "[1, 2, 5, 6, 7, 8, 10, 11, 12]\n"
     ]
    }
   ],
   "source": [
    "test_dict = {'a' : [5, 6, 7, 8], # get a dictionary\n",
    "            'b' : [10, 11, 7, 5],\n",
    "            \n",
    "\n",
    "\n",
    "#combine keys in the dictionary into a list\n",
    "combined_list=[] \n",
    "for i in test_dict.values():\n",
    "    combined_list.extend(i)\n",
    "    \n",
    "#get unique elements from combined list    \n",
    "unique_elements=[*set(combined_list)]\n",
    "#print unique elements\n",
    "print(unique_elements)"
   ]
  },
  {
   "cell_type": "markdown",
   "id": "a35b27c4",
   "metadata": {},
   "source": [
    "2.\tWrite a Python program to find the sum of all items in a dictionary?"
   ]
  },
  {
   "cell_type": "code",
   "execution_count": 4,
   "id": "0015c811",
   "metadata": {},
   "outputs": [
    {
     "name": "stdout",
     "output_type": "stream",
     "text": [
      "600\n"
     ]
    }
   ],
   "source": [
    "#sample dictionary\n",
    "test_dict = {'a': 100, 'b': 200, 'c': 300}\n",
    "#print sum of elements\n",
    "sum_of_elements= sum([x for x in test_dict.values()])\n",
    "print(sum_of_elements)"
   ]
  },
  {
   "cell_type": "markdown",
   "id": "f3313e08",
   "metadata": {},
   "source": [
    "3.\tWrite a Python program to Merging two Dictionaries?"
   ]
  },
  {
   "cell_type": "code",
   "execution_count": 7,
   "id": "9ac322b1",
   "metadata": {},
   "outputs": [
    {
     "name": "stdout",
     "output_type": "stream",
     "text": [
      "{'a': [5, 6, 7, 8], 'b': [10, 11, 7, 5], 'c': [6, 12, 10, 8], 'd': [1, 2, 5]}\n"
     ]
    }
   ],
   "source": [
    "# get dict1\n",
    "dict1 = {'a' : [5, 6, 7, 8], \n",
    "            'b' : [10, 11, 7, 5]}\n",
    "\n",
    "# get dict2\n",
    "dict2={'c' : [6, 12, 10, 8],\n",
    "            'd' : [1, 2, 5]}\n",
    "\n",
    "dict1.update(dict2)\n",
    "merged_dict=dict1\n",
    "print(merged_dict)\n"
   ]
  },
  {
   "cell_type": "markdown",
   "id": "89cc536d",
   "metadata": {},
   "source": [
    "4.\tWrite a Python program to convert key-values list to flat dictionary?"
   ]
  },
  {
   "cell_type": "code",
   "execution_count": 15,
   "id": "34117885",
   "metadata": {},
   "outputs": [
    {
     "name": "stdout",
     "output_type": "stream",
     "text": [
      "Original Dictionary :  {'weekday_number': [1, 2, 3, 4, 5, 6, 7], 'weekday_name': ['Monday', 'Tuesday', 'Wednesday', 'Thursday', 'Friday', 'Saturday', 'Sunday']}\n",
      "Flattened Dictionary :  {1: 'Monday', 2: 'Tuesday', 3: 'Wednesday', 4: 'Thursday', 5: 'Friday', 6: 'Saturday', 7: 'Sunday'}\n"
     ]
    }
   ],
   "source": [
    "my_dict = {'weekday_number' : [1, 2, 3, 4, 5, 6,7], \n",
    "           'weekday_name' : ['Monday', 'Tuesday',\n",
    "                            'Wednesday', 'Thursday', 'Friday', 'Saturday','Sunday']}\n",
    "\n",
    "\n",
    "flattened_dictionary=dict(zip(my_dict['weekday_number'],my_dict['weekday_name']))\n",
    "\n",
    "print(\"Original Dictionary : \",my_dict)\n",
    "print(\"Flattened Dictionary : \",flattened_dictionary)\n"
   ]
  },
  {
   "cell_type": "markdown",
   "id": "ddefac54",
   "metadata": {},
   "source": [
    "5.\tWrite a Python program to insertion at the beginning in OrderedDict?"
   ]
  },
  {
   "cell_type": "code",
   "execution_count": 21,
   "id": "24cf3d3a",
   "metadata": {},
   "outputs": [
    {
     "name": "stdout",
     "output_type": "stream",
     "text": [
      "Original OrderedDict :  OrderedDict([('A', '100'), ('B', '200'), ('C', '300')])\n",
      "Updated OrderedDict :  OrderedDict([('D', '400'), ('A', '100'), ('B', '200'), ('C', '300')])\n"
     ]
    }
   ],
   "source": [
    "from collections import OrderedDict  \n",
    "dic1 = OrderedDict([('A', '100'), ('B', '200'), ('C', '300')])\n",
    "print(\"Original OrderedDict : \",dic1)\n",
    "\n",
    "insert_dict={\"D\": '400'}\n",
    "dic1.update(insert_dict)          #update \n",
    "dic1.move_to_end(\"D\", last=False) #move_to_end\n",
    "\n",
    "print (\"Updated OrderedDict : \",dic1)"
   ]
  },
  {
   "cell_type": "markdown",
   "id": "b5935de2",
   "metadata": {},
   "source": [
    "6.\tWrite a Python program to check order of character in string using OrderedDict()?"
   ]
  },
  {
   "cell_type": "code",
   "execution_count": 28,
   "id": "a83c36f1",
   "metadata": {},
   "outputs": [
    {
     "name": "stdout",
     "output_type": "stream",
     "text": [
      "characters are in different order as that of string\n"
     ]
    }
   ],
   "source": [
    "from collections import OrderedDict\n",
    "\n",
    "def check_order_of_characters(characters, string):\n",
    "    test_dict=OrderedDict.fromkeys(string)\n",
    "    i=0\n",
    "    for key,val in dict_test.items():\n",
    "        if key==characters[i]:\n",
    "            i=i+1\n",
    "            \n",
    "    if i ==len(characters):\n",
    "        print(\"characters are in same order as that in string\")\n",
    "    else:\n",
    "        print(\"characters are in different order as that of string\")\n",
    "            \n",
    "\n",
    "string=\"Welcome\"\n",
    "check_order_of_characters('oc',string)"
   ]
  },
  {
   "cell_type": "markdown",
   "id": "723d9871",
   "metadata": {},
   "source": [
    "7.\tWrite a Python program to sort Python Dictionaries by Key or Value?"
   ]
  },
  {
   "cell_type": "code",
   "execution_count": 17,
   "id": "50769f1d",
   "metadata": {},
   "outputs": [
    {
     "name": "stdout",
     "output_type": "stream",
     "text": [
      "Original Dictionary :  {'c': 100, 'v': 200, 'w': 43, 'q': 89, 'd': 0, 'l': 45}\n",
      "Sorted Dictionary :  {'c': 100, 'd': 0, 'l': 45, 'q': 89, 'v': 200, 'w': 43}\n"
     ]
    }
   ],
   "source": [
    "test_dict={ 'c':100, 'v': 200,'w': 43, 'q':89,'d': 0,'l':45}\n",
    "\n",
    "list_keys=list(test_dict.keys())\n",
    "list_keys.sort()\n",
    "sorted_dict={ x:test_dict[x] for x in list_keys}\n",
    "\n",
    "print(\"Original Dictionary : \",test_dict )\n",
    "print(\"Sorted Dictionary : \",sorted_dict)"
   ]
  }
 ],
 "metadata": {
  "kernelspec": {
   "display_name": "Python 3 (ipykernel)",
   "language": "python",
   "name": "python3"
  },
  "language_info": {
   "codemirror_mode": {
    "name": "ipython",
    "version": 3
   },
   "file_extension": ".py",
   "mimetype": "text/x-python",
   "name": "python",
   "nbconvert_exporter": "python",
   "pygments_lexer": "ipython3",
   "version": "3.9.12"
  }
 },
 "nbformat": 4,
 "nbformat_minor": 5
}
