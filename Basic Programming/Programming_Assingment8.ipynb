{
 "cells": [
  {
   "cell_type": "markdown",
   "id": "44bdef87",
   "metadata": {},
   "source": [
    "1.\tWrite a Python Program to Add Two Matrices?"
   ]
  },
  {
   "cell_type": "code",
   "execution_count": 4,
   "id": "f1045e3e",
   "metadata": {},
   "outputs": [
    {
     "name": "stdout",
     "output_type": "stream",
     "text": [
      "[[10 10 10]\n",
      " [10 10 10]\n",
      " [10 10 10]]\n"
     ]
    }
   ],
   "source": [
    "import numpy as np\n",
    "  \n",
    "X = [[1,2,3],\n",
    "    [4 ,5,6],\n",
    "    [7 ,8,9]]\n",
    "  \n",
    "Y = [[9,8,7],\n",
    "    [6,5,4],\n",
    "    [3,2,1]]\n",
    " \n",
    "result = np.array(X) + np.array(Y)\n",
    " \n",
    "print(result)"
   ]
  },
  {
   "cell_type": "markdown",
   "id": "77115c3f",
   "metadata": {},
   "source": [
    "2.\tWrite a Python Program to Multiply Two Matrices?"
   ]
  },
  {
   "cell_type": "code",
   "execution_count": 7,
   "id": "7946ccfb",
   "metadata": {},
   "outputs": [
    {
     "name": "stdout",
     "output_type": "stream",
     "text": [
      "[[ 63 320  83]\n",
      " [ 77 484 102]\n",
      " [ 84 248 117]]\n"
     ]
    }
   ],
   "source": [
    "import numpy as np\n",
    " \n",
    "# input two matrices\n",
    "mat1 = [[1, 6, 5],\n",
    "        [3 ,4, 8],\n",
    "        [2, 12, 3]]\n",
    "\n",
    "mat2 = [[3, 4, 6],\n",
    "        [5, 6, 7],\n",
    "        [6,56, 7]]\n",
    " \n",
    "# This will return matrix product of two array\n",
    "res =np.array(mat1) @ np.array(mat2)\n",
    " \n",
    "# print resulted matrix\n",
    "print(res)"
   ]
  },
  {
   "cell_type": "markdown",
   "id": "e7e2aa56",
   "metadata": {},
   "source": [
    "3.\tWrite a Python Program to Transpose a Matrix?"
   ]
  },
  {
   "cell_type": "code",
   "execution_count": 8,
   "id": "87a3b3f7",
   "metadata": {},
   "outputs": [
    {
     "name": "stdout",
     "output_type": "stream",
     "text": [
      "[[ 1  3  2]\n",
      " [ 6  4 12]\n",
      " [ 5  8  3]]\n"
     ]
    }
   ],
   "source": [
    "import numpy as np\n",
    "mat1 = [[1, 6, 5],\n",
    "        [3 ,4, 8],\n",
    "        [2, 12, 3]]\n",
    "\n",
    "a=np.matrix(mat1)\n",
    "print(a.transpose())"
   ]
  },
  {
   "cell_type": "markdown",
   "id": "ef134540",
   "metadata": {},
   "source": [
    "4.\tWrite a Python Program to Sort Words in Alphabetic Order?"
   ]
  },
  {
   "cell_type": "code",
   "execution_count": 14,
   "id": "18af32b4",
   "metadata": {},
   "outputs": [
    {
     "name": "stdout",
     "output_type": "stream",
     "text": [
      "['a', 'day', 'good', 'is', 'live', 'to', 'today']\n"
     ]
    }
   ],
   "source": [
    "str=\"today is a good day to live\"\n",
    "words=str.split(' ')\n",
    "words.sort()\n",
    "print(words)"
   ]
  },
  {
   "cell_type": "markdown",
   "id": "95ce26d7",
   "metadata": {},
   "source": [
    "5.\tWrite a Python Program to Remove Punctuation From a String?"
   ]
  },
  {
   "cell_type": "code",
   "execution_count": 2,
   "id": "b27f721b",
   "metadata": {},
   "outputs": [
    {
     "name": "stdout",
     "output_type": "stream",
     "text": [
      " hi How are you     \n"
     ]
    }
   ],
   "source": [
    "import re\n",
    "\n",
    "test_string='!hi.How are you ?//?'\n",
    "new_string=re.sub(r'[^\\w\\s]',' ',test_string)\n",
    "\n",
    "print(new_string)\n",
    "\n"
   ]
  },
  {
   "cell_type": "code",
   "execution_count": null,
   "id": "402cb31d",
   "metadata": {},
   "outputs": [],
   "source": []
  }
 ],
 "metadata": {
  "kernelspec": {
   "display_name": "Python 3 (ipykernel)",
   "language": "python",
   "name": "python3"
  },
  "language_info": {
   "codemirror_mode": {
    "name": "ipython",
    "version": 3
   },
   "file_extension": ".py",
   "mimetype": "text/x-python",
   "name": "python",
   "nbconvert_exporter": "python",
   "pygments_lexer": "ipython3",
   "version": "3.9.12"
  }
 },
 "nbformat": 4,
 "nbformat_minor": 5
}
