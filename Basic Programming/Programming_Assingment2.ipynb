{
 "cells": [
  {
   "cell_type": "markdown",
   "metadata": {},
   "source": [
    "1.\tWrite a Python program to convert kilometers to miles?"
   ]
  },
  {
   "cell_type": "code",
   "execution_count": 1,
   "metadata": {},
   "outputs": [
    {
     "name": "stdout",
     "output_type": "stream",
     "text": [
      "Enter distance in kilometers : 5\n",
      "Distance in miles is :  3.1068499999999997\n"
     ]
    }
   ],
   "source": [
    "distance_in_km= float(input(\"Enter distance in kilometers : \"))\n",
    "distance_in_miles=distance_in_km * 0.62137\n",
    "print(\"Distance in miles is : \",distance_in_miles)"
   ]
  },
  {
   "cell_type": "markdown",
   "metadata": {},
   "source": [
    "2.\tWrite a Python program to convert Celsius to Fahrenheit?"
   ]
  },
  {
   "cell_type": "code",
   "execution_count": 2,
   "metadata": {},
   "outputs": [
    {
     "name": "stdout",
     "output_type": "stream",
     "text": [
      "Enter temperature  in Celsius : 30\n",
      "Temperature  in Fahrenheit :  86.0\n"
     ]
    }
   ],
   "source": [
    "temp_Celsius= float(input(\"Enter temperature  in Celsius : \"))\n",
    "temp_Fahrenheit=(temp_Celsius *(9/5))+32\n",
    "print(\"Temperature  in Fahrenheit : \",temp_Fahrenheit)"
   ]
  },
  {
   "cell_type": "markdown",
   "metadata": {},
   "source": [
    "3.\tWrite a Python program to display calendar?"
   ]
  },
  {
   "cell_type": "code",
   "execution_count": 3,
   "metadata": {},
   "outputs": [
    {
     "name": "stdout",
     "output_type": "stream",
     "text": [
      "Enter year: 2023\n",
      "Enter month: 1\n",
      "    January 2023\n",
      "Mo Tu We Th Fr Sa Su\n",
      "                   1\n",
      " 2  3  4  5  6  7  8\n",
      " 9 10 11 12 13 14 15\n",
      "16 17 18 19 20 21 22\n",
      "23 24 25 26 27 28 29\n",
      "30 31\n",
      "\n"
     ]
    }
   ],
   "source": [
    "\"\"\" Python program to display calendar \"\"\"\n",
    "import calendar  \n",
    "# Enter the month and year  \n",
    "yy = int(input(\"Enter year: \"))  \n",
    "mm = int(input(\"Enter month: \"))  \n",
    "  \n",
    "# display the calendar  \n",
    "print(calendar.month(yy,mm))  "
   ]
  },
  {
   "cell_type": "markdown",
   "metadata": {},
   "source": [
    "4.\tWrite a Python program to solve quadratic equation?"
   ]
  },
  {
   "cell_type": "code",
   "execution_count": 4,
   "metadata": {},
   "outputs": [
    {
     "name": "stdout",
     "output_type": "stream",
     "text": [
      "Quadratic equation is of form ax²+ax+b=0 eg x²+4x-21=0\n",
      "Enter coefficient a: 1\n",
      "Enter coefficient b: 4\n",
      "Enter coefficient c: -21\n",
      "Solution is x=  3.0 or x= -7.0\n"
     ]
    }
   ],
   "source": [
    "\"\"\"\n",
    "Python program to solve quadratic equation\n",
    "\n",
    "\"\"\"\n",
    "import math\n",
    "print(\"Quadratic equation is of form ax\"+'\\u00B2'+\"+ax+b=0 eg x\"+'\\u00B2'+\"+4x-21=0\")\n",
    "a=int(input(\"Enter coefficient a: \"))\n",
    "b=int(input(\"Enter coefficient b: \"))\n",
    "c=int(input(\"Enter coefficient c: \"))\n",
    "\n",
    "d=math.sqrt(b**2 - 4*a*c)\n",
    "\n",
    "sol1=(-b + d)/2*a\n",
    "sol2=(-b - d)/2*a\n",
    "\n",
    "print(\"Solution is x= \",sol1,\"or x=\",sol2)"
   ]
  },
  {
   "cell_type": "markdown",
   "metadata": {},
   "source": [
    "5.\tWrite a Python program to swap two variables without temp variable?"
   ]
  },
  {
   "cell_type": "code",
   "execution_count": 5,
   "metadata": {},
   "outputs": [
    {
     "name": "stdout",
     "output_type": "stream",
     "text": [
      "Before Swapping \n",
      "Value of n1 is : 67\n",
      "Value of n2 is : 78\n",
      "After Swapping \n",
      "Value of n1 is : 78\n",
      "Value of n2 is : 67\n"
     ]
    }
   ],
   "source": [
    "\"\"\"\n",
    "Python program to swap two variables\n",
    "\"\"\"\n",
    "n1 = 67\n",
    "n2 = 78\n",
    "print(\"Before Swapping \")\n",
    "print(f\"Value of n1 is : {n1}\")\n",
    "print(f\"Value of n2 is : {n2}\")\n",
    "\n",
    "# perfom swap\n",
    "n1,n2=n2,n1\n",
    "\n",
    "print(\"After Swapping \")\n",
    "print(f\"Value of n1 is : {n1}\")\n",
    "print(f\"Value of n2 is : {n2}\")\n"
   ]
  }
 ],
 "metadata": {
  "kernelspec": {
   "display_name": "Python 3 (ipykernel)",
   "language": "python",
   "name": "python3"
  },
  "language_info": {
   "codemirror_mode": {
    "name": "ipython",
    "version": 3
   },
   "file_extension": ".py",
   "mimetype": "text/x-python",
   "name": "python",
   "nbconvert_exporter": "python",
   "pygments_lexer": "ipython3",
   "version": "3.9.12"
  },
  "vscode": {
   "interpreter": {
    "hash": "0423af54bc6fd4aed7dceabb58b9e748550eb276805a936a8297c3cb9f6c97c4"
   }
  }
 },
 "nbformat": 4,
 "nbformat_minor": 2
}
