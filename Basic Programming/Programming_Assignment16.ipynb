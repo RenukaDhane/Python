{
 "cells": [
  {
   "cell_type": "markdown",
   "id": "ead314fa",
   "metadata": {},
   "source": [
    "Question1. \n",
    "Write a function that stutters a word as if someone is struggling to read it. The first two letters are repeated twice with an ellipsis ... and space after each, and then the word is pronounced with a question mark ?.\n",
    "Examples\n",
    "stutter(\"incredible\") ➞ \"in... in... incredible?\"\n",
    "\n",
    "stutter(\"enthusiastic\") ➞ \"en... en... enthusiastic?\"\n",
    "\n",
    "stutter(\"outstanding\") ➞ \"ou... ou... outstanding?\"\n",
    "\n",
    "Hint :- Assume all input is in lower case and at least two characters long.\n"
   ]
  },
  {
   "cell_type": "code",
   "execution_count": 1,
   "id": "a9d425db",
   "metadata": {},
   "outputs": [
    {
     "name": "stdout",
     "output_type": "stream",
     "text": [
      "Output:  in... in... incredible\n",
      "Output:  en... en... enthusiastic\n",
      "Output:  ou... ou... outstanding\n"
     ]
    }
   ],
   "source": [
    "def stutter(string):\n",
    "    pause=\"... \"\n",
    "    start_letters=string[:2]\n",
    "    output=start_letters+pause+start_letters+pause+string\n",
    "    print(\"Output: \",output)\n",
    "    \n",
    "stutter(\"incredible\")\n",
    "stutter(\"enthusiastic\") \n",
    "stutter(\"outstanding\") "
   ]
  },
  {
   "cell_type": "markdown",
   "id": "70e7cee7",
   "metadata": {},
   "source": [
    "Question 2.Create a function that takes an angle in radians and returns the corresponding angle in degrees rounded to one decimal place.\n",
    "Examples\n",
    "radians_to_degrees(1) ➞ 57.3\n",
    "\n",
    "radians_to_degrees(20) ➞ 1145.9\n",
    "\n",
    "radians_to_degrees(50) ➞ 2864.8\n"
   ]
  },
  {
   "cell_type": "code",
   "execution_count": null,
   "id": "8364e6d3",
   "metadata": {},
   "outputs": [],
   "source": [
    "import math\n",
    "\n",
    "def radians_to_degrees(radians):\n",
    "    degrees= round(radians*(180/math.pi),1)\n",
    "    print(str(radians)+\" radians is \",str(degrees),\" degrees\")\n",
    "    \n",
    "radians_to_degrees(1)\n",
    "radians_to_degrees(20)\n",
    "radians_to_degrees(50)"
   ]
  },
  {
   "cell_type": "raw",
   "id": "5292d169",
   "metadata": {},
   "source": [
    "Question 3. In this challenge, establish if a given integer num is a Curzon number. If 1 plus 2 elevated to num is exactly divisible by 1 plus 2 multiplied by num, then num is a Curzon number.\n",
    "Given a non-negative integer num, implement a function that returns True if num is a Curzon number, or False otherwise.\n",
    "Examples\n",
    "is_curzon(5) ➞ True\n",
    "# 2 ** 5 + 1 = 33\n",
    "# 2 * 5 + 1 = 11\n",
    "# 33 is a multiple of 11\n",
    "\n",
    "is_curzon(10) ➞ False\n",
    "# 2 ** 10 + 1 = 1025\n",
    "# 2 * 10 + 1 = 21\n",
    "# 1025 is not a multiple of 21\n",
    "\n",
    "is_curzon(14) ➞ True\n",
    "# 2 ** 14 + 1 = 16385\n",
    "# 2 * 14 + 1 = 29\n",
    "# 16385 is a multiple of 29\n"
   ]
  },
  {
   "cell_type": "code",
   "execution_count": 16,
   "id": "59285dc3",
   "metadata": {},
   "outputs": [
    {
     "name": "stdout",
     "output_type": "stream",
     "text": [
      "is_curzon(5)-> True\n",
      "is_curzon(10)-> False\n",
      "is_curzon(14)-> True\n"
     ]
    }
   ],
   "source": [
    "def is_curzon(num):\n",
    "    n1=2**num+1\n",
    "    n2=2*num+1\n",
    "    if n1%n2==0:\n",
    "        return True\n",
    "    return False\n",
    "\n",
    "\n",
    "print(\"is_curzon(5)->\",is_curzon(5))\n",
    "print(\"is_curzon(10)->\",is_curzon(10))\n",
    "print(\"is_curzon(14)->\",is_curzon(14) )"
   ]
  },
  {
   "cell_type": "code",
   "execution_count": null,
   "id": "7c0d7c96",
   "metadata": {},
   "outputs": [],
   "source": [
    "Question 4.Given the side length x find the area of a hexagon.\n",
    " \n",
    "Examples\n",
    "area_of_hexagon(1) ➞ 2.6\n",
    "\n",
    "area_of_hexagon(2) ➞ 10.4\n",
    "\n",
    "area_of_hexagon(3) ➞ 23.4\n"
   ]
  },
  {
   "cell_type": "code",
   "execution_count": 18,
   "id": "fda0192e",
   "metadata": {},
   "outputs": [
    {
     "name": "stdout",
     "output_type": "stream",
     "text": [
      "area_of_hexagon(1) 2.6\n",
      "area_of_hexagon(2) 10.4\n",
      "area_of_hexagon(3) 23.4\n"
     ]
    }
   ],
   "source": [
    "import math\n",
    "def area_of_hexagon(side):\n",
    "    area=round((3*math.sqrt(3)*side**2)/2,1)\n",
    "    return area\n",
    "    \n",
    "print(\"area_of_hexagon(1)->\",area_of_hexagon(1))\n",
    "print(\"area_of_hexagon(2)->\",area_of_hexagon(2))\n",
    "print(\"area_of_hexagon(3)->\",area_of_hexagon(3))\n",
    "    \n",
    "    \n",
    "    "
   ]
  },
  {
   "cell_type": "markdown",
   "id": "3ceff2df",
   "metadata": {},
   "source": [
    "Question 5. Create a function that returns a base-2 (binary) representation of a base-10 (decimal) string number. To convert is simple: ((2) means base-2 and (10) means base-10) 010101001(2) = 1 + 8 + 32 + 128.\n",
    "Going from right to left, the value of the most right bit is 1, now from that every bit to the left will be x2 the value, value of an 8 bit binary numbers are (256, 128, 64, 32, 16, 8, 4, 2, 1).\n",
    "Examples\n",
    "binary(1) ➞ \"1\"\n",
    "# 1*1 = 1\n",
    "\n",
    "binary(5) ➞ \"101\"\n",
    "# 1*1 + 1*4 = 5\n",
    "\n",
    "binary(10) ➞ \"1010\"\n",
    "# 1*2 + 1*8 = 10\n"
   ]
  },
  {
   "cell_type": "code",
   "execution_count": 42,
   "id": "ccb539d9",
   "metadata": {},
   "outputs": [
    {
     "name": "stdout",
     "output_type": "stream",
     "text": [
      "1 0 1 0 "
     ]
    }
   ],
   "source": [
    "def binary(n):\n",
    "    if(n>1):\n",
    "        binary(n//2)\n",
    "    print(n%2,end=' ')\n",
    "   \n",
    " \n",
    "\n",
    "    \n",
    "    \n",
    "binary(10)\n"
   ]
  },
  {
   "cell_type": "code",
   "execution_count": 43,
   "id": "ecf33e68",
   "metadata": {},
   "outputs": [
    {
     "name": "stdout",
     "output_type": "stream",
     "text": [
      "1 0 1 "
     ]
    }
   ],
   "source": [
    "binary(5)"
   ]
  },
  {
   "cell_type": "code",
   "execution_count": 44,
   "id": "6ee2724e",
   "metadata": {},
   "outputs": [
    {
     "name": "stdout",
     "output_type": "stream",
     "text": [
      "1 1 1 "
     ]
    }
   ],
   "source": [
    "binary(7)"
   ]
  },
  {
   "cell_type": "code",
   "execution_count": null,
   "id": "ae47f402",
   "metadata": {},
   "outputs": [],
   "source": []
  }
 ],
 "metadata": {
  "kernelspec": {
   "display_name": "Python 3 (ipykernel)",
   "language": "python",
   "name": "python3"
  },
  "language_info": {
   "codemirror_mode": {
    "name": "ipython",
    "version": 3
   },
   "file_extension": ".py",
   "mimetype": "text/x-python",
   "name": "python",
   "nbconvert_exporter": "python",
   "pygments_lexer": "ipython3",
   "version": "3.9.12"
  }
 },
 "nbformat": 4,
 "nbformat_minor": 5
}
