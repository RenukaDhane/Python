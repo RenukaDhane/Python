{
 "cells": [
  {
   "cell_type": "markdown",
   "id": "b513293f",
   "metadata": {},
   "source": [
    "1.\tWrite a Python program to find sum of elements in list?"
   ]
  },
  {
   "cell_type": "code",
   "execution_count": 2,
   "id": "6b89f00a",
   "metadata": {},
   "outputs": [
    {
     "name": "stdout",
     "output_type": "stream",
     "text": [
      "Sum of elements in list :  46\n"
     ]
    }
   ],
   "source": [
    "list_of_numbers=[5,4,6,7,8,2,9,4,1]\n",
    "print(\"Sum of elements in list : \" ,sum(list_of_numbers))"
   ]
  },
  {
   "cell_type": "markdown",
   "id": "4b0a7820",
   "metadata": {},
   "source": [
    "2.\tWrite a Python program to  Multiply all numbers in the list?"
   ]
  },
  {
   "cell_type": "code",
   "execution_count": 6,
   "id": "7c741dd8",
   "metadata": {},
   "outputs": [
    {
     "name": "stdout",
     "output_type": "stream",
     "text": [
      "Multiplication of elements in list :  6\n"
     ]
    }
   ],
   "source": [
    "import math\n",
    "list_of_numbers=[1,2,3]\n",
    "print(\"Multiplication of elements in list : \" ,math.prod(list_of_numbers))"
   ]
  },
  {
   "cell_type": "markdown",
   "id": "b2aa30c6",
   "metadata": {},
   "source": [
    "3.\tWrite a Python program to find smallest number in a list?"
   ]
  },
  {
   "cell_type": "code",
   "execution_count": 7,
   "id": "0ec248d0",
   "metadata": {},
   "outputs": [
    {
     "name": "stdout",
     "output_type": "stream",
     "text": [
      "Smallest number in list :  23\n"
     ]
    }
   ],
   "source": [
    "list_of_numbers=[89,34,56,78,90,23,67,80,444,145,169]\n",
    "print(\"Smallest number in list : \" ,min(list_of_numbers))"
   ]
  },
  {
   "cell_type": "markdown",
   "id": "062c4145",
   "metadata": {},
   "source": [
    "4.\tWrite a Python program to find largest number in a list?"
   ]
  },
  {
   "cell_type": "code",
   "execution_count": 8,
   "id": "2ac04136",
   "metadata": {},
   "outputs": [
    {
     "name": "stdout",
     "output_type": "stream",
     "text": [
      "Largest number in list :  444\n"
     ]
    }
   ],
   "source": [
    "list_of_numbers=[89,34,56,78,90,23,67,80,444,145,169]\n",
    "print(\"Largest number in list : \" ,max(list_of_numbers))"
   ]
  },
  {
   "cell_type": "markdown",
   "id": "036a45b7",
   "metadata": {},
   "source": [
    "5.\tWrite a Python program to find second largest number in a list?"
   ]
  },
  {
   "cell_type": "code",
   "execution_count": 10,
   "id": "987b4163",
   "metadata": {},
   "outputs": [
    {
     "name": "stdout",
     "output_type": "stream",
     "text": [
      "Second largest number in list :  169\n"
     ]
    }
   ],
   "source": [
    "list_of_numbers=[89,34,56,78,90,23,67,80,444,145,169]\n",
    "list_of_numbers.sort()\n",
    "\n",
    "print(\"Second largest number in list : \" ,list_of_numbers[-2])"
   ]
  },
  {
   "cell_type": "markdown",
   "id": "142ee5fd",
   "metadata": {},
   "source": [
    "6.\tWrite a Python program to find N largest elements from a list?"
   ]
  },
  {
   "cell_type": "code",
   "execution_count": 11,
   "id": "5d3b63eb",
   "metadata": {},
   "outputs": [
    {
     "data": {
      "text/plain": [
       "[444, 169, 145, 90]"
      ]
     },
     "execution_count": 11,
     "metadata": {},
     "output_type": "execute_result"
    }
   ],
   "source": [
    "def get_n_largest_elements(list,n):\n",
    "    list.sort(reverse=True)\n",
    "    return list[0:n] \n",
    "\n",
    "\n",
    "list_of_numbers=[89,34,56,78,90,23,67,80,444,145,169]\n",
    "get_n_largest_elements(list_of_numbers,n=4)   "
   ]
  },
  {
   "cell_type": "markdown",
   "id": "8f5f73ba",
   "metadata": {},
   "source": [
    "7.\tWrite a Python program to print even numbers in a list?"
   ]
  },
  {
   "cell_type": "code",
   "execution_count": 13,
   "id": "177f9762",
   "metadata": {},
   "outputs": [
    {
     "name": "stdout",
     "output_type": "stream",
     "text": [
      "list of even numbers from  list_of_numbers is :  [34, 56, 78, 90, 80, 444]\n"
     ]
    }
   ],
   "source": [
    "list_of_numbers=[89,34,56,78,90,23,67,80,444,145,169]\n",
    "\n",
    "print(\"list of even numbers from  list_of_numbers is : \",[n for n in list_of_numbers if n%2==0])"
   ]
  },
  {
   "cell_type": "markdown",
   "id": "06ef4ae1",
   "metadata": {},
   "source": [
    "8.\tWrite a Python program to print odd numbers in a List?"
   ]
  },
  {
   "cell_type": "code",
   "execution_count": 14,
   "id": "9644c859",
   "metadata": {},
   "outputs": [
    {
     "name": "stdout",
     "output_type": "stream",
     "text": [
      "list of odd numbers from  list_of_numbers is :  [89, 23, 67, 145, 169]\n"
     ]
    }
   ],
   "source": [
    "list_of_numbers=[89,34,56,78,90,23,67,80,444,145,169]\n",
    "\n",
    "print(\"list of odd numbers from  list_of_numbers is : \",[n for n in list_of_numbers if n%2!=0])"
   ]
  },
  {
   "cell_type": "markdown",
   "id": "8af1893f",
   "metadata": {},
   "source": [
    "9.\tWrite a Python program to Remove empty List from List?"
   ]
  },
  {
   "cell_type": "code",
   "execution_count": 16,
   "id": "80248889",
   "metadata": {},
   "outputs": [
    {
     "name": "stdout",
     "output_type": "stream",
     "text": [
      "list after removal of empty list :  [2, 6, 0, [1], 5, 56]\n"
     ]
    }
   ],
   "source": [
    "test_list=[2,[],6,[],0,[1],5,[],56]\n",
    "print(\"list after removal of empty list : \",[n for n in test_list if n!=[]])"
   ]
  },
  {
   "cell_type": "markdown",
   "id": "0e2101b9",
   "metadata": {},
   "source": [
    "10.\tWrite a Python program to Cloning or Copying a list?"
   ]
  },
  {
   "cell_type": "code",
   "execution_count": 17,
   "id": "cfbf17a8",
   "metadata": {},
   "outputs": [
    {
     "name": "stdout",
     "output_type": "stream",
     "text": [
      "ID of original list :  2128179388288\n",
      "ID of cloned list:  2130298792512\n"
     ]
    }
   ],
   "source": [
    "import copy\n",
    "original_list=[89,34,56,78,90,23,67,80,444,145,169]\n",
    "cloned_list=copy.deepcopy(original_list)\n",
    "print(\"ID of original list : \",id(original_list))\n",
    "print(\"ID of cloned list: \",id(cloned_list))\n"
   ]
  },
  {
   "cell_type": "markdown",
   "id": "b8daef69",
   "metadata": {},
   "source": [
    "11.\tWrite a Python program to Count occurrences of an element in a list?\n"
   ]
  },
  {
   "cell_type": "code",
   "execution_count": 21,
   "id": "7edcc438",
   "metadata": {},
   "outputs": [
    {
     "name": "stdout",
     "output_type": "stream",
     "text": [
      "Count of 3 in list is :  5\n"
     ]
    }
   ],
   "source": [
    "test_list= [89,34,56,78,90,23,67,80,444,145,169,3,3,3,3,3, 5,5,5]\n",
    "count_element=3\n",
    "print(\"Count of 3 in list is : \",len([x for x in test_list if x==count_element]))"
   ]
  },
  {
   "cell_type": "code",
   "execution_count": null,
   "id": "b7b2266b",
   "metadata": {},
   "outputs": [],
   "source": []
  }
 ],
 "metadata": {
  "kernelspec": {
   "display_name": "Python 3 (ipykernel)",
   "language": "python",
   "name": "python3"
  },
  "language_info": {
   "codemirror_mode": {
    "name": "ipython",
    "version": 3
   },
   "file_extension": ".py",
   "mimetype": "text/x-python",
   "name": "python",
   "nbconvert_exporter": "python",
   "pygments_lexer": "ipython3",
   "version": "3.9.12"
  }
 },
 "nbformat": 4,
 "nbformat_minor": 5
}
