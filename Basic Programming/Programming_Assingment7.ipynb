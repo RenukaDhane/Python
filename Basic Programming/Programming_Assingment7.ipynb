{
 "cells": [
  {
   "cell_type": "markdown",
   "id": "a67d48cd",
   "metadata": {},
   "source": [
    "1.\tWrite a Python Program to find sum of array?"
   ]
  },
  {
   "cell_type": "code",
   "execution_count": 1,
   "id": "7f862d35",
   "metadata": {},
   "outputs": [
    {
     "name": "stdout",
     "output_type": "stream",
     "text": [
      "Array is :  [1 2 3 4 5 6]\n",
      "Sum of elements in array is :  21\n"
     ]
    }
   ],
   "source": [
    "import numpy as np\n",
    "arr=np.array([1,2,3,4,5,6])\n",
    "print(\"Array is : \",arr)\n",
    "sum_of_elements=np.sum(arr)\n",
    "print(\"Sum of elements in array is : \",sum_of_elements)"
   ]
  },
  {
   "cell_type": "markdown",
   "id": "e7c46c4a",
   "metadata": {},
   "source": [
    "2.\tWrite a Python Program to find largest element in an array?"
   ]
  },
  {
   "cell_type": "code",
   "execution_count": 4,
   "id": "d9e8e5bd",
   "metadata": {},
   "outputs": [
    {
     "name": "stdout",
     "output_type": "stream",
     "text": [
      "Array is :  [1 2 3 4 5 6]\n",
      "Largest element in the array is : 6\n"
     ]
    }
   ],
   "source": [
    "import numpy as np\n",
    "arr=np.array([1,2,3,4,5,6])\n",
    "largest_element=np.max(arr)\n",
    "print(\"Array is : \",arr)\n",
    "print(\"Largest element in the array is :\",largest_element)\n"
   ]
  },
  {
   "cell_type": "markdown",
   "id": "a712abd9",
   "metadata": {},
   "source": [
    "3.\tWrite a Python Program for array rotation?"
   ]
  },
  {
   "cell_type": "code",
   "execution_count": 6,
   "id": "c49d5851",
   "metadata": {},
   "outputs": [
    {
     "name": "stdout",
     "output_type": "stream",
     "text": [
      "Array before rotation: \n",
      " [[ 0  1  2  3]\n",
      " [ 4  5  6  7]\n",
      " [ 8  9 10 11]]\n",
      "Array after rotation: \n",
      " [[ 3  7 11]\n",
      " [ 2  6 10]\n",
      " [ 1  5  9]\n",
      " [ 0  4  8]]\n"
     ]
    }
   ],
   "source": [
    "import numpy as np\n",
    "array=np.arange(12).reshape(3,4)\n",
    "print(\"Array before rotation: \\n\",array)\n",
    "print(\"Array after rotation: \\n\",np.rot90(array))"
   ]
  },
  {
   "cell_type": "markdown",
   "id": "818bcb6f",
   "metadata": {},
   "source": [
    "4.\tWrite a Python Program to Split the array and add the first part to the end?"
   ]
  },
  {
   "cell_type": "code",
   "execution_count": 10,
   "id": "fc1c5428",
   "metadata": {},
   "outputs": [
    {
     "name": "stdout",
     "output_type": "stream",
     "text": [
      "Original array :  [1 2 3 4 5 6]\n",
      "list of split array :  [array([1, 2, 3]), array([4, 5, 6])]\n",
      "New array after adding first part to the end :  [4 5 6 1 2 3]\n"
     ]
    }
   ],
   "source": [
    "import numpy as np\n",
    "arr=np.array([1,2,3,4,5,6])\n",
    "list_array=np.array_split(arr,2)\n",
    "\n",
    "print(\"Original array : \",arr)\n",
    "print(\"list of split array : \",list_array)\n",
    "first_part=list_array[0]\n",
    "end_part=list_array[1]\n",
    "print(\"New array after adding first part to the end : \",np.append(end_part,first_part))\n"
   ]
  },
  {
   "cell_type": "markdown",
   "id": "0c52f689",
   "metadata": {},
   "source": [
    "5.\tWrite a Python Program to check if given array is Monotonic?"
   ]
  },
  {
   "cell_type": "code",
   "execution_count": 16,
   "id": "daca2235",
   "metadata": {},
   "outputs": [
    {
     "name": "stdout",
     "output_type": "stream",
     "text": [
      "Given Array is monotonic\n"
     ]
    }
   ],
   "source": [
    "\"\"\"An array is said to be monotonic in nature if it is either continuously increasing or continuously decreasing.\"\"\"\n",
    "\n",
    "def check_monotonic_array(array):\n",
    "    if (all( array[i] < array[i+1] for i in range(len(array)-1))) or (all( array[i] > array[i+1] for i in range(len(array)-1))):\n",
    "        print(\"Given Array is monotonic\")\n",
    "        \n",
    "    else:\n",
    "        print(\"Given Array is not monotonic\")\n",
    "\n",
    "    \n",
    "array=np.array([8,5,3,2,1])        \n",
    "check_monotonic_array(array)   \n",
    "    "
   ]
  }
 ],
 "metadata": {
  "kernelspec": {
   "display_name": "Python 3 (ipykernel)",
   "language": "python",
   "name": "python3"
  },
  "language_info": {
   "codemirror_mode": {
    "name": "ipython",
    "version": 3
   },
   "file_extension": ".py",
   "mimetype": "text/x-python",
   "name": "python",
   "nbconvert_exporter": "python",
   "pygments_lexer": "ipython3",
   "version": "3.9.12"
  }
 },
 "nbformat": 4,
 "nbformat_minor": 5
}
