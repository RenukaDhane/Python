{
 "cells": [
  {
   "cell_type": "markdown",
   "id": "bd6e9b26",
   "metadata": {},
   "source": [
    "1.\tWrite a Python Program to Find LCM?\n"
   ]
  },
  {
   "cell_type": "code",
   "execution_count": 7,
   "id": "8f90143e",
   "metadata": {},
   "outputs": [
    {
     "name": "stdout",
     "output_type": "stream",
     "text": [
      "LCM of  4  and  12  is  12\n"
     ]
    }
   ],
   "source": [
    "def LCM(n1,n2):\n",
    "    if(n1==0 or n2==0):\n",
    "        multiple= 0\n",
    "        \n",
    "    else:\n",
    "        multiple=1\n",
    "        while(True):\n",
    "            if(multiple%n1==0 and multiple%n2==0):\n",
    "                break\n",
    "            multiple=multiple+1\n",
    "    \n",
    "    print(\"LCM of \",n1,\" and \",n2,\" is \",multiple)\n",
    "    \n",
    "    \n",
    "LCM(4,12)"
   ]
  },
  {
   "cell_type": "markdown",
   "id": "dc535593",
   "metadata": {},
   "source": [
    "2.\tWrite a Python Program to Find HCF?"
   ]
  },
  {
   "cell_type": "code",
   "execution_count": 17,
   "id": "f711554c",
   "metadata": {},
   "outputs": [
    {
     "name": "stdout",
     "output_type": "stream",
     "text": [
      "HCF of  24  and  64 is  8\n"
     ]
    }
   ],
   "source": [
    "def get_factors(n):\n",
    "    temp=1\n",
    "    list_factors=[1]\n",
    "    while(temp<=n):\n",
    "        if(n%temp==0):\n",
    "            list_factors.append(temp)\n",
    "        temp=temp+1\n",
    "    return list_factors\n",
    "\n",
    "def HCF(n1,n2):\n",
    "    if(n1==0 and n2==0):\n",
    "        hcf=\"undefined\"\n",
    "        \n",
    "    elif(n1==0):\n",
    "        hcf=n2\n",
    "        \n",
    "    elif(n2==0):\n",
    "        hcf=n1\n",
    "    else:\n",
    "        n1_factors=set(get_factors(n1))\n",
    "        n2_factors=set(get_factors(n2))\n",
    "        intersection= n1_factors & n2_factors\n",
    "        hcf=max(intersection)\n",
    "    \n",
    "    print(\"HCF of \",n1,\" and \",n2,\"is \",hcf)\n",
    "    \n",
    "    \n",
    "HCF(24,64)    "
   ]
  },
  {
   "cell_type": "markdown",
   "id": "4a0ab2f0",
   "metadata": {},
   "source": [
    "3.\tWrite a Python Program to Convert Decimal to Binary, Octal and Hexadecimal?"
   ]
  },
  {
   "cell_type": "code",
   "execution_count": 18,
   "id": "e07faca7",
   "metadata": {},
   "outputs": [
    {
     "name": "stdout",
     "output_type": "stream",
     "text": [
      "Enter a number in  decimal system :4\n",
      "Decimal to Binary conversion  is : 0b100\n",
      "Decimal to Octal conversion  is : 0o4\n",
      "Decimal to Hexadecimal conversion  is : 0x4\n"
     ]
    }
   ],
   "source": [
    "decimal= int(input(\"Enter a number in  decimal system :\"))\n",
    "print(\"Decimal to Binary conversion  is :\",bin(decimal))\n",
    "print(\"Decimal to Octal conversion  is :\",oct(decimal))\n",
    "print(\"Decimal to Hexadecimal conversion  is :\",hex(decimal))"
   ]
  },
  {
   "cell_type": "markdown",
   "id": "9f43803f",
   "metadata": {},
   "source": [
    "4.\tWrite a Python Program To Find ASCII value of a character?"
   ]
  },
  {
   "cell_type": "code",
   "execution_count": 21,
   "id": "a169957f",
   "metadata": {},
   "outputs": [
    {
     "name": "stdout",
     "output_type": "stream",
     "text": [
      "Enter a character: b\n",
      "The ASCII value of 'b' is 98\n"
     ]
    }
   ],
   "source": [
    "character=''\n",
    "while(len(character)!=1):\n",
    "    character=input(\"Enter a character: \")\n",
    "\n",
    "print(\"The ASCII value of '\" + character + \"' is\", ord(character))"
   ]
  },
  {
   "cell_type": "markdown",
   "id": "79edc5a6",
   "metadata": {},
   "source": [
    "5.\tWrite a Python Program to Make a Simple Calculator with 4 basic mathematical operations?"
   ]
  },
  {
   "cell_type": "code",
   "execution_count": 27,
   "id": "2340bb0f",
   "metadata": {},
   "outputs": [],
   "source": [
    "# This function adds two numbers\n",
    "def add(x, y):\n",
    "    return x + y\n",
    "\n",
    "# This function subtracts two numbers\n",
    "def subtract(x, y):\n",
    "    return x - y\n",
    "\n",
    "# This function multiplies two numbers\n",
    "def multiply(x, y):\n",
    "    return x * y\n",
    "\n",
    "# This function divides two numbers\n",
    "def divide(x, y):\n",
    "    if y==0:\n",
    "        return \"undefined\"\n",
    "    \n",
    "    return x / y\n",
    "\n",
    "\n",
    "def calculator():\n",
    "    while(True):\n",
    "        print(\"Menu\")\n",
    "        print(\"a.Add\")\n",
    "        print(\"b.Subtract\")\n",
    "        print(\"c.Multiply\")\n",
    "        print(\"d.Divide\")\n",
    "        print(\"e.Exit\")\n",
    "        \n",
    "        choice=input(\"Please select option from above Menu(a/b/c/d/e) :\")\n",
    "        if choice=='e':\n",
    "            break\n",
    "                \n",
    "        if choice in ['a','b','c','d']:\n",
    "            n1=float(input(\"Enter first number : \"))\n",
    "            n2=float(input(\"Enter second number : \"))\n",
    "                \n",
    "            if choice=='a':\n",
    "                print(\"Addition of \",n1,\" and \",n2,\" is \",add(n1,n2))\n",
    "                \n",
    "            if choice=='b':\n",
    "                print(\"Subtraction of \",n1,\" and \",n2,\" is \",subtract(n1,n2))\n",
    "                \n",
    "            if choice=='c':\n",
    "                print(\"Multiplication of \",n1,\" and \",n2,\" is \",multiply(n1,n2))\n",
    "                \n",
    "            if choice=='d':\n",
    "                print(\"Division of \",n1,\" and \",n2,\" is \",divide(n1,n2))\n",
    "            \n",
    "        else:\n",
    "            print(\"Invalid option is selected.Please enter valid option\")\n",
    "    \n",
    "        new_choice=input(\"Do you want to continue using calculator(y/n): \")\n",
    "                      \n",
    "        if (new_choice=='n'):\n",
    "            break\n",
    "                     "
   ]
  },
  {
   "cell_type": "code",
   "execution_count": 28,
   "id": "7d44e11f",
   "metadata": {},
   "outputs": [
    {
     "name": "stdout",
     "output_type": "stream",
     "text": [
      "Menu\n",
      "a.Add\n",
      "b.Subtract\n",
      "c.Multiply\n",
      "d.Divide\n",
      "e.Exit\n",
      "Please select option from above Menu(a/b/c/d/e) :d\n",
      "Enter first number : 5\n",
      "Enter second number : 0\n",
      "Division of  5.0  and  0.0  is  undefined\n",
      "Do you want to continue using calculator(y/n): y\n",
      "Menu\n",
      "a.Add\n",
      "b.Subtract\n",
      "c.Multiply\n",
      "d.Divide\n",
      "e.Exit\n",
      "Please select option from above Menu(a/b/c/d/e) :4\n",
      "Invalid option is selected.Please enter valid option\n",
      "Do you want to continue using calculator(y/n): y\n",
      "Menu\n",
      "a.Add\n",
      "b.Subtract\n",
      "c.Multiply\n",
      "d.Divide\n",
      "e.Exit\n",
      "Please select option from above Menu(a/b/c/d/e) :d\n",
      "Enter first number : 0\n",
      "Enter second number : 8\n",
      "Division of  0.0  and  8.0  is  0.0\n",
      "Do you want to continue using calculator(y/n): y\n",
      "Menu\n",
      "a.Add\n",
      "b.Subtract\n",
      "c.Multiply\n",
      "d.Divide\n",
      "e.Exit\n",
      "Please select option from above Menu(a/b/c/d/e) :a\n",
      "Enter first number : 4\n",
      "Enter second number : 5\n",
      "Addition of  4.0  and  5.0  is  9.0\n",
      "Do you want to continue using calculator(y/n): y\n",
      "Menu\n",
      "a.Add\n",
      "b.Subtract\n",
      "c.Multiply\n",
      "d.Divide\n",
      "e.Exit\n",
      "Please select option from above Menu(a/b/c/d/e) :b\n",
      "Enter first number : 7\n",
      "Enter second number : 3\n",
      "Subtraction of  7.0  and  3.0  is  4.0\n",
      "Do you want to continue using calculator(y/n): y\n",
      "Menu\n",
      "a.Add\n",
      "b.Subtract\n",
      "c.Multiply\n",
      "d.Divide\n",
      "e.Exit\n",
      "Please select option from above Menu(a/b/c/d/e) :c\n",
      "Enter first number : 5\n",
      "Enter second number : 9\n",
      "Multiplication of  5.0  and  9.0  is  45.0\n",
      "Do you want to continue using calculator(y/n): y\n",
      "Menu\n",
      "a.Add\n",
      "b.Subtract\n",
      "c.Multiply\n",
      "d.Divide\n",
      "e.Exit\n",
      "Please select option from above Menu(a/b/c/d/e) :e\n"
     ]
    }
   ],
   "source": [
    "calculator()"
   ]
  },
  {
   "cell_type": "code",
   "execution_count": null,
   "id": "0bf3df48",
   "metadata": {},
   "outputs": [],
   "source": []
  }
 ],
 "metadata": {
  "kernelspec": {
   "display_name": "Python 3 (ipykernel)",
   "language": "python",
   "name": "python3"
  },
  "language_info": {
   "codemirror_mode": {
    "name": "ipython",
    "version": 3
   },
   "file_extension": ".py",
   "mimetype": "text/x-python",
   "name": "python",
   "nbconvert_exporter": "python",
   "pygments_lexer": "ipython3",
   "version": "3.9.12"
  }
 },
 "nbformat": 4,
 "nbformat_minor": 5
}
