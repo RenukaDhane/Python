{
 "cells": [
  {
   "cell_type": "code",
   "execution_count": null,
   "id": "9f15a5b1",
   "metadata": {},
   "outputs": [],
   "source": [
    "Question 1:\n",
    "\n",
    "Write a program that calculates and prints the value according to the given formula:\n",
    "\n",
    "Q = Square root of [(2 * C * D)/H]\n",
    "\n",
    "Following are the fixed values of C and H:\n",
    "\n",
    "C is 50. H is 30.\n",
    "\n",
    "D is the variable whose values should be input to your program in a comma-separated sequence.\n",
    "\n",
    "Example\n",
    "\n",
    "Let us assume the following comma separated input sequence is given to the program:\n",
    "\n",
    "100,150,180\n",
    "\n",
    "The output of the program should be:\n",
    "\n",
    "18,22,24\n"
   ]
  },
  {
   "cell_type": "code",
   "execution_count": 42,
   "id": "9f1bc8af",
   "metadata": {},
   "outputs": [
    {
     "name": "stdout",
     "output_type": "stream",
     "text": [
      "Given input :  (100, 150, 180)\n",
      "Calculated output :  (18, 22, 24)\n"
     ]
    }
   ],
   "source": [
    "import numpy as np\n",
    "#define program1\n",
    "def program1(*D):\n",
    "    \n",
    "    #fixed values\n",
    "    C=50;H=30 \n",
    "    \n",
    "    #calculate Q\n",
    "    Q=tuple(int(np.round(np.sqrt((2*C*d)/H))) for d in D)\n",
    "   \n",
    "    \n",
    "    #print input and output\n",
    "    print(\"Given input : \",D)\n",
    "    print(\"Calculated output : \",Q)\n",
    "    \n",
    "    \n",
    "if __name__==\"__main__\":\n",
    "    program1(100,150,180)"
   ]
  },
  {
   "cell_type": "code",
   "execution_count": null,
   "id": "ece84530",
   "metadata": {},
   "outputs": [],
   "source": [
    "Question 2:\n",
    "Write a program which takes 2 digits, X,Y as input and generates a 2-dimensional array. The element value in the i-th row and j-th column of the array should be i*j.\n",
    "\n",
    "Note: i=0,1.., X-1; j=0,1,¡¬Y-1.\n",
    "\n",
    "Example\n",
    "\n",
    "Suppose the following inputs are given to the program:\n",
    "\n",
    "3,5\n",
    "\n",
    "Then, the output of the program should be:\n",
    "\n",
    "[[0, 0, 0, 0, 0], [0, 1, 2, 3, 4], [0, 2, 4, 6, 8]] \n"
   ]
  },
  {
   "cell_type": "code",
   "execution_count": 33,
   "id": "c56c41a3",
   "metadata": {},
   "outputs": [
    {
     "name": "stdout",
     "output_type": "stream",
     "text": [
      "[[0 0 0 0 0]\n",
      " [0 1 2 3 4]\n",
      " [0 2 4 6 8]]\n"
     ]
    }
   ],
   "source": [
    "def program2(X,Y):\n",
    "    array=np.empty((X,Y),dtype=int)\n",
    "    for i in range(X):\n",
    "        for j in range(Y):\n",
    "            array[i][j]=i*j\n",
    "             \n",
    "    print(array)\n",
    "\n",
    "    \n",
    "if __name__==\"__main__\":\n",
    "    program2(3,5)"
   ]
  },
  {
   "cell_type": "code",
   "execution_count": null,
   "id": "a2a0b493",
   "metadata": {},
   "outputs": [],
   "source": [
    "Question 3:\n",
    "Write a program that accepts a comma separated sequence of words as input and prints the words in a comma-separated sequence after sorting them alphabetically.\n",
    "\n",
    "Suppose the following input is supplied to the program:\n",
    "\n",
    "without,hello,bag,world\n",
    "\n",
    "Then, the output should be:\n",
    "\n",
    "bag,hello,without,world\n"
   ]
  },
  {
   "cell_type": "code",
   "execution_count": 43,
   "id": "b1dbfb27",
   "metadata": {},
   "outputs": [
    {
     "name": "stdout",
     "output_type": "stream",
     "text": [
      "bag,hello,without,world\n"
     ]
    }
   ],
   "source": [
    "def program3(*words):\n",
    "    list_words=[*words]\n",
    "    list_words.sort()\n",
    "    print(\",\".join(list_words))\n",
    "\n",
    "if __name__==\"__main__\": \n",
    "    program3('without','hello','bag','world')"
   ]
  },
  {
   "cell_type": "code",
   "execution_count": null,
   "id": "5e6351b0",
   "metadata": {},
   "outputs": [],
   "source": [
    "Question 4:\n",
    "Write a program that accepts a sequence of whitespace separated words as input and prints the words after removing all duplicate words and sorting them alphanumerically.\n",
    "\n",
    "Suppose the following input is supplied to the program:\n",
    "\n",
    "hello world and practice makes perfect and hello world again\n",
    "\n",
    "Then, the output should be:\n",
    "\n",
    "again and hello makes perfect practice world\n"
   ]
  },
  {
   "cell_type": "code",
   "execution_count": 46,
   "id": "94d83971",
   "metadata": {},
   "outputs": [
    {
     "name": "stdout",
     "output_type": "stream",
     "text": [
      "again and hello makes perfect practice world\n"
     ]
    }
   ],
   "source": [
    "def program4(string):\n",
    "    words=string.split(' ')\n",
    "    unique_words=set(words)   #removes duplicates\n",
    "    sorted_words=sorted(unique_words) #sorts words in alphebetical order\n",
    "    print(\" \".join(sorted_words))    #print final result\n",
    "    \n",
    "    \n",
    "if __name__==\"__main__\": \n",
    "    program4('hello world and practice makes perfect and hello world again')\n",
    "    "
   ]
  },
  {
   "cell_type": "code",
   "execution_count": null,
   "id": "1f727a20",
   "metadata": {},
   "outputs": [],
   "source": [
    "Question 5:\n",
    "Write a program that accepts a sentence and calculate the number of letters and digits.\n",
    "\n",
    "Suppose the following input is supplied to the program:\n",
    "\n",
    "hello world! 123\n",
    "\n",
    "Then, the output should be:\n",
    "\n",
    "LETTERS 10\n",
    "\n",
    "DIGITS 3\n"
   ]
  },
  {
   "cell_type": "code",
   "execution_count": 52,
   "id": "0601425f",
   "metadata": {},
   "outputs": [
    {
     "name": "stdout",
     "output_type": "stream",
     "text": [
      "LETTERS  10\n",
      "DIGITS  3\n"
     ]
    }
   ],
   "source": [
    "import re\n",
    "\n",
    "def program5(sentence):\n",
    "    number_of_letters=0\n",
    "    number_of_digits=0\n",
    "    \n",
    "    #using regular expressions  for digits and letters\n",
    "    digits=re.compile(r'[0-9]')\n",
    "    letters=re.compile(r'[a-zA-Z]')\n",
    "    \n",
    "    digits_list=digits.findall(sentence)\n",
    "    letters_list=letters.findall(sentence)\n",
    "    \n",
    "    #print the count\n",
    "    print(\"LETTERS \",len(letters_list) )  \n",
    "    print(\"DIGITS \",len(digits_list))\n",
    "    \n",
    "    \n",
    "if __name__==\"__main__\": \n",
    "    program5('hello world! 123')\n",
    "    \n",
    "    "
   ]
  },
  {
   "cell_type": "code",
   "execution_count": null,
   "id": "a3618e02",
   "metadata": {},
   "outputs": [],
   "source": [
    "Question 6:\n",
    "A website requires the users to input username and password to register. Write a program to check the validity of password input by users.\n",
    "\n",
    "Following are the criteria for checking the password:\n",
    "\n",
    "1. At least 1 letter between [a-z]\n",
    "\n",
    "2. At least 1 number between [0-9]\n",
    "\n",
    "1. At least 1 letter between [A-Z]\n",
    "\n",
    "3. At least 1 character from [$#@]\n",
    "\n",
    "4. Minimum length of transaction password: 6\n",
    "\n",
    "5. Maximum length of transaction password: 12\n",
    "\n",
    "Your program should accept a sequence of comma separated passwords and will check them according to the above criteria. Passwords that match the criteria are to be printed, each separated by a comma.\n",
    "\n",
    "Example\n",
    "\n",
    "If the following passwords are given as input to the program:\n",
    "\n",
    "ABd1234@1,a F1#,2w3E*,2We3345\n",
    "\n",
    "Then, the output of the program should be:\n",
    "\n",
    "ABd1234@1\n"
   ]
  },
  {
   "cell_type": "code",
   "execution_count": 33,
   "id": "3f1011e3",
   "metadata": {},
   "outputs": [
    {
     "name": "stdout",
     "output_type": "stream",
     "text": [
      "Valid\n"
     ]
    }
   ],
   "source": [
    "import re \n",
    "regex = r\"^(?=.*?[A-Z])(?=.*?[a-z])(?=.*?[0-9])(?=.*?[$#@]).{6,12}$\"\n",
    "pwd='ABd1234@1'\n",
    "if re.fullmatch(regex,pwd):\n",
    "    print(\"Valid\")\n",
    "else:\n",
    "    print(\"Invalid\")"
   ]
  },
  {
   "cell_type": "code",
   "execution_count": 43,
   "id": "1c64c696",
   "metadata": {},
   "outputs": [
    {
     "name": "stdout",
     "output_type": "stream",
     "text": [
      "Below are valid passwords: \n",
      "ABd1234@1\n"
     ]
    }
   ],
   "source": [
    "import re \n",
    "\n",
    "def check_password(passwords):\n",
    "    \n",
    "    regex = r\"^(?=.*?[A-Z])(?=.*?[a-z])(?=.*?[0-9])(?=.*?[$#@]).{6,12}$\"\n",
    "    list_pwd=passwords.split(',')\n",
    "    valid_passwords=[]\n",
    "    for pwd in list_pwd:\n",
    "        if re.fullmatch(regex,pwd):\n",
    "            valid_passwords.append(pwd)\n",
    "            \n",
    "    print(\"Below are valid passwords: \")\n",
    "    for pwd in valid_passwords:\n",
    "        print(pwd)\n",
    "\n",
    "\n",
    "\n",
    "passwords=r'ABd1234@1,a F1#,2w3E*,2We3345'\n",
    "check_password(passwords)"
   ]
  },
  {
   "cell_type": "code",
   "execution_count": null,
   "id": "8689d83d",
   "metadata": {},
   "outputs": [],
   "source": []
  }
 ],
 "metadata": {
  "kernelspec": {
   "display_name": "Python 3 (ipykernel)",
   "language": "python",
   "name": "python3"
  },
  "language_info": {
   "codemirror_mode": {
    "name": "ipython",
    "version": 3
   },
   "file_extension": ".py",
   "mimetype": "text/x-python",
   "name": "python",
   "nbconvert_exporter": "python",
   "pygments_lexer": "ipython3",
   "version": "3.9.12"
  }
 },
 "nbformat": 4,
 "nbformat_minor": 5
}
