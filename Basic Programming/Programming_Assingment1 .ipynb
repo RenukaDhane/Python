{
 "cells": [
  {
   "cell_type": "markdown",
   "id": "3c369f80",
   "metadata": {},
   "source": [
    "1. Write a Python program to print \"Hello Python\"?"
   ]
  },
  {
   "cell_type": "code",
   "execution_count": 1,
   "id": "58e37570",
   "metadata": {},
   "outputs": [
    {
     "name": "stdout",
     "output_type": "stream",
     "text": [
      "Hello Python\n"
     ]
    }
   ],
   "source": [
    "def printMessage():\n",
    "    print(\"Hello Python\")\n",
    "    \n",
    "printMessage()"
   ]
  },
  {
   "cell_type": "markdown",
   "id": "2dab9ef5",
   "metadata": {},
   "source": [
    "2. Write a Python program to do arithmetical operations addition and division.?"
   ]
  },
  {
   "cell_type": "code",
   "execution_count": 2,
   "id": "5e58b23d",
   "metadata": {},
   "outputs": [
    {
     "name": "stdout",
     "output_type": "stream",
     "text": [
      "Enter first integer: \n",
      "4\n",
      "Enter second integer: \n",
      "5\n",
      "Addition of 4 and 5 is: 9\n",
      "Divion of 4 and 5 is: 0.8\n"
     ]
    }
   ],
   "source": [
    "def arithmeticOperations() :\n",
    "    \"\"\"Function to perform arithmetical operations addition and division\n",
    "    \"\"\"\n",
    "    try:\n",
    "        print(\"Enter first integer: \")\n",
    "        a=int(input())\n",
    "        print(\"Enter second integer: \")\n",
    "        b=int(input())\n",
    "    \n",
    "        print(f'Addition of {a} and {b} is: {a+b}')\n",
    "        print(f'Divion of {a} and {b} is: {a/b}')\n",
    "    \n",
    "    except ZeroDivisionError:\n",
    "        print(\"Division failed.Please make sure the second integer is not zero\")\n",
    "    \n",
    "        \n",
    "arithmeticOperations()"
   ]
  },
  {
   "cell_type": "markdown",
   "id": "d15dc050",
   "metadata": {},
   "source": [
    "3. Write a Python program to find the area of a triangle?"
   ]
  },
  {
   "cell_type": "code",
   "execution_count": 3,
   "id": "f4ad2784",
   "metadata": {},
   "outputs": [
    {
     "name": "stdout",
     "output_type": "stream",
     "text": [
      "Enter value for base of the triangle: \n",
      "4\n",
      "Enter value for height of the triangle: \n",
      "2\n",
      "Area of triangle with base 4.0 and height 2.0 is 4.0\n"
     ]
    }
   ],
   "source": [
    "def calculateAreaOfTriangle():\n",
    "     \"\"\"This function calculates the area of triangle\n",
    "        given the base and height of the triangle\n",
    "     \"\"\"\n",
    "     print(\"Enter value for base of the triangle: \")\n",
    "     b=float(input())\n",
    "     print(\"Enter value for height of the triangle: \")\n",
    "     h=float(input())\n",
    "     print(f\"Area of triangle with base {b} and height {h} is {(b*h)/2}\")\n",
    "    \n",
    "calculateAreaOfTriangle()    "
   ]
  },
  {
   "cell_type": "markdown",
   "id": "8e1f08bf",
   "metadata": {},
   "source": [
    "4. Write a Python program to swap two variables?"
   ]
  },
  {
   "cell_type": "code",
   "execution_count": 4,
   "id": "4d82f260",
   "metadata": {},
   "outputs": [
    {
     "name": "stdout",
     "output_type": "stream",
     "text": [
      "Before Swapping \n",
      "Value of n1 is : 67\n",
      "Value of n2 is : 78\n",
      "After Swapping \n",
      "Value of n1 is : 78\n",
      "Value of n2 is : 67\n"
     ]
    }
   ],
   "source": [
    "\"\"\"\n",
    "Python program to swap two variables\n",
    "\"\"\"\n",
    "n1 = 67\n",
    "n2 = 78\n",
    "print(\"Before Swapping \")\n",
    "print(f\"Value of n1 is : {n1}\")\n",
    "print(f\"Value of n2 is : {n2}\")\n",
    "\n",
    "# perfom swap\n",
    "n1,n2=n2,n1\n",
    "\n",
    "print(\"After Swapping \")\n",
    "print(f\"Value of n1 is : {n1}\")\n",
    "print(f\"Value of n2 is : {n2}\")\n"
   ]
  },
  {
   "cell_type": "markdown",
   "id": "09b79bc1",
   "metadata": {},
   "source": [
    "5. Write a Python program to generate a random number?"
   ]
  },
  {
   "cell_type": "code",
   "execution_count": 5,
   "id": "a7e6370d",
   "metadata": {},
   "outputs": [
    {
     "name": "stdout",
     "output_type": "stream",
     "text": [
      "Randon number is : 0.08537115869922152\n"
     ]
    }
   ],
   "source": [
    "\"\"\" Pragram to print random number\"\"\"\n",
    "import random\n",
    "random_number = random.random()\n",
    "print(f\"Randon number is : {random_number}\")"
   ]
  }
 ],
 "metadata": {
  "kernelspec": {
   "display_name": "Python 3 (ipykernel)",
   "language": "python",
   "name": "python3"
  },
  "language_info": {
   "codemirror_mode": {
    "name": "ipython",
    "version": 3
   },
   "file_extension": ".py",
   "mimetype": "text/x-python",
   "name": "python",
   "nbconvert_exporter": "python",
   "pygments_lexer": "ipython3",
   "version": "3.9.12"
  },
  "vscode": {
   "interpreter": {
    "hash": "0423af54bc6fd4aed7dceabb58b9e748550eb276805a936a8297c3cb9f6c97c4"
   }
  }
 },
 "nbformat": 4,
 "nbformat_minor": 5
}
