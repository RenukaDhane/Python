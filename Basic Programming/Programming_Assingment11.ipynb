{
 "cells": [
  {
   "cell_type": "markdown",
   "id": "04c2bde1",
   "metadata": {},
   "source": [
    "1.\tWrite a Python program to find words which are greater than given length k?"
   ]
  },
  {
   "cell_type": "code",
   "execution_count": 37,
   "id": "5460abce",
   "metadata": {},
   "outputs": [
    {
     "name": "stdout",
     "output_type": "stream",
     "text": [
      "Words having length greater than  5  are :  ['through', 'second', 'number', 'school']\n"
     ]
    }
   ],
   "source": [
    "def words_greater_than_k( words,k):\n",
    "    result=[]\n",
    "    for word in words:\n",
    "        if len(word)>k:\n",
    "            result.append(word)\n",
    "    \n",
    "    print(\"Words having length greater than \",k,\" are : \",result)\n",
    "    \n",
    "\n",
    "words=['through', 'give', 'open','second','study', 'write','black', 'number', 'sea', 'air' ,'school', 'below']\n",
    "words_greater_than_k(words,5) #Function call\n"
   ]
  },
  {
   "cell_type": "markdown",
   "id": "cb66aaaa",
   "metadata": {},
   "source": [
    "2.\tWrite a Python program for removing i-th character from a string?"
   ]
  },
  {
   "cell_type": "code",
   "execution_count": 36,
   "id": "cd4a4fba",
   "metadata": {},
   "outputs": [
    {
     "data": {
      "text/plain": [
       "'Eephant'"
      ]
     },
     "execution_count": 36,
     "metadata": {},
     "output_type": "execute_result"
    }
   ],
   "source": [
    "def remove_i_charater(string,index):\n",
    "    new_string=string.replace(string[index],'')\n",
    "    return new_string\n",
    " \n",
    "\n",
    "remove_i_charater(\"Elephant\",1)#Function call"
   ]
  },
  {
   "cell_type": "markdown",
   "id": "17db425d",
   "metadata": {},
   "source": [
    "3.\tWrite a Python program to split and join a string?"
   ]
  },
  {
   "cell_type": "code",
   "execution_count": 35,
   "id": "c3d857b4",
   "metadata": {},
   "outputs": [
    {
     "name": "stdout",
     "output_type": "stream",
     "text": [
      "original String :  Python Language\n",
      "list of split string :  ['Python', 'Language']\n",
      "Joined string is :  Python-Language\n"
     ]
    }
   ],
   "source": [
    "def split_and_join(string):\n",
    "    print(\"original String : \",string)\n",
    "    split_list=string.split(' ')\n",
    "    \n",
    "    print(\"list of split string : \",split_list)\n",
    "    \n",
    "    string_join= \"-\".join(split_list)\n",
    "    \n",
    "    print(\"Joined string is : \",string_join)\n",
    "\n",
    "string=\"Python Language\"\n",
    "split_and_join(string)  #Function call"
   ]
  },
  {
   "cell_type": "markdown",
   "id": "ecf2b906",
   "metadata": {},
   "source": [
    "4.\tWrite a Python to check if a given string is binary string or not?"
   ]
  },
  {
   "cell_type": "code",
   "execution_count": 34,
   "id": "69e8a07a",
   "metadata": {},
   "outputs": [
    {
     "name": "stdout",
     "output_type": "stream",
     "text": [
      "Given string is binary\n"
     ]
    }
   ],
   "source": [
    "def check_binary_str(string):\n",
    "    if all((character in \"01\") for character in string):\n",
    "        print(\"Given string is binary\")\n",
    "    else:\n",
    "         print(\"Given string is not binary\")\n",
    "\n",
    "\n",
    "string = \"101011000111\";\n",
    "check_binary_str(string)    #Function call\n",
    "    "
   ]
  },
  {
   "cell_type": "markdown",
   "id": "c0207245",
   "metadata": {},
   "source": [
    "5.\tWrite a Python program to find uncommon words from two Strings?"
   ]
  },
  {
   "cell_type": "code",
   "execution_count": 33,
   "id": "db98aa84",
   "metadata": {},
   "outputs": [
    {
     "name": "stdout",
     "output_type": "stream",
     "text": [
      "Uncommon words in the two strings are :  {'Today', 'Holiday'}\n"
     ]
    }
   ],
   "source": [
    "def find_uncommon_words(string1,string2):\n",
    "    set1=set(string1.split(\" \"))\n",
    "    set2=set(string2.split(\" \"))\n",
    "    uncommon_words=set1.symmetric_difference(set2)\n",
    "    print(\"Uncommon words in the two strings are : \",uncommon_words)\n",
    "\n",
    "string1=\"Today is Sunday\"\n",
    "string2=\"Sunday is Holiday\"\n",
    "find_uncommon_words(string1,string2)         #Function call"
   ]
  },
  {
   "cell_type": "markdown",
   "id": "f9bbf617",
   "metadata": {},
   "source": [
    "6.\tWrite a Python to find all duplicate characters in string?"
   ]
  },
  {
   "cell_type": "code",
   "execution_count": 31,
   "id": "0afc5245",
   "metadata": {},
   "outputs": [
    {
     "name": "stdout",
     "output_type": "stream",
     "text": [
      "Duplicate characters in a string are :  g h\n"
     ]
    }
   ],
   "source": [
    "\n",
    "def find_duplicate_charaters(string):\n",
    "    duplicates=[]\n",
    "    for character in string :\n",
    "        if string.count(character)>1:\n",
    "            if character not in duplicates:\n",
    "                duplicates.append(character)\n",
    "    print(\"Duplicate characters in a string are : \",*duplicates)\n",
    "    \n",
    "        \n",
    "s =\"dghhhggunmr\"\n",
    "find_duplicate_charaters(s)  #Function call"
   ]
  },
  {
   "cell_type": "markdown",
   "id": "c3b00fa9",
   "metadata": {},
   "source": [
    "7.\tWrite a Python Program to check if a string contains any special character?"
   ]
  },
  {
   "cell_type": "code",
   "execution_count": 32,
   "id": "d873440e",
   "metadata": {},
   "outputs": [
    {
     "name": "stdout",
     "output_type": "stream",
     "text": [
      "String contains special characters\n"
     ]
    }
   ],
   "source": [
    "import re\n",
    "\n",
    "def check_str_for_special_char(string):\n",
    "    regex = re.compile('[@_!#$%^&*()<>?/\\|}{~:]')\n",
    "    if regex.search(string)==None:\n",
    "        print(\"String does not contain special characters\")\n",
    "              \n",
    "    else:\n",
    "        print(\"String contains special characters\")\n",
    "        \n",
    "\n",
    "        \n",
    "check_str_for_special_char(\"#river\")  #Function call"
   ]
  }
 ],
 "metadata": {
  "kernelspec": {
   "display_name": "Python 3 (ipykernel)",
   "language": "python",
   "name": "python3"
  },
  "language_info": {
   "codemirror_mode": {
    "name": "ipython",
    "version": 3
   },
   "file_extension": ".py",
   "mimetype": "text/x-python",
   "name": "python",
   "nbconvert_exporter": "python",
   "pygments_lexer": "ipython3",
   "version": "3.9.12"
  }
 },
 "nbformat": 4,
 "nbformat_minor": 5
}
