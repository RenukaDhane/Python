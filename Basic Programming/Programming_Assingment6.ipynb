{
 "cells": [
  {
   "cell_type": "markdown",
   "id": "dffd3c53",
   "metadata": {},
   "source": [
    "1.\tWrite a Python Program to Display Fibonacci Sequence Using Recursion?\n"
   ]
  },
  {
   "cell_type": "code",
   "execution_count": 10,
   "id": "a4222a92",
   "metadata": {},
   "outputs": [
    {
     "name": "stdout",
     "output_type": "stream",
     "text": [
      "[0, 1, 1, 2, 3, 5, 8, 13]\n"
     ]
    }
   ],
   "source": [
    "\"\"\"Recursive fibonacci_sequence \"\"\"\n",
    "\n",
    "def fibonacci_sequence(fibo_list=[0,1],max_limit=20):\n",
    "    list_length=len(fibo_list)\n",
    "    append_element=fibo_list[list_length-1] +fibo_list[list_length-2]\n",
    "    if append_element<=max_limit:\n",
    "        fibo_list.append(append_element)\n",
    "    else:\n",
    "        return fibo_list\n",
    "    \n",
    "    return fibonacci_sequence(fibo_list,max_limit)\n",
    "   \n",
    "\n",
    "    \n",
    "print(fibonacci_sequence())"
   ]
  },
  {
   "cell_type": "markdown",
   "id": "cf28ef0b",
   "metadata": {},
   "source": [
    "2.\tWrite a Python Program to Find Factorial of Number Using Recursion?"
   ]
  },
  {
   "cell_type": "code",
   "execution_count": 17,
   "id": "4b9504af",
   "metadata": {},
   "outputs": [
    {
     "data": {
      "text/plain": [
       "24"
      ]
     },
     "execution_count": 17,
     "metadata": {},
     "output_type": "execute_result"
    }
   ],
   "source": [
    "def factorial_of_number(number):\n",
    "    if number==1:\n",
    "        return number\n",
    "    x=factorial_of_number(number-1)\n",
    "    return x*number\n",
    "\n",
    "\n",
    "\n",
    "factorial_of_number(4)"
   ]
  },
  {
   "cell_type": "markdown",
   "id": "8d680a49",
   "metadata": {},
   "source": [
    "3.\tWrite a Python Program to calculate your Body Mass Index?"
   ]
  },
  {
   "cell_type": "code",
   "execution_count": 21,
   "id": "1cb6c441",
   "metadata": {},
   "outputs": [
    {
     "name": "stdout",
     "output_type": "stream",
     "text": [
      "BMI is :  23.80540166204986\n"
     ]
    }
   ],
   "source": [
    "def BMI_calculator(weight_in_kg,height_in_meter):\n",
    "    bmi=weight_in_kg/(height_in_meter**2)\n",
    "    print(\"BMI is : \",bmi)\n",
    "    \n",
    "    \n",
    "BMI_calculator(55,1.52)   "
   ]
  },
  {
   "cell_type": "markdown",
   "id": "10eb732e",
   "metadata": {},
   "source": [
    "\n",
    "4.\tWrite a Python Program to calculate the natural logarithm of any number?"
   ]
  },
  {
   "cell_type": "code",
   "execution_count": 26,
   "id": "d1338c23",
   "metadata": {},
   "outputs": [
    {
     "name": "stdout",
     "output_type": "stream",
     "text": [
      "natural log of  10  is:  2.302585092994046\n"
     ]
    }
   ],
   "source": [
    "import math\n",
    "def natural_log_calculator(number):\n",
    "    log=math.log(number)\n",
    "    print(\"natural log of \",number,\" is: \", log)\n",
    "    \n",
    "    \n",
    "natural_log_calculator(10)    "
   ]
  },
  {
   "cell_type": "markdown",
   "id": "fcbde3e4",
   "metadata": {},
   "source": [
    "5.\tWrite a Python Program for cube sum of first n natural numbers?"
   ]
  },
  {
   "cell_type": "code",
   "execution_count": 25,
   "id": "33f001fb",
   "metadata": {},
   "outputs": [
    {
     "name": "stdout",
     "output_type": "stream",
     "text": [
      "sum_of_cubes of first  3  natural numbers is :  36\n"
     ]
    }
   ],
   "source": [
    "def cube_sum_naturals(n):\n",
    "    sum_of_cubes=sum([i**3 for i in range(1,n+1)])\n",
    "    print(\"sum_of_cubes of first \",n ,\" natural numbers is : \",sum_of_cubes)    \n",
    "\n",
    "\n",
    "cube_sum_naturals(3)"
   ]
  }
 ],
 "metadata": {
  "kernelspec": {
   "display_name": "Python 3 (ipykernel)",
   "language": "python",
   "name": "python3"
  },
  "language_info": {
   "codemirror_mode": {
    "name": "ipython",
    "version": 3
   },
   "file_extension": ".py",
   "mimetype": "text/x-python",
   "name": "python",
   "nbconvert_exporter": "python",
   "pygments_lexer": "ipython3",
   "version": "3.9.12"
  }
 },
 "nbformat": 4,
 "nbformat_minor": 5
}
